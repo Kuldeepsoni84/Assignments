{
 "cells": [
  {
   "cell_type": "code",
   "execution_count": 6,
   "id": "0f12996b-d0cd-48de-9dc5-aa52c30c47eb",
   "metadata": {},
   "outputs": [
    {
     "name": "stdout",
     "output_type": "stream",
     "text": [
      "The value of T(2) is: 105\n"
     ]
    }
   ],
   "source": [
    "#1 Find the val%e of T(2) for the rec%rrence relation T(n) = 3T(n-1) + 12n, given that T(0)=5.\n",
    "def recurrence_relation(n):\n",
    "    if n == 0:\n",
    "        return 5  # Base case: T(0) = 5\n",
    "    else:\n",
    "        return 3 * recurrence_relation(n - 1) + 12 * n\n",
    "\n",
    "# Calculate T(2)\n",
    "result = recurrence_relation(2)\n",
    "\n",
    "print(f\"The value of T(2) is: {result}\")\n"
   ]
  },
  {
   "cell_type": "code",
   "execution_count": 5,
   "id": "a5b9a952-23a7-48c5-98b0-57195ab27824",
   "metadata": {},
   "outputs": [
    {
     "name": "stdout",
     "output_type": "stream",
     "text": [
      "The result for recurrence (a) is: 15\n"
     ]
    }
   ],
   "source": [
    "#2 a. T(n) = T(n-1) + c \n",
    "def recurrence_a(n, c):\n",
    "    if n == 0:\n",
    "        return 0  # Base case\n",
    "    else:\n",
    "        return recurrence_a(n-1, c) + c\n",
    "\n",
    "# Example usage\n",
    "result_a = recurrence_a(5, 3)  # You can replace 5 with any value of n\n",
    "print(f\"The result for recurrence (a) is: {result_a}\")\n",
    "\n"
   ]
  },
  {
   "cell_type": "code",
   "execution_count": 7,
   "id": "0cea07d8-5c87-405c-92dc-86b5223a09ce",
   "metadata": {},
   "outputs": [
    {
     "name": "stdout",
     "output_type": "stream",
     "text": [
      "The result for recurrence (b) is: 32\n"
     ]
    }
   ],
   "source": [
    "#2 b .T(n) = 2T(n/2) + n\n",
    "def recurrence_b(n):\n",
    "    if n == 1:\n",
    "        return 1  # Base case\n",
    "    else:\n",
    "        return 2 * recurrence_b(n // 2) + n\n",
    "\n",
    "# Example usage\n",
    "result_b = recurrence_b(8)  # You can replace 8 with any value of n\n",
    "print(f\"The result for recurrence (b) is: {result_b}\")\n"
   ]
  },
  {
   "cell_type": "code",
   "execution_count": 4,
   "id": "8978292f-4b21-435b-8d91-202470446ca4",
   "metadata": {},
   "outputs": [
    {
     "name": "stdout",
     "output_type": "stream",
     "text": [
      "The result for recurrence (c) is: 28\n"
     ]
    }
   ],
   "source": [
    "#2 c. T(n) = 2T(n/2) + c\n",
    "def recurrence_c(n, c):\n",
    "    if n == 1:\n",
    "        return c  # Base case\n",
    "    else:\n",
    "        return 2 * recurrence_c(n // 2, c) + c\n",
    "\n",
    "# Example usage\n",
    "result_c = recurrence_c(6, 4)  # You can replace 6 with any value of n\n",
    "print(f\"The result for recurrence (c) is: {result_c}\")\n",
    "\n"
   ]
  },
  {
   "cell_type": "code",
   "execution_count": 3,
   "id": "03c7b16a-ca6b-4736-8aa0-2be0fa37151d",
   "metadata": {},
   "outputs": [
    {
     "name": "stdout",
     "output_type": "stream",
     "text": [
      "The result for recurrence (d) is: 10\n"
     ]
    }
   ],
   "source": [
    "#2 d. T(n) = T(n/2) + c\n",
    "import math\n",
    "\n",
    "def recurrence_d(n, c):\n",
    "    if n == 1:\n",
    "        return c  # Base case\n",
    "    else:\n",
    "        return recurrence_d(n // 2, c) + c\n",
    "\n",
    "# Example usage\n",
    "result_d = recurrence_d(16, 2)  # You can replace 16 with any value of n\n",
    "print(f\"The result for recurrence (d) is: {result_d}\")\n"
   ]
  },
  {
   "cell_type": "code",
   "execution_count": 9,
   "id": "5a23e31a-eca6-466b-9b86-d5d08739de09",
   "metadata": {},
   "outputs": [
    {
     "name": "stdout",
     "output_type": "stream",
     "text": [
      "The result for recurrence (a) is: 31\n"
     ]
    }
   ],
   "source": [
    "#3. Given a rec%rrence relation, solve it %sing the rec%rsive tree approach:\n",
    "#a. T(n) = 2T(n-1) +1\n",
    "\n",
    "def recurrence_a(n):\n",
    "    if n == 0:\n",
    "        return 1  # Base case\n",
    "    else:\n",
    "        return 2 * recurrence_a(n - 1) + 1\n",
    "\n",
    "# Example usage\n",
    "n_value = 4\n",
    "\n",
    "# Print the result using the recurrence relation\n",
    "result_a = recurrence_a(n_value)\n",
    "print(f\"The result for recurrence (a) is: {result_a}\")\n",
    "\n"
   ]
  },
  {
   "cell_type": "code",
   "execution_count": null,
   "id": "868a8cac-5f61-4e6e-9b35-d2527c39c717",
   "metadata": {},
   "outputs": [],
   "source": [
    "#3b. T(n) = 2T(n/2) + n\n",
    "def recurrence_a(n):\n",
    "    if n == 1:\n",
    "        return 1  # Base case\n",
    "    else:\n",
    "        return 2 * recurrence_a(n // 2) + n\n",
    "\n",
    "def recursive_tree(n, level=0):\n",
    "    if n == 1:\n",
    "        print(\"  \" * level + f\"T(1)\")\n",
    "        return 1\n",
    "    else:\n",
    "        result = 2 * recursive_tree(n // 2, level + 1) + n\n",
    "        print(\"  \" * level + f\"T({n})\")\n",
    "        return result\n",
    "\n",
    "# Example usage\n",
    "n_value = 8  # You can replace 8 with any value of n\n",
    "\n",
    "print(\"Recursive Tree:\")\n",
    "recursive_tree(n_value)\n",
    "\n",
    "result_a = recurrence_a(n_value)\n",
    "print(f\"\\nThe result for recurrence (a) is: {result_a}\")\n"
   ]
  }
 ],
 "metadata": {
  "kernelspec": {
   "display_name": "Python 3 (ipykernel)",
   "language": "python",
   "name": "python3"
  },
  "language_info": {
   "codemirror_mode": {
    "name": "ipython",
    "version": 3
   },
   "file_extension": ".py",
   "mimetype": "text/x-python",
   "name": "python",
   "nbconvert_exporter": "python",
   "pygments_lexer": "ipython3",
   "version": "3.10.8"
  }
 },
 "nbformat": 4,
 "nbformat_minor": 5
}
