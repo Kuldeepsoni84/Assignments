{
 "cells": [
  {
   "cell_type": "markdown",
   "id": "2bb70e64-d6b0-4be1-8e67-00d00c7ea81a",
   "metadata": {},
   "source": [
    "#1. What is a Python library? Why ^o we use Python libraries?\n",
    "A Python library is a collection of pre-written Python code that provides functionalities and tools to perform specific tasks or solve particular problems. These libraries are designed to be reusable and can be imported into Python scripts or programs to extend their capabilities without having to write code from scratch.\n",
    "\n",
    "There are several reasons why we use Python libraries:\n",
    "\n",
    "Reusability: Python libraries contain pre-written code that can be reused in different projects, saving time and effort. Instead of writing code to implement common functionalities, developers can leverage existing libraries.\n",
    "\n",
    "Efficiency: Python libraries are typically optimized for performance and reliability. By using well-tested and optimized code from libraries, developers can build applications more efficiently and with fewer bugs.\n",
    "\n",
    "Specialized Functionality: Python libraries often provide specialized functionalities for specific domains or tasks. For example, there are libraries for data analysis, machine learning, web development, image processing, and more. These libraries offer ready-made solutions tailored to particular needs.\n",
    "\n",
    "Community Support: Many Python libraries are open-source and have active communities of developers contributing to their development and maintenance. This means that users can benefit from community support, documentation, tutorials, and updates to the libraries over time.\n",
    "\n",
    "Interoperability: Python libraries are designed to work well with other Python code and external systems. They often provide interfaces and APIs for interacting with external services, databases, file formats, and other software components.\n",
    "\n",
    "Overall, Python libraries play a crucial role in extending the capabilities of the Python programming language, making it a versatile and powerful tool for a wide range of applications and domains."
   ]
  },
  {
   "cell_type": "markdown",
   "id": "b330f1a9-402f-45ab-b6a6-a4dfbabc6fb8",
   "metadata": {},
   "source": [
    "#2. What is the ^ifference between Numpy array an^ List?\n",
    "The difference between NumPy arrays and Python lists lies primarily in their underlying implementation, functionality, and performance characteristics. Here's a comparison between NumPy arrays and Python lists:\n",
    "\n",
    "Data Structure:\n",
    "\n",
    "NumPy Array: NumPy arrays are homogeneous data structures, meaning they contain elements of the same data type. NumPy arrays are implemented in C and provide a contiguous block of memory, which allows for efficient computation and vectorized operations.\n",
    "Python List: Python lists are heterogeneous data structures, meaning they can contain elements of different data types. Lists are implemented as dynamic arrays in Python, allowing for flexible resizing and mixed data types.\n",
    "Performance:\n",
    "\n",
    "NumPy Array: NumPy arrays are optimized for numerical computations and vectorized operations. They are more memory-efficient and faster than Python lists, especially for large datasets and numerical computations involving array operations.\n",
    "Python List: Python lists are more flexible but less efficient in terms of memory usage and performance compared to NumPy arrays. Iterating over Python lists or performing operations on each element individually can be slower than using NumPy arrays.\n",
    "Functionality:\n",
    "\n",
    "NumPy Array: NumPy arrays provide a wide range of mathematical functions and operations for numerical computing, such as element-wise arithmetic operations, linear algebra, statistical functions, and more. They also support broadcasting, which allows for efficient computation on arrays of different shapes.\n",
    "Python List: Python lists offer more general-purpose functionality and support a variety of operations such as appending, slicing, concatenating, and iterating over elements. However, they lack specialized numerical functions and operations available in NumPy.\n",
    "Syntax:\n",
    "\n",
    "NumPy Array: NumPy arrays are created using the numpy.array() function or by converting other data structures like lists or tuples using numpy.asarray(). Operations on NumPy arrays often use vectorized syntax, which allows for concise and efficient code.\n",
    "Python List: Python lists are created using square brackets [ ] or by using the list() constructor. Operations on lists are typically performed using Python's built-in functions and methods or through list comprehensions."
   ]
  },
  {
   "cell_type": "code",
   "execution_count": 1,
   "id": "0cabcb56-2a4c-4ef2-9003-af8dab0e631e",
   "metadata": {},
   "outputs": [
    {
     "name": "stdout",
     "output_type": "stream",
     "text": [
      "Shape: (3, 4)\n",
      "Size: 12\n",
      "Dimension: 2\n"
     ]
    }
   ],
   "source": [
    "'''3. Find the shape, size and dimension of the following array?\n",
    "\n",
    "[[1, 2, 3, 4]\n",
    "\n",
    "[5, 6, 7, 8],\n",
    "\n",
    "[9, 10, 11, 12]]'''\n",
    "\n",
    "'''#Solution:-\n",
    "Shape: The shape of an array gives the number of rows and columns it contains.\n",
    "\n",
    "In this case, the array has 3 rows and 4 columns.\n",
    "So, the shape of the array is (3, 4).\n",
    "Size: The size of an array represents the total number of elements in the array.\n",
    "\n",
    "In this case, the array has 3 rows and 4 columns, so it contains a total of 3 * 4 = 12 elements.\n",
    "So, the size of the array is 12.\n",
    "Dimension: The dimension of an array represents the number of axes (or directions) along which the array extends.\n",
    "\n",
    "In this case, the array is a 2-dimensional array because it has both rows and columns.\n",
    "So, the dimension of the array is 2.'''\n",
    "import numpy as np\n",
    "\n",
    "# Define the array using NumPy\n",
    "arr = np.array([[1, 2, 3, 4],\n",
    "                [5, 6, 7, 8],\n",
    "                [9, 10, 11, 12]])\n",
    "\n",
    "# Find the shape, size, and dimension of the array\n",
    "shape = arr.shape\n",
    "size = arr.size\n",
    "dimension = arr.ndim\n",
    "\n",
    "# Print the results\n",
    "print(\"Shape:\", shape)\n",
    "print(\"Size:\", size)\n",
    "print(\"Dimension:\", dimension)\n",
    "\n"
   ]
  },
  {
   "cell_type": "code",
   "execution_count": 2,
   "id": "5ae26287-4159-46e4-bec1-521c12138ce1",
   "metadata": {},
   "outputs": [
    {
     "name": "stdout",
     "output_type": "stream",
     "text": [
      "First row (NumPy array): [1 2 3 4]\n"
     ]
    }
   ],
   "source": [
    "'''4. Write python co^e to access the first row of the following array?\n",
    "\n",
    "[[1, 2, 3, 4]\n",
    "\n",
    "[5, 6, 7, 8],\n",
    "\n",
    "[9, 10, 11, 12]]'''\n",
    "import numpy as np\n",
    "\n",
    "# Given array as a NumPy array\n",
    "array_np = np.array([[1, 2, 3, 4],\n",
    "                     [5, 6, 7, 8],\n",
    "                     [9, 10, 11, 12]])\n",
    "\n",
    "# Access the first row\n",
    "first_row_np = array_np[0]\n",
    "\n",
    "# Print the first row\n",
    "print(\"First row (NumPy array):\", first_row_np)\n"
   ]
  },
  {
   "cell_type": "code",
   "execution_count": 3,
   "id": "0d5da1f6-0be5-4da7-9a4f-82ba6cba4e42",
   "metadata": {},
   "outputs": [
    {
     "name": "stdout",
     "output_type": "stream",
     "text": [
      "Element at the third row and fourth column: 12\n"
     ]
    }
   ],
   "source": [
    "'''5. How to you access the element at the third row and fourth column from the given numpy array?\n",
    "\n",
    "[[1, 2, 3, 4]\n",
    "\n",
    "[5, 6, 7, 8],\n",
    "\n",
    "[9, 10, 11, 12]]'''\n",
    "import numpy as np\n",
    "\n",
    "# Given NumPy array\n",
    "array = np.array([[1, 2, 3, 4],\n",
    "                  [5, 6, 7, 8],\n",
    "                  [9, 10, 11, 12]])\n",
    "\n",
    "# Access the element at the third row and fourth column\n",
    "element = array[2, 3]  # Third row (index 2), fourth column (index 3)\n",
    "\n",
    "# Print the element\n",
    "print(\"Element at the third row and fourth column:\", element)\n",
    "\n"
   ]
  },
  {
   "cell_type": "code",
   "execution_count": 4,
   "id": "fe71ed40-6ec2-4368-a15a-633f28946559",
   "metadata": {},
   "outputs": [
    {
     "name": "stdout",
     "output_type": "stream",
     "text": [
      "Odd-indexed elements:\n",
      "[[ 2  4]\n",
      " [ 6  8]\n",
      " [10 12]]\n"
     ]
    }
   ],
   "source": [
    "'''6. Write code to extract all odd indexed elements from the given numpy array?\n",
    "\n",
    "[[1, 2, 3, 4]\n",
    "\n",
    "[5, 6, 7, 8],\n",
    "\n",
    "[9, 10, 11, 12]]'''\n",
    "import numpy as np\n",
    "\n",
    "# Given NumPy array\n",
    "array = np.array([[1, 2, 3, 4],\n",
    "                  [5, 6, 7, 8],\n",
    "                  [9, 10, 11, 12]])\n",
    "\n",
    "# Extract all odd-indexed elements\n",
    "odd_indexed_elements = array[:, 1::2]  # Start from index 1, step by 2 along the columns\n",
    "\n",
    "# Print the extracted elements\n",
    "print(\"Odd-indexed elements:\")\n",
    "print(odd_indexed_elements)\n"
   ]
  },
  {
   "cell_type": "code",
   "execution_count": 7,
   "id": "43d2d210-ec85-4c8a-a174-3313dbfa63a1",
   "metadata": {},
   "outputs": [
    {
     "name": "stdout",
     "output_type": "stream",
     "text": [
      "[[0.09603009 0.72639857 0.18871546]\n",
      " [0.59883041 0.12116191 0.36396715]\n",
      " [0.84578966 0.08848141 0.25392764]]\n"
     ]
    }
   ],
   "source": [
    "'''7. How can you generate a random 3x3 matrix with values between 0 and 1?'''\n",
    "import numpy as np\n",
    "array=np.random.rand(3,3)\n",
    "print(array)\n"
   ]
  },
  {
   "cell_type": "markdown",
   "id": "d11b0a20-eff3-4556-8844-f85322b075f8",
   "metadata": {},
   "source": [
    "#8. Describe the difference between np.ran^dm.rand and np.random.randn?\n",
    "The np.random.rand and np.random.randn functions in NumPy are used to generate random numbers, but they have differences in terms of the distributions from which they sample.\n",
    "\n",
    "np.random.rand:\n",
    "\n",
    "This function generates random numbers from a uniform distribution over the interval [0, 1).\n",
    "The generated values are uniformly distributed between 0 (inclusive) and 1 (exclusive).\n",
    "You can specify the shape of the output array as arguments to this function.\n",
    "Example usage: np.random.rand(3, 3) generates a 3x3 array with random values between 0 and 1.\n",
    "np.random.randn:\n",
    "\n",
    "This function generates random numbers from a standard normal distribution (Gaussian distribution) with mean 0 and standard deviation 1.\n",
    "The generated values follow a bell-shaped curve centered around 0, with the majority of values falling close to the mean and fewer values farther away.\n",
    "You can specify the shape of the output array as arguments to this function.\n",
    "Example usage: np.random.randn(3, 3) generates a 3x3 array with random values sampled from a standard normal distribution."
   ]
  },
  {
   "cell_type": "code",
   "execution_count": 8,
   "id": "ac481e3d-4b95-4229-9c8f-e7e9eaa573be",
   "metadata": {},
   "outputs": [
    {
     "name": "stdout",
     "output_type": "stream",
     "text": [
      "Original array:\n",
      "[[ 1  2  3  4]\n",
      " [ 5  6  7  8]\n",
      " [ 9 10 11 12]]\n",
      "\n",
      "Expanded array:\n",
      "[[[ 1  2  3  4]\n",
      "  [ 5  6  7  8]\n",
      "  [ 9 10 11 12]]]\n"
     ]
    }
   ],
   "source": [
    "'''9. Write code to increase the dimension of the following array?\n",
    "\n",
    "[[1, 2, 3, 4]\n",
    "\n",
    "[5, 6, 7, 8],\n",
    "\n",
    "[9, 10, 11, 12]]'''\n",
    "'''You can increase the dimension of the given array by using NumPy's np.expand_dims() function. This function adds an extra dimension'''\n",
    "import numpy as np\n",
    "\n",
    "# Given array\n",
    "array = np.array([[1, 2, 3, 4],\n",
    "                  [5, 6, 7, 8],\n",
    "                  [9, 10, 11, 12]])\n",
    "\n",
    "# Increase the dimension of the array\n",
    "expanded_array = np.expand_dims(array, axis=0)\n",
    "\n",
    "# Print the original and expanded arrays\n",
    "print(\"Original array:\")\n",
    "print(array)\n",
    "print(\"\\nExpanded array:\")\n",
    "print(expanded_array)\n"
   ]
  },
  {
   "cell_type": "code",
   "execution_count": 9,
   "id": "c38c0153-1e50-4122-857c-e0f06f609b71",
   "metadata": {},
   "outputs": [
    {
     "name": "stdout",
     "output_type": "stream",
     "text": [
      "Transposed array:\n",
      "[[ 1  5  9]\n",
      " [ 2  6 10]\n",
      " [ 3  7 11]\n",
      " [ 4  8 12]]\n"
     ]
    }
   ],
   "source": [
    "'''\n",
    "10. How to transpose the following array in NumPy?\n",
    "\n",
    "[[1, 2, 3, 4]\n",
    "\n",
    "[5, 6, 7, 8],\n",
    "\n",
    "[9, 10, 11, 12]]\n",
    "'''\n",
    "import numpy as np\n",
    "\n",
    "# Given array\n",
    "array = np.array([[1, 2, 3, 4],\n",
    "                  [5, 6, 7, 8],\n",
    "                  [9, 10, 11, 12]])\n",
    "\n",
    "# Transpose the array using numpy.transpose()\n",
    "transposed_array = np.transpose(array)\n",
    "\n",
    "# Print the transposed array\n",
    "print(\"Transposed array:\")\n",
    "print(transposed_array)\n"
   ]
  },
  {
   "cell_type": "code",
   "execution_count": 10,
   "id": "5586a338-727d-4a25-b11c-bf5435937313",
   "metadata": {},
   "outputs": [
    {
     "name": "stdout",
     "output_type": "stream",
     "text": [
      "1. Index wise multiplication:\n",
      "[[  1   4   9  16]\n",
      " [ 25  36  49  64]\n",
      " [ 81 100 121 144]]\n",
      "\n",
      "2. Matrix multiplication:\n",
      "[[ 30  70 110]\n",
      " [ 70 174 278]\n",
      " [110 278 446]]\n",
      "\n",
      "3. Addition of matrices:\n",
      "[[ 2  4  6  8]\n",
      " [10 12 14 16]\n",
      " [18 20 22 24]]\n",
      "\n",
      "4. Subtraction of matrix B from A:\n",
      "[[0 0 0 0]\n",
      " [0 0 0 0]\n",
      " [0 0 0 0]]\n",
      "\n",
      "5. Division of Matrix B by A:\n",
      "[[1. 1. 1. 1.]\n",
      " [1. 1. 1. 1.]\n",
      " [1. 1. 1. 1.]]\n"
     ]
    }
   ],
   "source": [
    "'''11. Consider the following matrix:\n",
    "\n",
    "Matrix A2 [[1, 2, 3, 4] [5, 6, 7, 8],[9, 10, 11, 12]]\n",
    "\n",
    "Matrix B2 [[1, 2, 3, 4] [5, 6, 7, 8],[9, 10, 11, 12]]\n",
    "\n",
    "\n",
    "Perform the following operation using Python1\n",
    "1, Index wise multiplication\n",
    "2, Matrix multiplication\n",
    "3,Add both the matrix\n",
    "4,Subtract matrix B from \n",
    "5, Divide Matrix B by A\n",
    "\n",
    "'''\n",
    "import numpy as np\n",
    "\n",
    "# Define Matrix A2\n",
    "A2 = np.array([[1, 2, 3, 4],\n",
    "               [5, 6, 7, 8],\n",
    "               [9, 10, 11, 12]])\n",
    "\n",
    "# Define Matrix B2\n",
    "B2 = np.array([[1, 2, 3, 4],\n",
    "               [5, 6, 7, 8],\n",
    "               [9, 10, 11, 12]])\n",
    "\n",
    "# 1. Index wise multiplication\n",
    "index_wise_multiplication = A2 * B2\n",
    "print(\"1. Index wise multiplication:\")\n",
    "print(index_wise_multiplication)\n",
    "\n",
    "# 2. Matrix multiplication\n",
    "matrix_multiplication = np.dot(A2, B2.T)  # Assuming you want to perform matrix multiplication and transpose B2\n",
    "print(\"\\n2. Matrix multiplication:\")\n",
    "print(matrix_multiplication)\n",
    "\n",
    "# 3. Add both the matrices\n",
    "addition = np.add(A2, B2)\n",
    "print(\"\\n3. Addition of matrices:\")\n",
    "print(addition)\n",
    "\n",
    "# 4. Subtract matrix B from A\n",
    "subtraction = np.subtract(A2, B2)\n",
    "print(\"\\n4. Subtraction of matrix B from A:\")\n",
    "print(subtraction)\n",
    "\n",
    "# 5. Divide Matrix B by A\n",
    "division = np.divide(B2, A2)\n",
    "print(\"\\n5. Division of Matrix B by A:\")\n",
    "print(division)\n"
   ]
  },
  {
   "cell_type": "code",
   "execution_count": 11,
   "id": "bd2ca4d9-1d38-4984-830c-37e2a6aa7c7b",
   "metadata": {},
   "outputs": [
    {
     "name": "stdout",
     "output_type": "stream",
     "text": [
      "Original array: [1 2 3 4]\n",
      "Swapped array: [16777216 33554432 50331648 67108864]\n"
     ]
    }
   ],
   "source": [
    "#12.  Which function in Numpy can be used to swap the byte order of an array?\n",
    "\n",
    "\n",
    "import numpy as np\n",
    "\n",
    "# Create an array with a specific byte order (little endian)\n",
    "arr = np.array([1, 2, 3, 4], dtype=np.int32)\n",
    "\n",
    "# Swap the byte order of the array\n",
    "arr_swapped = arr.byteswap()\n",
    "\n",
    "# Print the original and swapped arrays\n",
    "print(\"Original array:\", arr)\n",
    "print(\"Swapped array:\", arr_swapped)\n"
   ]
  },
  {
   "cell_type": "markdown",
   "id": "7f6274f0-60a8-491c-88a5-f46dacdc1b87",
   "metadata": {},
   "source": [
    "#13.  What is the significance of the np.linalg.inv function?\n",
    "The np.linalg.inv function in NumPy is like a magic tool that helps you reverse the effects of a square magic square. Imagine you have a magic square (a special type of grid filled with numbers) that transforms other squares when you combine them. The np.linalg.inv function tells you how to undo that transformation, so you can get back to your original square.\n",
    "\n",
    "Solving Linear Systems of Equations: It's like having a recipe to make a cake. If you know how to make a cake (the magic square), and someone gives you the final cake (a result), you can use the recipe in reverse to figure out what ingredients you need (solve for variables) to make that cake.\n",
    "\n",
    "Eigenvalue and Eigenvector Computation: Imagine you have a special box that turns objects inside it when you close the lid. The np.linalg.inv function helps you figure out what you put inside the box originally by looking at how the objects have changed.\n",
    "\n",
    "Determinant Computation: Think of the determinant as a special number that describes how much a magic square stretches or squishes things. The np.linalg.inv function helps you find this special number by undoing the stretching or squishing that the magic square does.\n",
    "\n",
    "Orthogonalization and Projection: It's like having a pair of glasses that helps you see things from a different angle. The np.linalg.inv function helps you find out how to adjust the glasses to see things from the original angle again.\n",
    "\n",
    "Regularization: Imagine you have a wonky table, and you need to put something underneath one of the legs to make it level. The np.linalg.inv function helps you figure out what to put under the leg to balance the table perfectly.\n",
    " "
   ]
  },
  {
   "cell_type": "code",
   "execution_count": 12,
   "id": "087cb671-050b-4130-b6ec-89b5b375d334",
   "metadata": {},
   "outputs": [
    {
     "name": "stdout",
     "output_type": "stream",
     "text": [
      "Original array:\n",
      "[1 2 3 4 5 6]\n",
      "\n",
      "Reshaped array:\n",
      "[[1 2 3]\n",
      " [4 5 6]]\n"
     ]
    }
   ],
   "source": [
    "#14. What does the np.reshape function do, and how is it used?\n",
    "'''The np.reshape function in NumPy is used to change the shape (dimensions) of an array while keeping the same data. It allows you to rearrange the elements of an array into a new shape without changing their values.\n",
    "\n",
    "Here's what np.reshape does and how it's used:\n",
    "\n",
    "Changing Array Shape: The primary purpose of np.reshape is to change the shape of an array. You can specify the new shape using a tuple of integers representing the desired dimensions.\n",
    "\n",
    "Keeping Data Unchanged: When you reshape an array using np.reshape, the total number of elements in the reshaped array must remain the same as the original array. The function doesn't add or remove elements; it just rearranges them.\n",
    "\n",
    "Row-Major Order: By default, NumPy uses row-major order (also known as C-style order) when reshaping arrays. This means that elements are read and written in rows (from left to right) before moving to the next row.'''\n",
    "import numpy as np\n",
    "\n",
    "# Create a 1D array\n",
    "arr = np.array([1, 2, 3, 4, 5, 6])\n",
    "\n",
    "# Reshape the 1D array into a 2D array with 2 rows and 3 columns\n",
    "reshaped_arr = np.reshape(arr, (2, 3))\n",
    "\n",
    "# Print the original and reshaped arrays\n",
    "print(\"Original array:\")\n",
    "print(arr)\n",
    "print(\"\\nReshaped array:\")\n",
    "print(reshaped_arr)\n"
   ]
  },
  {
   "cell_type": "code",
   "execution_count": null,
   "id": "741fcd8d-f1e8-478f-a48b-2ef479533ef2",
   "metadata": {},
   "outputs": [],
   "source": [
    "#15. What is broadcasting in Numpy?\n",
    "'''Broadcasting in NumPy is a powerful mechanism that allows arrays with different shapes to be combined and operated on together. It enables you to perform element-wise operations between arrays of different shapes without explicitly reshaping them to match.\n",
    "\n",
    "Here's an overview of how broadcasting works in NumPy:\n",
    "\n",
    "Implicit Expansion: Broadcasting occurs when NumPy automatically expands arrays with smaller shapes to match the shape of larger arrays during arithmetic operations.\n",
    "\n",
    "Rules of Broadcasting:\n",
    "\n",
    "If two arrays have different numbers of dimensions, the shape of the one with fewer dimensions is padded with ones on its left side.\n",
    "If the shape of the two arrays doesn't match along any dimension, the array with shape equal to 1 along that dimension is stretched to match the shape of the other array.\n",
    "If neither array has a shape of 1 along a particular dimension, and their shapes don't match, NumPy raises a ValueError.\n",
    "Benefits:\n",
    "\n",
    "Simplifies Code: Broadcasting allows you to write concise and readable code by eliminating the need for explicit loops or reshaping operations.\n",
    "Performance: Broadcasting is implemented in highly optimized C code within NumPy, leading to efficient computation.'''\n",
    "import numpy as np\n",
    "\n",
    "# Create two arrays with different shapes\n",
    "a = np.array([1, 2, 3])\n",
    "b = np.array([[4], [5], [6]])\n",
    "\n",
    "# Perform element-wise addition using broadcasting\n",
    "result = a + b\n",
    "\n",
    "print(result)\n"
   ]
  }
 ],
 "metadata": {
  "kernelspec": {
   "display_name": "Python 3 (ipykernel)",
   "language": "python",
   "name": "python3"
  },
  "language_info": {
   "codemirror_mode": {
    "name": "ipython",
    "version": 3
   },
   "file_extension": ".py",
   "mimetype": "text/x-python",
   "name": "python",
   "nbconvert_exporter": "python",
   "pygments_lexer": "ipython3",
   "version": "3.10.8"
  }
 },
 "nbformat": 4,
 "nbformat_minor": 5
}
