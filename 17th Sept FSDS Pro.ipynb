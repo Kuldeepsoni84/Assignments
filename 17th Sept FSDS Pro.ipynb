{
 "cells": [
  {
   "cell_type": "code",
   "execution_count": 1,
   "id": "a51af49a-d0e3-43ff-94a7-b24f702f1392",
   "metadata": {},
   "outputs": [
    {
     "name": "stdout",
     "output_type": "stream",
     "text": [
      "1\n",
      "2\n",
      "3\n",
      "4\n",
      "5\n",
      "6\n",
      "7\n",
      "8\n",
      "9\n",
      "10\n"
     ]
    }
   ],
   "source": [
    "#1 Write a Python program to print numbers from 1 to 10 using a for loop.\n",
    "for number in range(1, 11):\n",
    "    print(number)"
   ]
  },
  {
   "cell_type": "raw",
   "id": "0f8fa120-7c38-4b3b-95e7-4c53065662cb",
   "metadata": {},
   "source": [
    "#2 Explain the difference between a for loop and a while loop in Python.\n",
    "\n",
    "For Loop:\n",
    "\n",
    "Use Case:\n",
    "\n",
    "A for loop is typically used when you know in advance how many times you want to repeat a block of code or when you want to iterate over a sequence of items.\n",
    "Structure:\n",
    "\n",
    "It follows a predefined structure with a specific number of iterations.\n",
    "Syntax: for variable in iterable:\n",
    "Control Flow:\n",
    "\n",
    "It iterates over a sequence (e.g., a list, tuple, range, string) or any iterable object.\n",
    "The loop executes for each item in the iterable.\n",
    "Termination:\n",
    "\n",
    "The loop terminates automatically after iterating through all items in the iterable.\n",
    "Example:\n",
    "\n",
    "for i in range(1, 6):\n",
    "    print(i)\n",
    "This for loop prints numbers from 1 to 5 because it specifies a range of values.\n",
    "\n",
    "While Loop:\n",
    "\n",
    "Use Case:\n",
    "\n",
    "A while loop is used when you want to repeat a block of code as long as a specific condition remains True, \n",
    "and you might not know in advance how many iterations are needed.\n",
    "Structure:\n",
    "\n",
    "It relies on a condition that controls when the loop continues or terminates.\n",
    "Syntax: while condition:\n",
    "Control Flow:\n",
    "\n",
    "It keeps looping as long as the specified condition is True.\n",
    "The loop may or may not execute depending on the condition from the beginning.\n",
    "Termination:\n",
    "\n",
    "The loop terminates when the condition becomes False.\n",
    "If the condition is False initially, the loop may not run at all.\n",
    "Example:\n",
    "\n",
    "count = 1\n",
    "while count <= 5:\n",
    "    print(count)\n",
    "    count += 1\n",
    "This while loop prints numbers from 1 to 5 because it keeps going as long as count is less than or equal to 5.\n",
    "\n",
    "Key Difference:\n",
    "\n",
    "A for loop is used when you have a fixed number of iterations and a known sequence to iterate over, \n",
    "while a while loop is used when you want to keep iterating as long as a specific condition remains True, \n",
    "and you may not know in advance how many iterations are needed.\n",
    "\n",
    "A for loop is like saying \"do this for each item in the list,\n",
    "\"while a while loop is like saying \"keep doing this until something changes.\""
   ]
  },
  {
   "cell_type": "code",
   "execution_count": null,
   "id": "03588428-ec8e-43c0-9d25-013671827673",
   "metadata": {},
   "outputs": [],
   "source": [
    "#3.Write a Python program to calculate the sum of all numbers from 1 to 100 using a for loop.\n",
    "total = 0  # Initialize a variable to store the sum\n",
    "\n",
    "for number in range(1, 101):\n",
    "    total += number\n",
    "\n",
    "print(\"The sum of numbers from 1 to 100 is:\", total)\n"
   ]
  },
  {
   "cell_type": "markdown",
   "id": "e4a2fa78-41ff-4a0d-8f29-624c7d480b3e",
   "metadata": {},
   "source": [
    "# 4.How do you iterate through a list using a for loop in Python?\n",
    "To iterate through a list using a for loop in Python, you can follow these steps:\n",
    "\n",
    "Create a List: First, you should have a list that you want to iterate through. For example:\n",
    "\n",
    "\n",
    "my_list = [1, 2, 3, 4, 5]\n",
    "Use a for Loop: Use a for loop to iterate through the elements of the list. The basic syntax is:\n",
    "\n",
    "\n",
    "for element in my_list:\n",
    "    # Code to be executed for each element\n",
    "Here, element is a variable that represents each item in the list during each iteration of the loop.\n",
    "\n",
    "Perform Actions: Inside the loop, you can perform any actions you want with the current element. For example, you can print it or perform some calculations.\n",
    "\n",
    "\n",
    "\n",
    "for number in my_list:\n",
    "    print(number)\n",
    "This loop will print each number in the list one by one.\n",
    "\n",
    "Finish the Loop: The loop will automatically iterate through all the elements in the list, and when it's done, your code continues with the next instruction after the loop.\n",
    "\n",
    "Here's a complete example:\n",
    "\n",
    "python\n",
    "\n",
    "my_list = [1, 2, 3, 4, 5]\n",
    "\n",
    "for number in my_list:\n",
    "    print(number)"
   ]
  },
  {
   "cell_type": "code",
   "execution_count": null,
   "id": "b5564aab-c2fc-47ec-a04e-be0a8e28c5d0",
   "metadata": {},
   "outputs": [],
   "source": [
    "#5  Write a Python program to find the product of all elements in a list using a for loop.\n",
    "# Define a list of numbers\n",
    "numbers = [2, 3, 4, 5, 6]\n",
    "\n",
    "# Initialize a variable to store the product, starting with 1\n",
    "product = 1\n",
    "\n",
    "# Calculate the product using a for loop\n",
    "for num in numbers:\n",
    "    product *= num\n",
    "\n",
    "# Print the result\n",
    "print(f\"The product of all elements in the list is: {product}\")\n"
   ]
  },
  {
   "cell_type": "code",
   "execution_count": null,
   "id": "598bda7c-61c3-4cc7-84b4-572d8e6da02c",
   "metadata": {},
   "outputs": [],
   "source": [
    "#6  Create a Python program that prints all even numbers from 1 to 20 using a for loop.\n",
    "\n",
    "for number in range(2, 21, 2):\n",
    "    print(number)"
   ]
  },
  {
   "cell_type": "code",
   "execution_count": null,
   "id": "3e2f2aba-0614-4a4a-974f-339b20f7d302",
   "metadata": {},
   "outputs": [],
   "source": [
    "#7  Write a Python program that calculates the factorial of a number using a for loop.\n",
    "# Input: Get the number for which you want to calculate the factorial\n",
    "num = int(input(\"Enter a number: \"))\n",
    "\n",
    "# Initialize a variable to store the factorial, starting with 1\n",
    "factorial = 1\n",
    "\n",
    "# Calculate the factorial using a for loop\n",
    "for i in range(1, num + 1):\n",
    "    factorial *= i\n",
    "\n",
    "# Print the result\n",
    "print(f\"The factorial of {num} is {factorial}\")"
   ]
  },
  {
   "cell_type": "code",
   "execution_count": null,
   "id": "ad430651-2e6e-4b72-a772-6cc3f80c37cb",
   "metadata": {},
   "outputs": [],
   "source": [
    "#8   How can you iterate through the characters of a string using a for loop in Python?\n",
    "# Define a string\n",
    "my_string = \"Hello, World!\"\n",
    "\n",
    "# Use a for loop to iterate through the characters\n",
    "for char in my_string:\n",
    "    print(char)\n",
    "'''\n",
    "In this code:\n",
    "\n",
    "We define a string called my_string that contains the text you want to iterate through.\n",
    "\n",
    "We use a for loop to iterate through the characters of the string. In each iteration, \n",
    "the char variable represents the current character.\n",
    "\n",
    "Inside the loop, you can perform any actions you want with the current character. \n",
    "In this example, we are simply printing each character one by one.\n",
    "\n",
    "When you run this program, it will print each character in the string my_string one by one, \n",
    "including letters, spaces, and punctuation:\n",
    "'''"
   ]
  },
  {
   "cell_type": "code",
   "execution_count": null,
   "id": "318b6c70-b792-408e-b081-09055aede1ae",
   "metadata": {},
   "outputs": [],
   "source": [
    "#9   Write a Python program to find the largest number in a list using a for loop.\n",
    "# Define a list of numbers\n",
    "numbers = [10, 3, 45, 7, 32, 56, 8]\n",
    "\n",
    "# Initialize a variable to store the largest number with the first element of the list\n",
    "largest = numbers[0]\n",
    "\n",
    "# Use a for loop to find the largest number\n",
    "for num in numbers:\n",
    "    if num > largest:\n",
    "        largest = num\n",
    "\n",
    "# Print the result\n",
    "print(f\"The largest number in the list is: {largest}\")\n"
   ]
  },
  {
   "cell_type": "code",
   "execution_count": null,
   "id": "b98d6bd7-fdda-418d-ad0b-de93e025b945",
   "metadata": {},
   "outputs": [],
   "source": [
    "#10  Create a Python program that prints the Fibonacci sequence up to a specified limit using a for loop.\n",
    "\n",
    "# Get the limit from the user\n",
    "limit = int(input(\"Enter the limit for the Fibonacci sequence: \"))\n",
    "\n",
    "# Initialize the first two Fibonacci numbers\n",
    "a, b = 0, 1\n",
    "\n",
    "# Print the first two Fibonacci numbers\n",
    "print(a)\n",
    "print(b)\n",
    "\n",
    "# Use a for loop to generate and print the Fibonacci sequence\n",
    "for _ in range(2, limit):\n",
    "    next_fib = a + b\n",
    "    print(next_fib)\n",
    "    a, b = b, next_fib\n"
   ]
  },
  {
   "cell_type": "code",
   "execution_count": null,
   "id": "863f2a6f-f1cb-4675-9967-6642a31df1c9",
   "metadata": {},
   "outputs": [],
   "source": [
    "#11  Write a Python program to count the number of vowels in a given string using a for loop.\n",
    "# Get the input string from the user\n",
    "input_string = input(\"Enter a string: \")\n",
    "\n",
    "# Initialize a variable to count the vowels\n",
    "vowel_count = 0\n",
    "\n",
    "# Convert the input string to lowercase to make it case-insensitive\n",
    "input_string = input_string.lower()\n",
    "\n",
    "# Define a list of vowels\n",
    "vowels = \"aeiou\"\n",
    "\n",
    "# Use a for loop to count the vowels\n",
    "for char in input_string:\n",
    "    if char in vowels:\n",
    "        vowel_count += 1\n",
    "\n",
    "# Print the result\n",
    "print(f\"The number of vowels in the string is: {vowel_count}\")\n"
   ]
  },
  {
   "cell_type": "code",
   "execution_count": null,
   "id": "d6238829-e2aa-42d9-95c7-b551b5326193",
   "metadata": {},
   "outputs": [],
   "source": [
    "#12  Create a Python program that generates a multiplication table for a given number using a for loop.\n",
    "# Get the number from the user\n",
    "num = int(input(\"Enter a number: \"))\n",
    "\n",
    "# Generate and print the multiplication table\n",
    "for i in range(1, 11):\n",
    "    product = num * i\n",
    "    print(f\"{num} x {i} = {product}\")\n"
   ]
  },
  {
   "cell_type": "code",
   "execution_count": null,
   "id": "a8836794-680a-471a-8253-b0e82749e8e4",
   "metadata": {},
   "outputs": [],
   "source": [
    "#13  Write a Python program to reverse a list using a for loop.\n",
    "\n",
    "# Define a list\n",
    "my_list = [1, 2, 3, 4, 5]\n",
    "\n",
    "# Initialize an empty list to store the reversed elements\n",
    "reversed_list = []\n",
    "\n",
    "# Use a for loop to reverse the list\n",
    "for item in my_list:\n",
    "    reversed_list.insert(0, item)\n",
    "\n",
    "print(reversed_list)\n"
   ]
  },
  {
   "cell_type": "code",
   "execution_count": null,
   "id": "7ad00815-f69b-4600-a6f5-7fcfd904ab4e",
   "metadata": {},
   "outputs": [],
   "source": [
    "#14  Write a Python program to find the common elements between two lists using a for loop.\n",
    "# Define two lists\n",
    "list1 = [1, 2, 3, 4, 5]\n",
    "list2 = [3, 4, 5, 6, 7]\n",
    "\n",
    "# Initialize an empty list to store common elements\n",
    "common_elements = []\n",
    "\n",
    "# Use a for loop to find common elements\n",
    "for item in list1:\n",
    "    if item in list2:\n",
    "        common_elements.append(item)\n",
    "\n",
    "print(common_elements)\n"
   ]
  },
  {
   "cell_type": "code",
   "execution_count": null,
   "id": "c619a768-9ecf-4793-ad7e-3f4d4576410e",
   "metadata": {},
   "outputs": [],
   "source": [
    "#15 Explain how to use a for loop to iterate through the keys and values of a dictionary in Python.\n",
    "my_dict = {'a': 1, 'b': 2, 'c': 3}\n",
    "\n",
    "for key, value in my_dict.items():\n",
    "    print(f\"Key: {key}, Value: {value}\")\n"
   ]
  },
  {
   "cell_type": "code",
   "execution_count": null,
   "id": "a0050f8c-6c7f-47ae-88ef-cf8e49185fd9",
   "metadata": {},
   "outputs": [],
   "source": [
    "#16  Write a Python program to find the GCD (Greatest Common Divisor) of two numbers using a for loop.\n",
    "\n",
    "# Function to calculate GCD using Euclidean algorithm\n",
    "def gcd(a, b):\n",
    "    while b:\n",
    "        a, b = b, a % b\n",
    "    return a\n",
    "\n",
    "# Get the two numbers from the user\n",
    "num1 = int(input(\"Enter the first number: \"))\n",
    "num2 = int(input(\"Enter the second number: \"))\n",
    "\n",
    "# Calculate and print the GCD\n",
    "result = gcd(num1, num2)\n",
    "print(f\"The GCD of {num1} and {num2} is {result}\")\n"
   ]
  },
  {
   "cell_type": "code",
   "execution_count": null,
   "id": "504cb866-dab2-4e51-92a5-f4f9e5acc0a8",
   "metadata": {},
   "outputs": [],
   "source": [
    "#17  Create a Python program that checks if a string is a palindrome using a for loop.\n",
    "# Get the string from the user\n",
    "input_string = input(\"Enter a string: \")\n",
    "\n",
    "# Remove spaces and convert to lowercase for case-insensitivity\n",
    "cleaned_string = input_string.replace(\" \", \"\").lower()\n",
    "\n",
    "# Check if the cleaned string is the same forwards and backwards\n",
    "is_palindrome = True\n",
    "\n",
    "for i in range(len(cleaned_string)//2):\n",
    "    if cleaned_string[i] != cleaned_string[-1-i]:\n",
    "        is_palindrome = False\n",
    "        break\n",
    "\n",
    "if is_palindrome:\n",
    "    print(\"It's a palindrome!\")\n",
    "else:\n",
    "    print(\"It's not a palindrome.\")\n"
   ]
  },
  {
   "cell_type": "code",
   "execution_count": null,
   "id": "4ac4b6db-41b1-4200-8eb8-12f737492289",
   "metadata": {},
   "outputs": [],
   "source": [
    "#18  Write a Python program to remove duplicates from a list using a for loop.\n",
    "# Define a list with duplicates\n",
    "my_list = [1, 2, 2, 3, 4, 4, 5]\n",
    "\n",
    "# Initialize an empty list to store unique elements\n",
    "unique_list = []\n",
    "\n",
    "# Use a for loop to remove duplicates\n",
    "for item in my_list:\n",
    "    if item not in unique_list:\n",
    "        unique_list.append(item)\n",
    "\n",
    "print(unique_list)\n"
   ]
  },
  {
   "cell_type": "code",
   "execution_count": null,
   "id": "06dc1cc5-4bc4-4eff-ae48-7de3a9a813ad",
   "metadata": {},
   "outputs": [],
   "source": [
    "#19  Create a Python program that counts the number of words in a sentence using a for loop.\n",
    "\n",
    "# Get the sentence from the user\n",
    "sentence = input(\"Enter a sentence: \")\n",
    "\n",
    "# Split the sentence into words using spaces as separators\n",
    "words = sentence.split()\n",
    "\n",
    "# Initialize a count variable\n",
    "word_count = 0\n",
    "\n",
    "# Use a for loop to count words\n",
    "for word in words:\n",
    "    word_count += 1\n",
    "\n",
    "print(f\"The number of words in the sentence is: {word_count}\")\n"
   ]
  },
  {
   "cell_type": "code",
   "execution_count": null,
   "id": "1acfb148-5b70-4906-b2a3-c4f9bb159f89",
   "metadata": {},
   "outputs": [],
   "source": [
    "#20  Write a Python program to find the sum of all odd numbers from 1 to 50 using a for loop.\n",
    "# Initialize a variable to store the sum\n",
    "odd_sum = 0\n",
    "\n",
    "# Use a for loop to find the sum of odd numbers from 1 to 50\n",
    "for number in range(1, 51):\n",
    "    if number % 2 != 0:\n",
    "        odd_sum += number\n",
    "\n",
    "print(f\"The sum of odd numbers from 1 to 50 is: {odd_sum}\")\n"
   ]
  },
  {
   "cell_type": "code",
   "execution_count": 6,
   "id": "d0daca58-5aef-43b0-bdf9-d55bd7399249",
   "metadata": {},
   "outputs": [
    {
     "name": "stdin",
     "output_type": "stream",
     "text": [
      "Enter a year:  2100\n"
     ]
    },
    {
     "name": "stdout",
     "output_type": "stream",
     "text": [
      "2100 is not a leap year.\n"
     ]
    }
   ],
   "source": [
    "#21 Write a Python program that checks if a given year is a leap year using a for loop.\n",
    "# Get the year from the user\n",
    "year = int(input(\"Enter a year: \"))\n",
    "\n",
    "# Check if it's a leap year\n",
    "if (year % 4 == 0 and year % 100 != 0) or (year % 400 == 0):\n",
    "    print(f\"{year} is a leap year.\")\n",
    "else:\n",
    "    print(f\"{year} is not a leap year.\")\n",
    "\n"
   ]
  },
  {
   "cell_type": "code",
   "execution_count": null,
   "id": "0ca74f1c-b2b2-4c3a-94b7-d5eb658156b9",
   "metadata": {},
   "outputs": [],
   "source": [
    "#22  Create a Python program that calculates the square root of a number using a for loop.\n",
    "# Get the number from the user\n",
    "num = float(input(\"Enter a number: \"))\n",
    "\n",
    "# Initialize a variable for the square root\n",
    "sqrt_result = num ** 0.5\n",
    "\n",
    "print(f\"The square root of {num} is {sqrt_result}\")"
   ]
  },
  {
   "cell_type": "code",
   "execution_count": 5,
   "id": "e85177e9-fd4c-4821-b046-d3622b34ed54",
   "metadata": {},
   "outputs": [
    {
     "name": "stdin",
     "output_type": "stream",
     "text": [
      "Enter the first number:  24\n",
      "Enter the second number:  16\n"
     ]
    },
    {
     "name": "stdout",
     "output_type": "stream",
     "text": [
      "The LCM of 24 and 16 is 48\n"
     ]
    }
   ],
   "source": [
    "#23  Write a Python program to find the LCM (Least Common Multiple) of two numbers using a for loop.\n",
    "\n",
    "# Function to calculate GCD (Greatest Common Divisor)\n",
    "def gcd(a, b):\n",
    "    while b:\n",
    "        a, b = b, a % b\n",
    "    return a\n",
    "\n",
    "# Function to calculate LCM (Least Common Multiple)\n",
    "def lcm(a, b):\n",
    "    return (a * b) // gcd(a, b)\n",
    "\n",
    "# Get the two numbers from the user\n",
    "num1 = int(input(\"Enter the first number: \"))\n",
    "num2 = int(input(\"Enter the second number: \"))\n",
    "\n",
    "# Calculate and print the LCM\n",
    "result = lcm(num1, num2)\n",
    "print(f\"The LCM of {num1} and {num2} is {result}\")\n"
   ]
  },
  {
   "cell_type": "code",
   "execution_count": null,
   "id": "1003e515-ac57-40df-9db5-9342d398796e",
   "metadata": {},
   "outputs": [],
   "source": [
    "#  **************************n  If-Else ********************************"
   ]
  },
  {
   "cell_type": "code",
   "execution_count": null,
   "id": "a65e8da5-81f6-45eb-a16c-2a3dab6393f4",
   "metadata": {},
   "outputs": [],
   "source": [
    "#1  Write a Python program to check if a number is positive, negative, or zero using an if-else statement.\n",
    "# Get the number from the user\n",
    "num = float(input(\"Enter a number: \"))\n",
    "\n",
    "# Check if the number is positive, negative, or zero\n",
    "if num > 0:\n",
    "    print(\"Positive\")\n",
    "elif num < 0:\n",
    "    print(\"Negative\")\n",
    "else:\n",
    "    print(\"Zero\")\n"
   ]
  },
  {
   "cell_type": "code",
   "execution_count": null,
   "id": "99b322a3-f27d-4c1c-bd49-5101555b7e2b",
   "metadata": {},
   "outputs": [],
   "source": [
    "#2  Create a Python program that checks if a given number is even or odd using an if-else statement.\n",
    "# Get the number from the user\n",
    "num = int(input(\"Enter a number: \"))\n",
    "\n",
    "# Check if the number is even or odd\n",
    "if num % 2 == 0:\n",
    "    print(\"Even\")\n",
    "else:\n",
    "    print(\"Odd\")\n"
   ]
  },
  {
   "cell_type": "code",
   "execution_count": null,
   "id": "6f4733bd-fed8-479b-90ed-f0c84027ab92",
   "metadata": {},
   "outputs": [],
   "source": [
    "#3  How can you use nested if-else statements in Python, and provide an example?\n",
    "# Get the student's score from the user\n",
    "score = float(input(\"Enter the student's score: \"))\n",
    "\n",
    "# Determine the grade\n",
    "if score >= 90:\n",
    "    print(\"A\")\n",
    "elif score >= 80:\n",
    "    print(\"B\")\n",
    "elif score >= 70:\n",
    "    print(\"C\")\n",
    "elif score >= 60:\n",
    "    print(\"D\")\n",
    "else:\n",
    "    print(\"F\")\n"
   ]
  },
  {
   "cell_type": "code",
   "execution_count": null,
   "id": "5aa87d87-8bbd-49a7-af94-2af848838218",
   "metadata": {},
   "outputs": [],
   "source": [
    "#4 Write a Python program to determine the largest of three numbers using if-else.\n",
    "# Get three numbers from the user\n",
    "num1 = float(input(\"Enter the first number: \"))\n",
    "num2 = float(input(\"Enter the second number: \"))\n",
    "num3 = float(input(\"Enter the third number: \"))\n",
    "\n",
    "# Find the largest number using if-else\n",
    "if num1 >= num2 and num1 >= num3:\n",
    "    largest = num1\n",
    "elif num2 >= num1 and num2 >= num3:\n",
    "    largest = num2\n",
    "else:\n",
    "    largest = num3\n",
    "\n",
    "print(f\"The largest number is: {largest}\")\n"
   ]
  },
  {
   "cell_type": "code",
   "execution_count": null,
   "id": "1c15fe99-c902-417a-860e-8cdaef41e914",
   "metadata": {},
   "outputs": [],
   "source": [
    "#5  Write a Python program that calculates the absolute value of a number using if-else.\n",
    "# Get the number from the user\n",
    "num = float(input(\"Enter a number: \"))\n",
    "\n",
    "# Calculate the absolute value\n",
    "if num < 0:\n",
    "    abs_value = -num\n",
    "else:\n",
    "    abs_value = num\n",
    "\n",
    "print(f\"The absolute value is: {abs_value}\")\n"
   ]
  },
  {
   "cell_type": "code",
   "execution_count": null,
   "id": "855570f4-d949-4ca9-8daf-f6da6d83d6e7",
   "metadata": {},
   "outputs": [],
   "source": [
    "#6  Create a Python program that checks if a given character is a vowel or consonant using if-else.\n",
    "# Get a character from the user\n",
    "char = input(\"Enter a character: \")\n",
    "\n",
    "# Check if it's a vowel or consonant\n",
    "if char.lower() in 'aeiou':\n",
    "    print(\"Vowel\")\n",
    "else:\n",
    "    print(\"Consonant\")\n"
   ]
  },
  {
   "cell_type": "code",
   "execution_count": null,
   "id": "2dfb49c0-15bd-4f89-9270-cdb2ddf49c18",
   "metadata": {},
   "outputs": [],
   "source": [
    "#7  Write a Python program to determine if a user is eligible to vote based on their age using if-else.\n",
    "# Get the age from the user\n",
    "age = int(input(\"Enter your age: \"))\n",
    "\n",
    "# Check if the user is eligible to vote\n",
    "if age >= 18:\n",
    "    print(\"You are eligible to vote.\")\n",
    "else:\n",
    "    print(\"You are not eligible to vote.\")\n"
   ]
  },
  {
   "cell_type": "code",
   "execution_count": null,
   "id": "7c8124c3-ce4e-4bb2-ba08-4e2aeb91ef3c",
   "metadata": {},
   "outputs": [],
   "source": [
    "#8  Create a Python program that calculates the discount amount based on the purchase amount using if-else.\n",
    "# Get the purchase amount from the user\n",
    "purchase_amount = float(input(\"Enter the purchase amount: \"))\n",
    "\n",
    "# Calculate the discount based on the purchase amount\n",
    "if purchase_amount >= 1000:\n",
    "    discount = 0.1 * purchase_amount  # 10% discount for purchases >= $1000\n",
    "else:\n",
    "    discount = 0\n",
    "\n",
    "print(f\"Discount amount: ${discount:.2f}\")\n"
   ]
  },
  {
   "cell_type": "code",
   "execution_count": null,
   "id": "2666a664-9a4c-4871-a887-60ac206427d7",
   "metadata": {},
   "outputs": [],
   "source": [
    "#9  Write a Python program to check if a number is within a specified range using if-else.\n",
    "# Get a number from the user\n",
    "num = float(input(\"Enter a number: \"))\n",
    "\n",
    "# Check if the number is within the range [10, 50]\n",
    "if 10 <= num <= 50:\n",
    "    print(\"The number is within the specified range.\")\n",
    "else:\n",
    "    print(\"The number is outside the specified range.\")\n"
   ]
  },
  {
   "cell_type": "code",
   "execution_count": null,
   "id": "2864e616-fce0-4736-830a-5254605639b5",
   "metadata": {},
   "outputs": [],
   "source": [
    "#10  Create a Python program that determines the grade of a student based on their score using if-else.\n",
    "\n",
    "# Get the student's score from the user\n",
    "score = float(input(\"Enter the student's score: \"))\n",
    "\n",
    "# Determine the grade\n",
    "if score >= 90:\n",
    "    grade = 'A'\n",
    "elif score >= 80:\n",
    "    grade = 'B'\n",
    "elif score >= 70:\n",
    "    grade = 'C'\n",
    "elif score >= 60:\n",
    "    grade = 'D'\n",
    "else:\n",
    "    grade = 'F'\n",
    "\n",
    "print(f\"The student's grade is: {grade}\")\n"
   ]
  },
  {
   "cell_type": "code",
   "execution_count": null,
   "id": "dfe742aa-94c9-4238-952d-bb300506bbfa",
   "metadata": {},
   "outputs": [],
   "source": [
    "#11  Write a Python program to check if a string is empty or not using if-else.\n",
    "# Get a string from the user\n",
    "input_string = input(\"Enter a string: \")\n",
    "\n",
    "# Check if the string is empty or not\n",
    "if not input_string:\n",
    "    print(\"The string is empty.\")\n",
    "else:\n",
    "    print(\"The string is not empty.\")\n"
   ]
  },
  {
   "cell_type": "code",
   "execution_count": null,
   "id": "94cb3843-94c3-4ead-a0b1-fdbe150da506",
   "metadata": {},
   "outputs": [],
   "source": [
    "#12 Create a Python program that identifies the type of a triangle (e.g., equilateral, isosceles, or scalene) based on input values using if-else.\n",
    "# Get the lengths of three sides of a triangle from the user\n",
    "side1 = float(input(\"Enter the length of side 1: \"))\n",
    "side2 = float(input(\"Enter the length of side 2: \"))\n",
    "side3 = float(input(\"Enter the length of side 3: \"))\n",
    "\n",
    "# Check and determine the type of triangle\n",
    "if side1 == side2 == side3:\n",
    "    triangle_type = \"Equilateral\"\n",
    "elif side1 == side2 or side1 == side3 or side2 == side3:\n",
    "    triangle_type = \"Isosceles\"\n",
    "else:\n",
    "    triangle_type = \"Scalene\"\n",
    "\n",
    "print(f\"The triangle is a {triangle_type} triangle.\")\n"
   ]
  },
  {
   "cell_type": "code",
   "execution_count": null,
   "id": "1fa66063-3741-460f-9703-538050b7d5ac",
   "metadata": {},
   "outputs": [],
   "source": [
    "#13  Write a Python program to determine the day of the week based on a user-provided number using if-else.\n",
    "# Get a number representing the day of the week from the user (1 = Monday, 7 = Sunday)\n",
    "day_number = int(input(\"Enter a number (1-7) representing the day of the week: \"))\n",
    "\n",
    "# Determine and print the day of the week\n",
    "if day_number == 1:\n",
    "    print(\"Monday\")\n",
    "elif day_number == 2:\n",
    "    print(\"Tuesday\")\n",
    "elif day_number == 3:\n",
    "    print(\"Wednesday\")\n",
    "elif day_number == 4:\n",
    "    print(\"Thursday\")\n",
    "elif day_number == 5:\n",
    "    print(\"Friday\")\n",
    "elif day_number == 6:\n",
    "    print(\"Saturday\")\n",
    "elif day_number == 7:\n",
    "    print(\"Sunday\")\n",
    "else:\n",
    "    print(\"Invalid input. Please enter a number between 1 and 7.\")\n"
   ]
  },
  {
   "cell_type": "code",
   "execution_count": null,
   "id": "d0fd1e71-f0cb-4e68-bf43-1c3c27e6e767",
   "metadata": {},
   "outputs": [],
   "source": [
    "#14  Create a Python program that checks if a given year is a leap year using both if-else and a function.\n",
    "# Function to check if a year is a leap year\n",
    "def is_leap_year(year):\n",
    "    if (year % 4 == 0 and year % 100 != 0) or (year % 400 == 0):\n",
    "        return True\n",
    "    else:\n",
    "        return False\n",
    "\n",
    "# Get the year from the user\n",
    "year = int(input(\"Enter a year: \"))\n",
    "\n",
    "# Check and print if it's a leap year\n",
    "if is_leap_year(year):\n",
    "    print(f\"{year} is a leap year.\")\n",
    "else:\n",
    "    print(f\"{year} is not a leap year.\")\n"
   ]
  },
  {
   "cell_type": "code",
   "execution_count": null,
   "id": "23356218-b490-49ff-9140-5fe770a007e9",
   "metadata": {},
   "outputs": [],
   "source": [
    "#15  How do you use the \"assert\" statement in Python to add debugging checks within if-else blocks?\n",
    "\n",
    "# Get a number from the user\n",
    "num = int(input(\"Enter a number: \"))\n",
    "\n",
    "# Check if the number is positive using assert\n",
    "assert num > 0, \"Number must be positive\"\n",
    "\n",
    "# If the condition is True, continue with the program\n",
    "print(f\"The number {num} is positive.\")\n"
   ]
  },
  {
   "cell_type": "code",
   "execution_count": null,
   "id": "49b05d13-0958-45e2-b2c2-21ba845c4bb7",
   "metadata": {},
   "outputs": [],
   "source": [
    "#16  Create a Python program that determines the eligibility of a person for a senior citizen discount based on age using if-else.\n",
    "# Get the age from the user\n",
    "age = int(input(\"Enter your age: \"))\n",
    "\n",
    "# Check if the user is eligible for a senior citizen discount\n",
    "if age >= 60:\n",
    "    print(\"You are eligible for a senior citizen discount.\")\n",
    "else:\n",
    "    print(\"You are not eligible for a senior citizen discount.\")\n"
   ]
  },
  {
   "cell_type": "code",
   "execution_count": null,
   "id": "b890a9cb-2102-4cc9-9f2d-0f233efee0e8",
   "metadata": {},
   "outputs": [],
   "source": [
    "#17  Write a Python program to categorize a given character as uppercase, lowercase, or neither using if-else.\n",
    "\n",
    "# Get a character from the user\n",
    "char = input(\"Enter a character: \")\n",
    "\n",
    "# Check and categorize the character\n",
    "if char.isupper():\n",
    "    print(\"Uppercase letter\")\n",
    "elif char.islower():\n",
    "    print(\"Lowercase letter\")\n",
    "else:\n",
    "    print(\"Neither uppercase nor lowercase letter\")\n"
   ]
  },
  {
   "cell_type": "code",
   "execution_count": null,
   "id": "4c8a8f35-eb67-4c69-adff-87aeb711618d",
   "metadata": {},
   "outputs": [],
   "source": [
    "#18  Write a Python program to determine the roots of a quadratic equation using if-else.\n",
    "# Get coefficients a, b, and c from the user for the quadratic equation ax^2 + bx + c = 0\n",
    "a = float(input(\"Enter coefficient a: \"))\n",
    "b = float(input(\"Enter coefficient b: \"))\n",
    "c = float(input(\"Enter coefficient c: \"))\n",
    "\n",
    "# Calculate the discriminant\n",
    "discriminant = b**2 - 4*a*c\n",
    "\n",
    "# Check and determine the roots of the quadratic equation\n",
    "if discriminant > 0:\n",
    "    root1 = (-b + (discriminant)**0.5) / (2*a)\n",
    "    root2 = (-b - (discriminant)**0.5) / (2*a)\n",
    "    print(f\"Roots are real and different: {root1} and {root2}\")\n",
    "elif discriminant == 0:\n",
    "    root1 = -b / (2*a)\n",
    "    print(f\"Root is real and equal: {root1}\")\n",
    "else:\n",
    "    real_part = -b / (2*a)\n",
    "    imaginary_part = (abs(discriminant)**0.5) / (2*a)\n",
    "    print(f\"Roots are complex: {real_part} + {imaginary_part}i and {real_part} - {imaginary_part}i\")\n"
   ]
  },
  {
   "cell_type": "code",
   "execution_count": null,
   "id": "5c926ab3-33fc-4886-b545-5df08a20fe5c",
   "metadata": {},
   "outputs": [],
   "source": [
    "#19  Create a Python program that checks if a given year is a century year or not using if-else.\n",
    "# Get the year from the user\n",
    "year = int(input(\"Enter a year: \"))\n",
    "\n",
    "# Check if the year is a century year\n",
    "if year % 100 == 0:\n",
    "    print(f\"{year} is a century year.\")\n",
    "else:\n",
    "    print(f\"{year} is not a century year.\")\n"
   ]
  },
  {
   "cell_type": "code",
   "execution_count": 7,
   "id": "94301379-60ac-4134-b513-a8b9d480a601",
   "metadata": {},
   "outputs": [
    {
     "name": "stdin",
     "output_type": "stream",
     "text": [
      "Enter a number:  46\n"
     ]
    },
    {
     "name": "stdout",
     "output_type": "stream",
     "text": [
      "46 is not a perfect square.\n"
     ]
    }
   ],
   "source": [
    "#20  Write a Python program to determine if a given number is a perfect square using if-else.\n",
    "# Get a number from the user\n",
    "num = int(input(\"Enter a number: \"))\n",
    "\n",
    "# Check if the number is a perfect square\n",
    "if num > 0 and (num**0.5).is_integer():\n",
    "    print(f\"{num} is a perfect square.\")\n",
    "else:\n",
    "    print(f\"{num} is not a perfect square.\")\n"
   ]
  },
  {
   "cell_type": "code",
   "execution_count": null,
   "id": "2b3d10e6-004a-4629-b115-33a7ad191520",
   "metadata": {},
   "outputs": [],
   "source": [
    "#21  Explain the purpose of the \"continue\" and \"break\" statements within if-else loops.\n",
    "'''continue: It is used to skip the rest of the current iteration of a loop and move to the next iteration.\n",
    "\n",
    "break: It is used to exit a loop prematurely, stopping the loop execution.\n",
    "\n",
    "Here's an example of continue and break:\n",
    "\n",
    "python\n",
    "'''\n",
    "# Using \"continue\" to skip even numbers\n",
    "for i in range(1, 11):\n",
    "    if i % 2 == 0:\n",
    "        continue\n",
    "    print(i)\n",
    "\n",
    "# Using \"break\" to exit the loop when a condition is met\n",
    "for i in range(1, 11):\n",
    "    if i == 5:\n",
    "        break\n",
    "    print(i)"
   ]
  },
  {
   "cell_type": "code",
   "execution_count": null,
   "id": "e0193f38-4a28-41e0-a013-fc3642a4bac6",
   "metadata": {},
   "outputs": [],
   "source": [
    "#22  Create a Python program that calculates the BMI (Body Mass Index) of a person based on their weight and height using if-else.\n",
    "# Get weight (in kilograms) and height (in meters) from the user\n",
    "weight = float(input(\"Enter your weight (kg): \"))\n",
    "height = float(input(\"Enter your height (m): \"))\n",
    "\n",
    "# Calculate BMI\n",
    "bmi = weight / (height**2)\n",
    "\n",
    "# Determine the BMI category\n",
    "if bmi < 18.5:\n",
    "    category = \"Underweight\"\n",
    "elif 18.5 <= bmi < 24.9:\n",
    "    category = \"Normal Weight\"\n",
    "elif 25 <= bmi < 29.9:\n",
    "    category = \"Overweight\"\n",
    "else:\n",
    "    category = \"Obese\"\n",
    "\n",
    "print(f\"Your BMI is {bmi:.2f} and you are in the '{category}' category.\")\n"
   ]
  },
  {
   "cell_type": "code",
   "execution_count": null,
   "id": "b16e96d6-c422-4e4c-9037-d2ca2841951a",
   "metadata": {},
   "outputs": [],
   "source": [
    "#23  How can you use the \"filter()\" function with if-else statements to filter elements from a list?\n",
    "# Define a list of numbers\n",
    "numbers = [1, 2, 3, 4, 5, 6, 7, 8, 9, 10]\n",
    "\n",
    "# Use filter() to create a new list with even numbers\n",
    "even_numbers = list(filter(lambda x: x % 2 == 0, numbers))\n",
    "\n",
    "print(\"Original list:\", numbers)\n",
    "print(\"Filtered list (even numbers):\", even_numbers)\n"
   ]
  },
  {
   "cell_type": "code",
   "execution_count": 10,
   "id": "d4995263-5ba4-408b-bdc8-47bacce8ffeb",
   "metadata": {},
   "outputs": [
    {
     "name": "stdin",
     "output_type": "stream",
     "text": [
      "Enter a number:  -8\n"
     ]
    },
    {
     "name": "stdout",
     "output_type": "stream",
     "text": [
      "-8 is not prime.\n"
     ]
    }
   ],
   "source": [
    "#24  Write a Python program to determine if a given number is prime or not using if-else.\n",
    "# Get a number from the user\n",
    "num = int(input(\"Enter a number: \"))\n",
    "\n",
    "# Check if the number is prime\n",
    "if num > 1:\n",
    "    for i in range(2, int(num**0.5) + 1):\n",
    "        if num % i == 0:\n",
    "            print(f\"{num} is not prime.\")\n",
    "            break\n",
    "    else:\n",
    "        print(f\"{num} is prime.\")\n",
    "else:\n",
    "    print(f\"{num} is not prime.\")\n"
   ]
  },
  {
   "cell_type": "code",
   "execution_count": null,
   "id": "d9af2fcc-ffc0-41a8-ad36-6624e0aa175b",
   "metadata": {},
   "outputs": [],
   "source": [
    "#**************** Map Function ************"
   ]
  },
  {
   "cell_type": "markdown",
   "id": "0cee0d46-1bc7-4a70-ac24-4e67636f7531",
   "metadata": {},
   "source": [
    "#1  Purpose of the map() function:\n",
    "\n",
    "The map() function in Python is used to apply a specified function to each element of an iterable (such as a list) \n",
    "and returns an iterable with the results. It allows you to transform or modify each element in the input \n",
    "iterable using a function without the need for explicit loops."
   ]
  },
  {
   "cell_type": "code",
   "execution_count": 11,
   "id": "8a9eb436-fc1a-430d-b360-7501c84c9d1f",
   "metadata": {},
   "outputs": [
    {
     "name": "stdout",
     "output_type": "stream",
     "text": [
      "[1, 4, 9, 16, 25]\n"
     ]
    }
   ],
   "source": [
    "#2  Write a Python program that uses the `map()` function to square each element of a list of numbers.\n",
    "# Define a list of numbers\n",
    "numbers = [1, 2, 3, 4, 5]\n",
    "\n",
    "# Use map() to apply the square function to each element\n",
    "squared_numbers = map(lambda x:x**2, numbers)\n",
    "\n",
    "# Convert the result to a list\n",
    "squared_numbers_list = list(squared_numbers)\n",
    "\n",
    "# Print the squared numbers\n",
    "print(squared_numbers_list)\n"
   ]
  },
  {
   "cell_type": "markdown",
   "id": "a691c404-529e-4de3-b196-7165168d954d",
   "metadata": {},
   "source": [
    "#3  How does the `map()` function differ from a list comprehension in Python, \n",
    "##and when would you choose one over the other?\n",
    "Difference between map() and List Comprehension:\n",
    "\n",
    "map() is a built-in function used for applying a function to each element of an iterable and returns an iterable. \n",
    "List comprehension is a concise way to create lists by applying an expression to each element of an iterable and \n",
    "returns a list.\n",
    "\n",
    "map() is typically used when you have an existing function that you want to apply to each element. \n",
    "List comprehension is used when you want to generate a new list based on an expression or transformation of elements.\n",
    "\n",
    "List comprehensions are often considered more readable and Pythonic for simple transformations, \n",
    "while map() may be preferred when working with more complex functions or when you need to apply the same function to \n",
    "multiple iterables simultaneously.\n"
   ]
  },
  {
   "cell_type": "code",
   "execution_count": 16,
   "id": "a413eecc-b45d-4c20-8748-2847150eb927",
   "metadata": {},
   "outputs": [
    {
     "name": "stdout",
     "output_type": "stream",
     "text": [
      "['ALICE', 'BOB', 'CHARLIE']\n"
     ]
    }
   ],
   "source": [
    "#4  Create a Python program that uses the `map()` function to convert a list of names to uppercase.\n",
    "# Define a list of names\n",
    "names = [\"Alice\", \"Bob\", \"Charlie\"]\n",
    "\n",
    "# Use map() to convert names to uppercase\n",
    "upper_names = map(lambda x:x.upper(), names)\n",
    "\n",
    "# Convert the result to a list\n",
    "upper_names_list = list(upper_names)\n",
    "\n",
    "# Print the uppercase names\n",
    "print(upper_names_list)\n"
   ]
  },
  {
   "cell_type": "code",
   "execution_count": 17,
   "id": "26e3bc0f-938e-47db-9b67-d2b2b25e2a8f",
   "metadata": {},
   "outputs": [
    {
     "name": "stdout",
     "output_type": "stream",
     "text": [
      "[5, 5, 6, 11]\n"
     ]
    }
   ],
   "source": [
    "#5  Write a Python program that uses the `map()` function to calculate the length of each word in a list of strings.\n",
    "# Define a list of strings\n",
    "strings = [\"Hello\", \"World\", \"Python\", \"Programming\"]\n",
    "\n",
    "# Use map() to calculate the length of each word\n",
    "word_lengths = map(len, strings)\n",
    "\n",
    "# Convert the result to a list\n",
    "word_lengths_list = list(word_lengths)\n",
    "\n",
    "# Print the word lengths\n",
    "print(word_lengths_list)\n"
   ]
  },
  {
   "cell_type": "code",
   "execution_count": 18,
   "id": "c2e9e830-0b46-4e0a-83a5-450ac55fcf4b",
   "metadata": {},
   "outputs": [
    {
     "name": "stdout",
     "output_type": "stream",
     "text": [
      "[5, 7, 9]\n"
     ]
    }
   ],
   "source": [
    "#6  How can you use the `map()` function to apply a custom function to elements of multiple lists simultaneously in Python?\n",
    "# Define two lists of numbers\n",
    "list1 = [1, 2, 3]\n",
    "list2 = [4, 5, 6]\n",
    "\n",
    "\n",
    "# Use map() to apply the custom function to corresponding elements\n",
    "result = map(lambda x,y:x+y, list1, list2)\n",
    "\n",
    "# Convert the result to a list\n",
    "result_list = list(result)\n",
    "\n",
    "# Print the result\n",
    "print(result_list)  # Output: [5, 7, 9]\n"
   ]
  },
  {
   "cell_type": "code",
   "execution_count": 21,
   "id": "456ac1a3-1fc9-4264-a6ce-3f6c95ea8182",
   "metadata": {},
   "outputs": [
    {
     "name": "stdout",
     "output_type": "stream",
     "text": [
      "[32.0, 50.0, 77.0, 89.6, 212.0, 98.6]\n"
     ]
    }
   ],
   "source": [
    "#7  Create a Python program that uses `map()` to convert a list of temperatures from Celsius to Fahrenheit.\n",
    "# Define a list of temperatures in Celsius\n",
    "celsius_temperatures = [0, 10, 25, 32, 100,37]\n",
    "\n",
    "# Define a function to convert Celsius to Fahrenheit\n",
    "def celsius_to_fahrenheit(celsius):\n",
    "    return (celsius * 9/5) + 32\n",
    "\n",
    "# Use map() to convert temperatures to Fahrenheit\n",
    "fahrenheit_temperatures = map(lambda c:(c * 9/5) + 32, celsius_temperatures)\n",
    "\n",
    "# Convert the result to a list\n",
    "fahrenheit_temperatures_list = list(fahrenheit_temperatures)\n",
    "\n",
    "# Print the Fahrenheit temperatures\n",
    "print(fahrenheit_temperatures_list)\n"
   ]
  },
  {
   "cell_type": "code",
   "execution_count": 22,
   "id": "aa8ba95a-4981-435e-a2cd-750431d046c3",
   "metadata": {},
   "outputs": [
    {
     "name": "stdout",
     "output_type": "stream",
     "text": [
      "[3, 3, 2, 5]\n"
     ]
    }
   ],
   "source": [
    "#8  Write a Python program that uses the `map()` function to round each element of a list of floating-point numbers to the nearest integer.\n",
    "# Define a list of floating-point numbers\n",
    "float_numbers = [3.14, 2.718, 1.618, 4.669]\n",
    "\n",
    "# Use map() to round numbers to the nearest integer\n",
    "rounded_numbers = map(lambda x:round(x), float_numbers)\n",
    "\n",
    "# Convert the result to a list\n",
    "rounded_numbers_list = list(rounded_numbers)\n",
    "\n",
    "# Print the rounded numbers\n",
    "print(rounded_numbers_list)\n"
   ]
  },
  {
   "cell_type": "code",
   "execution_count": null,
   "id": "5d7c5986-9dcf-4349-bb5a-c68124efba4f",
   "metadata": {},
   "outputs": [],
   "source": [
    "#****************************Reduce*****************************"
   ]
  },
  {
   "cell_type": "markdown",
   "id": "8e04369b-c45e-42c2-9498-13bbb55b6a98",
   "metadata": {},
   "source": [
    "#1  What is the `reduce()` function in Python, and what module should you import to use it? Provide an example of its basic usage.\n",
    "\n",
    "The reduce() function in Python is used for performing a cumulative operation on the elements of an iterable (e.g., a list), reducing it to a single value. To use the reduce() function, you need to import it from the functools module.\n",
    "\n",
    "Example: Basic Usage of the reduce() Function:\n",
    "\n",
    "Here's a basic example of how the reduce() function works:\n",
    "\n",
    "from functools import reduce\n",
    "\n",
    "# Define a list of numbers\n",
    "numbers = [1, 2, 3, 4, 5]\n",
    "\n",
    "# Define a function to multiply two numbers\n",
    "def multiply(x, y):\n",
    "    return x * y\n",
    "\n",
    "# Use reduce() to find the product of all numbers\n",
    "product = reduce(multiply, numbers)\n",
    "\n",
    "# Print the product\n",
    "print(product)  # Output: 120\n"
   ]
  },
  {
   "cell_type": "code",
   "execution_count": null,
   "id": "72a1e66b-28d4-4120-90f9-5e0769421e79",
   "metadata": {},
   "outputs": [],
   "source": [
    "#2  Write a Python program that uses the `reduce()` function to find the product of all elements in a list.\n",
    "\n",
    "from functools import reduce\n",
    "\n",
    "# Define a list of numbers\n",
    "numbers = [1, 2, 3, 4, 5]\n",
    "\n",
    "# Define a function to multiply two numbers\n",
    "def multiply(x, y):\n",
    "    return x * y\n",
    "\n",
    "# Use reduce() to find the product of all numbers\n",
    "product = reduce(multiply, numbers)\n",
    "\n",
    "# Print the product\n",
    "print(product)  # Output: 120\n"
   ]
  },
  {
   "cell_type": "code",
   "execution_count": null,
   "id": "96072f8c-248c-4cdd-ab01-6120c4ccb2cb",
   "metadata": {},
   "outputs": [],
   "source": [
    "#3  Create a Python program that uses `reduce()` to find the maximum element in a list of numbers.\n",
    "from functools import reduce\n",
    "\n",
    "# Define a list of numbers\n",
    "numbers = [13, 27, 9, 42, 18]\n",
    "\n",
    "# Define a function to find the maximum of two numbers\n",
    "def find_max(x, y):\n",
    "    return x if x > y else y\n",
    "\n",
    "# Use reduce() to find the maximum element\n",
    "maximum = reduce(find_max, numbers)\n",
    "\n",
    "# Print the maximum\n",
    "print(maximum)  # Output: 42"
   ]
  },
  {
   "cell_type": "code",
   "execution_count": 24,
   "id": "efdddb61-8f22-47a2-9338-dc8a423770f7",
   "metadata": {},
   "outputs": [
    {
     "name": "stdout",
     "output_type": "stream",
     "text": [
      "Hello World!\n"
     ]
    }
   ],
   "source": [
    "#4 How can you use the `reduce()` function to concatenate a list of strings into a single string?\n",
    "from functools import reduce\n",
    "\n",
    "# Define a list of strings\n",
    "strings = [\"Hello\", \" \", \"World\", \"!\"]\n",
    "\n",
    "\n",
    "# Use reduce() to concatenate the strings\n",
    "concatenated_string = reduce(lambda a,b:a+b, strings)\n",
    "\n",
    "# Print the concatenated string\n",
    "print(concatenated_string)  # Output: \"Hello World!\"\n"
   ]
  },
  {
   "cell_type": "code",
   "execution_count": 25,
   "id": "e2e7ee83-91f6-401b-a738-570efc26fdae",
   "metadata": {},
   "outputs": [
    {
     "name": "stdout",
     "output_type": "stream",
     "text": [
      "120\n"
     ]
    }
   ],
   "source": [
    "#5  Write a Python program that calculates the factorial of a number using the `reduce()` function.\n",
    "from functools import reduce\n",
    "\n",
    "# Define a number for which to calculate the factorial\n",
    "n = 5\n",
    "\n",
    "# Use reduce() to calculate the factorial\n",
    "factorial_result = reduce(lambda x,y:x*y, range(1, n+1))\n",
    "\n",
    "# Print the factorial\n",
    "print(factorial_result)  # Output: 120\n"
   ]
  },
  {
   "cell_type": "code",
   "execution_count": 27,
   "id": "9e4509a2-c966-430e-865f-adab305646b9",
   "metadata": {},
   "outputs": [
    {
     "name": "stdout",
     "output_type": "stream",
     "text": [
      "12\n"
     ]
    }
   ],
   "source": [
    "#6  Create a Python program that uses `reduce()` to find the GCD (Greatest Common Divisor) of a list of numbers.\n",
    "from functools import reduce\n",
    "import math\n",
    "\n",
    "# Define a list of numbers\n",
    "numbers = [48, 36, 24, 60]\n",
    "\n",
    "# Use reduce() to find the GCD of the list of numbers\n",
    "gcd_result = reduce(lambda x,y:math.gcd(x,y), numbers)\n",
    "\n",
    "# Print the GCD\n",
    "print(gcd_result)  # Output: 12\n"
   ]
  },
  {
   "cell_type": "code",
   "execution_count": 28,
   "id": "76eca025-db93-4398-aadb-cef2c3eea28c",
   "metadata": {},
   "outputs": [
    {
     "name": "stdout",
     "output_type": "stream",
     "text": [
      "15\n"
     ]
    }
   ],
   "source": [
    "#7  Write a Python program that uses the `reduce()` function to find the sum of the digits of a given number.\n",
    "from functools import reduce\n",
    "\n",
    "# Define a number for which to find the sum of digits\n",
    "number = 12345\n",
    "\n",
    "\n",
    "# Use reduce() to find the sum of digits\n",
    "sum_of_digits = reduce(lambda x,y:int(x)+int(y), str(number))\n",
    "\n",
    "# Print the sum of digits\n",
    "print(sum_of_digits)  # Output: 15\n"
   ]
  },
  {
   "cell_type": "code",
   "execution_count": null,
   "id": "b9b14490-aa90-483e-ae77-eff8de50ae29",
   "metadata": {},
   "outputs": [],
   "source": [
    "#*****************************Filter ************************************"
   ]
  },
  {
   "cell_type": "code",
   "execution_count": null,
   "id": "041686af-4e55-4101-a578-5c4a4074f3a7",
   "metadata": {},
   "outputs": [],
   "source": [
    "#1   Explain the purpose of the `filter()` function in Python and provide \n",
    "#   an example of how it can be used to filter elements from an iterable.\n",
    "'''The filter() function in Python is used to filter elements from an iterable (e.g., a list) \n",
    "based on a specified function or condition. It returns an iterator that contains only the elements \n",
    "for which the function or condition returns True.\n",
    "\n",
    "Example: Basic Usage of the filter() Function:\n",
    "\n",
    "Here's a basic example of how the filter() function works:'''\n",
    "# Define a list of numbers\n",
    "numbers = [1, 2, 3, 4, 5, 6, 7, 8, 9, 10]\n",
    "\n",
    "# Define a function to filter even numbers\n",
    "def is_even(x):\n",
    "    return x % 2 == 0\n",
    "\n",
    "# Use filter() to select even numbers\n",
    "even_numbers = filter(is_even, numbers)\n",
    "\n",
    "# Convert the result to a list\n",
    "even_numbers_list = list(even_numbers)\n",
    "\n",
    "# Print the even numbers\n",
    "print(even_numbers_list)\n"
   ]
  },
  {
   "cell_type": "code",
   "execution_count": 39,
   "id": "edf10c3c-35d5-4842-a3c9-c41a7596214e",
   "metadata": {},
   "outputs": [
    {
     "name": "stdout",
     "output_type": "stream",
     "text": [
      "[2, 4, 6, 8, 10]\n"
     ]
    }
   ],
   "source": [
    "#2  Write a Python program that uses the `filter()` function to select even numbers from a list of integers.\n",
    "# Define a list of integers\n",
    "numbers = [1, 2, 3, 4, 5, 6, 7, 8, 9, 10]\n",
    "\n",
    "# Define a function to filter even numbers\n",
    "def is_even(x):\n",
    "    return x % 2 == 0\n",
    "\n",
    "# Use filter() to select even numbers\n",
    "even_numbers = filter(lambda x: x%2==0, numbers)\n",
    "\n",
    "# Convert the result to a list\n",
    "even_numbers_list = list(even_numbers)\n",
    "\n",
    "# Print the even numbers\n",
    "print(even_numbers_list)\n"
   ]
  },
  {
   "cell_type": "code",
   "execution_count": 34,
   "id": "3810177f-16a2-4c9d-bce9-0cd8dce6b5ff",
   "metadata": {},
   "outputs": [
    {
     "name": "stdout",
     "output_type": "stream",
     "text": [
      "['Alice']\n"
     ]
    }
   ],
   "source": [
    "#3 Create a Python program that uses the `filter()` \n",
    "#  function to select names that start with a specific letter from a list of strings.\n",
    "# Define a list of names\n",
    "names = [\"Alice\", \"Bob\", \"Charlie\", \"David\", \"Eve\"]\n",
    "\n",
    "# Use filter() to select names starting with \"A\"\n",
    "filtered_names = filter(lambda x: x.startswith('A'), names)\n",
    "\n",
    "# Convert the result to a list\n",
    "filtered_names_list = list(filtered_names)\n",
    "\n",
    "# Print the filtered names\n",
    "print(filtered_names_list)\n",
    "\n"
   ]
  },
  {
   "cell_type": "code",
   "execution_count": 35,
   "id": "17b3e4a7-f4e6-48ad-bc42-d50da4a06ee4",
   "metadata": {},
   "outputs": [
    {
     "name": "stdout",
     "output_type": "stream",
     "text": [
      "[2, 3, 5, 7]\n"
     ]
    }
   ],
   "source": [
    "#4  Write a Python program that uses the `filter()` function to select prime numbers from a list of integers.\n",
    "# Define a list of integers\n",
    "numbers = [2, 3, 4, 5, 6, 7, 8, 9, 10]\n",
    "\n",
    "# Define a function to check if a number is prime\n",
    "def is_prime(x):\n",
    "    if x < 2:\n",
    "        return False\n",
    "    for i in range(2, int(x**0.5) + 1):\n",
    "        if x % i == 0:\n",
    "            return False\n",
    "    return True\n",
    "\n",
    "# Use filter() to select prime numbers\n",
    "prime_numbers = filter(is_prime, numbers)\n",
    "\n",
    "# Convert the result to a list\n",
    "prime_numbers_list = list(prime_numbers)\n",
    "\n",
    "# Print the prime numbers\n",
    "print(prime_numbers_list)\n"
   ]
  },
  {
   "cell_type": "code",
   "execution_count": null,
   "id": "c84adc4c-eb02-4329-98df-3cc5c00df725",
   "metadata": {},
   "outputs": [],
   "source": [
    "#5  How can you use the `filter()` function to remove None values from a list in Python?\n",
    "# Define a list with None values\n",
    "values = [1, None, 3, None, 5, None]\n",
    "\n",
    "# Use filter() to remove None values\n",
    "filtered_values = filter(lambda x: x is not None, values)\n",
    "\n",
    "# Convert the result to a list\n",
    "filtered_values_list = list(filtered_values)\n",
    "\n",
    "# Print the filtered values\n",
    "print(filtered_values_list)\n"
   ]
  },
  {
   "cell_type": "code",
   "execution_count": 38,
   "id": "ecff3385-f862-422b-8875-1e4fb7f983b8",
   "metadata": {},
   "outputs": [
    {
     "name": "stdout",
     "output_type": "stream",
     "text": [
      "['banana', 'cherry', 'elderberry']\n"
     ]
    }
   ],
   "source": [
    "#6   Create a Python program that uses `filter()` to select words longer than a certain length from a list of strings.\n",
    "\n",
    "\n",
    "# Define a list of strings\n",
    "words = [\"apple\", \"banana\", \"cherry\", \"date\", \"elderberry\"]\n",
    "\n",
    "# Define a function to filter words longer than 5 characters\n",
    "def is_long_word(word):\n",
    "    return len(word) > 5\n",
    "\n",
    "# Use filter() to select long words\n",
    "long_words = filter(lambda s:len(s)>5, words)\n",
    "\n",
    "# Convert the result to a list\n",
    "long_words_list = list(long_words)\n",
    "\n",
    "# Print the long words\n",
    "print(long_words_list)\n"
   ]
  },
  {
   "cell_type": "code",
   "execution_count": 40,
   "id": "6e1323e3-4ad8-4851-a23f-09f9008bffaa",
   "metadata": {},
   "outputs": [
    {
     "name": "stdout",
     "output_type": "stream",
     "text": [
      "[60, 75, 90]\n"
     ]
    }
   ],
   "source": [
    "#7  Write a Python program that uses the `filter()` function to select elements greater than a\n",
    "#   specified threshold from a list of values.\n",
    "# Define a list of values\n",
    "values = [15, 30, 45, 60, 75, 90]\n",
    "\n",
    "# Define a threshold value\n",
    "threshold = 50\n",
    "\n",
    "# Define a function to filter values greater than the threshold\n",
    "def greater_than_threshold(x):\n",
    "    return x > threshold\n",
    "\n",
    "# Use filter() to select values greater than the threshold\n",
    "selected_values = filter(greater_than_threshold, values)\n",
    "\n",
    "# Convert the result to a list\n",
    "selected_values_list = list(selected_values)\n",
    "\n",
    "# Print the selected values\n",
    "print(selected_values_list)\n"
   ]
  },
  {
   "cell_type": "code",
   "execution_count": null,
   "id": "86dc5274-2706-4275-a045-306c5cd1aad7",
   "metadata": {},
   "outputs": [],
   "source": [
    "#***************************************Recursion*****************************"
   ]
  },
  {
   "cell_type": "markdown",
   "id": "f7b4be43-7ba3-4a78-af64-dcce5a899862",
   "metadata": {},
   "source": [
    "# 1 Explain the concept of recursion in Python. How does it differ from iteration?\n",
    "\n",
    "\n",
    "Recursion in Python:\n",
    "\n",
    "Recursion is a programming concept where a function calls itself in order to solve a problem. In Python, a recursive function is a function that performs a task in part and delegates the remaining task to itself. Recursive functions are defined by two main parts: a base case and a recursive case.\n",
    "\n",
    "Base Case: It's the condition under which the recursion terminates. When the base case is met, the function returns a result without making another recursive call. It prevents infinite recursion.\n",
    "\n",
    "Recursive Case: It's the part of the function where it calls itself with a slightly simpler or smaller problem. Each recursive call should bring you closer to the base case.\n",
    "\n",
    "Differences from Iteration:\n",
    "\n",
    "Recursion differs from iteration (looping) in that it uses function calls to repeat a task instead of loops. Iteration involves a loop structure like for or while to repeatedly execute a block of code, while recursion involves a function calling itself.\n",
    "\n",
    "Example: Calculating Factorial Using Recursion:\n",
    "# Recursive function to calculate factorial\n",
    "def factorial(n):\n",
    "    if n == 0:\n",
    "        return 1\n",
    "    else:\n",
    "        return n * factorial(n - 1)\n",
    "\n",
    "# Get user input for the number\n",
    "num = int(input(\"Enter a number: \"))\n",
    "\n",
    "# Calculate and print the factorial\n",
    "result = factorial(num)\n",
    "print(f\"The factorial of {num} is {result}\")\n",
    "\n"
   ]
  },
  {
   "cell_type": "code",
   "execution_count": 51,
   "id": "8c5f7228-15d3-4c39-aaa9-9be245b51a78",
   "metadata": {},
   "outputs": [
    {
     "name": "stdin",
     "output_type": "stream",
     "text": [
      "Enter a number:  5\n"
     ]
    },
    {
     "name": "stdout",
     "output_type": "stream",
     "text": [
      "The factorial of 5 is 120\n"
     ]
    }
   ],
   "source": [
    "#2 Write a Python program to calculate the factorial of a number using recursion.\n",
    "# Recursive function to calculate factorial\n",
    "def factorial(n):\n",
    "    if n == 0:\n",
    "        return 1\n",
    "    else:\n",
    "        return n * factorial(n - 1)\n",
    "\n",
    "# Get user input for the number\n",
    "num = int(input(\"Enter a number: \"))\n",
    "\n",
    "# Calculate and print the factorial\n",
    "result = factorial(num)\n",
    "print(f\"The factorial of {num} is {result}\")\n"
   ]
  },
  {
   "cell_type": "code",
   "execution_count": 50,
   "id": "24321db7-2b2d-4293-be1b-32b859548d2c",
   "metadata": {},
   "outputs": [
    {
     "name": "stdout",
     "output_type": "stream",
     "text": [
      "The 10th Fibonacci number is 55\n"
     ]
    }
   ],
   "source": [
    "#3  Create a recursive Python function to find the nth Fibonacci number.\n",
    "def fibonacci(n):\n",
    "    # Base case: Fibonacci of 0 is 0 and Fibonacci of 1 is 1\n",
    "    if n == 0:\n",
    "        return 0\n",
    "    elif n == 1:\n",
    "        return 1\n",
    "    # Recursive case: Fibonacci(n) = Fibonacci(n-1) + Fibonacci(n-2)\n",
    "    else:\n",
    "        return fibonacci(n - 1) + fibonacci(n - 2)\n",
    "\n",
    "# Test the function\n",
    "n = 10  # Replace with the desired Fibonacci number you want to find\n",
    "result = fibonacci(n)\n",
    "print(f\"The {n}th Fibonacci number is {result}\")\n"
   ]
  },
  {
   "cell_type": "code",
   "execution_count": 49,
   "id": "f94aaaa1-da11-4e9f-a4f9-f69ef4f7838b",
   "metadata": {},
   "outputs": [
    {
     "name": "stdout",
     "output_type": "stream",
     "text": [
      "The sum of all elements in the list is 15\n"
     ]
    }
   ],
   "source": [
    "#4  Write a recursive Python function to calculate the sum of all elements in a list.\n",
    "def recursive_sum(lst):\n",
    "    if not lst:\n",
    "        return 0\n",
    "    else:\n",
    "        return lst[0] + recursive_sum(lst[1:])\n",
    "\n",
    "# Test the function\n",
    "numbers = [1, 2, 3, 4, 5]\n",
    "result = recursive_sum(numbers)\n",
    "print(f\"The sum of all elements in the list is {result}\")\n"
   ]
  },
  {
   "cell_type": "code",
   "execution_count": null,
   "id": "db0f62d5-42f4-4aba-9ead-c0093942605a",
   "metadata": {},
   "outputs": [],
   "source": [
    "#5  How can you prevent a recursive function from running indefinitely, causing a stack overflow error?\n"
   ]
  },
  {
   "cell_type": "code",
   "execution_count": 48,
   "id": "f5b399ea-8406-4f57-ac3f-d717b2fe75fc",
   "metadata": {},
   "outputs": [
    {
     "name": "stdout",
     "output_type": "stream",
     "text": [
      "The GCD of 48 and 36 is 12\n"
     ]
    }
   ],
   "source": [
    "#6  Create a recursive Python function to find the greatest common divisor (GCD) of two numbers using \n",
    "#   the Euclidean algorithm.  \n",
    "\n",
    "def gcd(a, b):\n",
    "    if b == 0:\n",
    "        return a\n",
    "    else:\n",
    "        return gcd(b, a % b)\n",
    "\n",
    "# Test the function\n",
    "a = 48\n",
    "b = 36\n",
    "result = gcd(a, b)\n",
    "print(f\"The GCD of {a} and {b} is {result}\")\n"
   ]
  },
  {
   "cell_type": "code",
   "execution_count": 47,
   "id": "334a5515-3f52-4018-aca3-304f0b70db6a",
   "metadata": {},
   "outputs": [
    {
     "name": "stdout",
     "output_type": "stream",
     "text": [
      "The reversed string is '!dlroW ,olleH'\n"
     ]
    }
   ],
   "source": [
    "#7  Write a recursive Python function to reverse a string.\n",
    "def reverse_string(s):\n",
    "    if len(s) == 0:\n",
    "        return s\n",
    "    else:\n",
    "        return reverse_string(s[1:]) + s[0]\n",
    "\n",
    "# Test the function\n",
    "input_string = \"Hello, World!\"\n",
    "result = reverse_string(input_string)\n",
    "print(f\"The reversed string is '{result}'\")\n"
   ]
  },
  {
   "cell_type": "code",
   "execution_count": 46,
   "id": "8142f54a-7467-4089-b28d-80fdea06df5a",
   "metadata": {},
   "outputs": [
    {
     "name": "stdout",
     "output_type": "stream",
     "text": [
      "2^3 is 8\n"
     ]
    }
   ],
   "source": [
    "#8 Create a recursive Python function to calculate the power of a number (x^n).\n",
    "def power(x, n):\n",
    "    if n == 0:\n",
    "        return 1\n",
    "    else:\n",
    "        return x * power(x, n - 1)\n",
    "\n",
    "# Test the function\n",
    "x = 2\n",
    "n = 3\n",
    "result = power(x, n)\n",
    "print(f\"{x}^{n} is {result}\")\n"
   ]
  },
  {
   "cell_type": "code",
   "execution_count": 58,
   "id": "7b2bbd13-5f44-4804-b8cc-aa4b851fa1ad",
   "metadata": {},
   "outputs": [
    {
     "name": "stdout",
     "output_type": "stream",
     "text": [
      "All permutations of 'abc' are ['abc', 'acb', 'bac', 'bca', 'cab', 'cba']\n"
     ]
    }
   ],
   "source": [
    "#9  Write a recursive Python function to find all permutations of a given string.\n",
    "def permutations(s):\n",
    "    if len(s) == 0:\n",
    "        return [\"\"]\n",
    "    \n",
    "    perms = []\n",
    "    \n",
    "    for i, char in enumerate(s):\n",
    "        # Remove the current character from the string\n",
    "        remaining_chars = s[:i] + s[i+1:]\n",
    "        \n",
    "        # Generate permutations for the remaining characters\n",
    "        for perm in permutations(remaining_chars):\n",
    "            perms.append(char + perm)\n",
    "    \n",
    "    return perms\n",
    "\n",
    "# Test the function\n",
    "input_string = \"abc\"\n",
    "result = permutations(input_string)\n",
    "print(f\"All permutations of '{input_string}' are {result}\")\n"
   ]
  },
  {
   "cell_type": "code",
   "execution_count": 55,
   "id": "aee9ba22-1f40-4676-be61-5fe2128a9fd7",
   "metadata": {},
   "outputs": [
    {
     "name": "stdout",
     "output_type": "stream",
     "text": [
      "The input string is a palindrome: True\n"
     ]
    }
   ],
   "source": [
    "#10  Write a recursive Python function to check if a string is a palindrome.\n",
    "def is_palindrome(s):\n",
    "    s = s.lower().replace(\" \", \"\")\n",
    "    if len(s) <= 1:\n",
    "        return True\n",
    "    elif s[0] != s[-1]:\n",
    "        return False\n",
    "    else:\n",
    "        return is_palindrome(s[1:-1])\n",
    "\n",
    "# Test the function\n",
    "input_string = \"radar\"\n",
    "result = is_palindrome(input_string)\n",
    "print(f\"The input string is a palindrome: {result}\")\n"
   ]
  },
  {
   "cell_type": "code",
   "execution_count": 56,
   "id": "582ded84-64fb-40d3-9505-2524d0ae6c16",
   "metadata": {},
   "outputs": [
    {
     "name": "stdout",
     "output_type": "stream",
     "text": [
      "All possible combinations of [1, 2, 3] are [[], [3], [2], [2, 3], [1], [1, 3], [1, 2], [1, 2, 3]]\n"
     ]
    }
   ],
   "source": [
    "#11   Create a recursive Python function to generate all possible combinations of a list of elements.\n",
    "def combinations(elements):\n",
    "    if not elements:\n",
    "        return [[]]\n",
    "    else:\n",
    "        head, tail = elements[0], elements[1:]\n",
    "        tail_combinations = combinations(tail)\n",
    "        return tail_combinations + [ [head] + x for x in tail_combinations ]\n",
    "\n",
    "# Test the function\n",
    "elements = [1, 2, 3]\n",
    "result = combinations(elements)\n",
    "print(f\"All possible combinations of {elements} are {result}\")\n"
   ]
  },
  {
   "cell_type": "code",
   "execution_count": null,
   "id": "61323b4e-696b-441d-9f7b-683a30ee80a1",
   "metadata": {},
   "outputs": [],
   "source": [
    "#*************************************** Basics of Functions ***********************"
   ]
  },
  {
   "cell_type": "markdown",
   "id": "67366bc8-1f16-4478-8220-6d19cca8919e",
   "metadata": {},
   "source": [
    "# 1  What is a function in Python, and why is it used?\n",
    "In Python, a function is a block of reusable code that performs a specific task or a set of tasks. \n",
    "Functions are used to modularize code, improve code readability, and avoid code repetition. \n",
    "They allow you to encapsulate a sequence of statements into a single unit that can be called multiple \n",
    "times with different inputs."
   ]
  },
  {
   "cell_type": "markdown",
   "id": "baaab8c2-4b15-4740-aab3-446aa2243021",
   "metadata": {},
   "source": [
    "# 2How do you define a function in Python? Provide an example.\n",
    " In Python, you can define a function using the def keyword, \n",
    "    followed by the function name, a pair of parentheses ( ), and a colon :. \n",
    "    The function body is indented and contains the code to be executed when the function is called.\n",
    "\n",
    "Here's the basic syntax of defining a function:\n",
    "def function_name(parameters):\n",
    "    # Function body\n",
    "    # Code to perform a specific task\n",
    "    return result  # Optional, specifies the value to return\n"
   ]
  },
  {
   "cell_type": "markdown",
   "id": "ebf4d1d0-7e84-4e7a-9457-bab2be67fecc",
   "metadata": {},
   "source": [
    "#3  Explain the difference between a function definition and a function call.\n",
    " Example of Defining and Calling a Function:\n",
    "# Define a function to add two numbers\n",
    "def add_numbers(a, b):\n",
    "    result = a + b\n",
    "    return result\n",
    "\n",
    "# Call the function with arguments and store the result\n",
    "sum_result = add_numbers(5, 3)\n",
    "\n",
    "# Print the result\n",
    "print(\"The sum is:\", sum_result)\n",
    "\n",
    "Example of Defining and Calling a Function:\n",
    "\n",
    "\n",
    "# Define a function to add two numbers\n",
    "def add_numbers(a, b):\n",
    "    result = a + b\n",
    "    return result\n",
    "\n",
    "# Call the function with arguments and store the result\n",
    "sum_result = add_numbers(5, 3)\n",
    "\n",
    "# Print the result\n",
    "print(\"The sum is:\", sum_result)\n",
    "\n",
    "Difference Between a Function Definition and a Function Call:\n",
    "\n",
    "Function Definition: It is the part where you define the function, including its name, parameters, and the code inside it. The definition does not execute the function; it only specifies what the function should do when called.\n",
    "\n",
    "Function Call: It is the part where you actually invoke (call) the function with specific arguments or inputs. The function call executes the code defined in the function body and can return a result."
   ]
  },
  {
   "cell_type": "code",
   "execution_count": 59,
   "id": "75321697-98d0-4945-990e-89a0a0fd5eb7",
   "metadata": {},
   "outputs": [
    {
     "name": "stdout",
     "output_type": "stream",
     "text": [
      "11\n"
     ]
    }
   ],
   "source": [
    "#  4 Write a Python program that defines a function to calculate the sum of two numbers and then calls the function.\n",
    "# Defining the function\n",
    "def Sum(x,y):\n",
    "    return x+y\n",
    "#caling the function\n",
    "s=Sum(5,6)\n",
    "print(s)"
   ]
  },
  {
   "cell_type": "markdown",
   "id": "0a8c65ca-b42e-4936-8ea4-92972875494d",
   "metadata": {},
   "source": [
    "# 5 What is a function signature, and what information does it typically include?\n",
    "\n",
    "A function signature is a concise and standardized way to represent the essential information about a \n",
    "function in programming documentation and discussions. It typically includes the following information:\n",
    "\n",
    "Function Name: The name of the function, which identifies it and allows you to call it in your code.\n",
    "\n",
    "Parameters (Arguments): The list of parameters (inputs) that the function accepts. Each parameter is \n",
    "usually accompanied by its data type or a description of its purpose.\n",
    "\n",
    "Return Type: The data type of the value that the function returns. In statically typed languages, \n",
    "this is explicitly declared, while in dynamically typed languages like Python, it's often documented for clarity.\n",
    "\n",
    "Here's a general format for a function signature:\n",
    "\n",
    "def function_name(parameter1: type1, parameter2: type2, ...) -> return_type:\n",
    "In this format:\n",
    "\n",
    "function_name: The name of the function.\n",
    "parameter1: type1: The first parameter with its data type.\n",
    "parameter2: type2: The second parameter with its data type.\n",
    "...: Additional parameters if the function has more.\n",
    "-> return_type: The return type, indicated by an arrow (->) followed by the data type.\n",
    "Here's an example of a function signature and its parts explained:\n",
    "\n",
    "def calculate_average(numbers: list) -> float:\n",
    "In this example:\n",
    "\n",
    "calculate_average is the name of the function.\n",
    "numbers is the parameter, which is expected to be a list.\n",
    "float is the return type, indicating that the function will return a floating-point number.\n",
    "Function signatures are valuable for documentation and understanding how to use a function correctly. \n",
    "They provide a clear and standardized way to convey the essential information about a function's \n",
    "interface without needing to delve into the function's \n",
    "implementation details. This is especially helpful when working on larger projects or collaborating \n",
    "with other developers, as it promotes code clarity and maintainability."
   ]
  },
  {
   "cell_type": "code",
   "execution_count": 60,
   "id": "b2ddb76b-0da5-4663-8015-25f0719fc999",
   "metadata": {},
   "outputs": [
    {
     "name": "stdout",
     "output_type": "stream",
     "text": [
      "The product of 5 and 7 is: 35\n"
     ]
    }
   ],
   "source": [
    "#  Create a Python function that takes two arguments and returns their product.\n",
    "def multiply(a, b):\n",
    "    \"\"\"\n",
    "    This function takes two numbers as input and returns their product.\n",
    "\n",
    "    Parameters:\n",
    "    a (float/int): The first number.\n",
    "    b (float/int): The second number.\n",
    "\n",
    "    Returns:\n",
    "    float/int: The product of a and b.\n",
    "    \"\"\"\n",
    "    result = a * b\n",
    "    return result\n",
    "\n",
    "# Test the function\n",
    "num1 = 5\n",
    "num2 = 7\n",
    "product = multiply(num1, num2)\n",
    "print(f\"The product of {num1} and {num2} is: {product}\")\n"
   ]
  },
  {
   "cell_type": "code",
   "execution_count": null,
   "id": "9ba71fb8-abee-4e83-aadb-d677eb283954",
   "metadata": {},
   "outputs": [],
   "source": [
    "#***************************Function Parameters and Arguments****************"
   ]
  },
  {
   "cell_type": "markdown",
   "id": "ded5c8d8-10ea-40de-b683-927cf5e51868",
   "metadata": {},
   "source": [
    "# 1 Explain the concepts of formal parameters and actual arguments in Python functions.\n",
    "In Python functions, formal parameters and actual arguments are terms used to describe different \n",
    "aspects of how functions accept and receive data.\n",
    "\n",
    "Formal Parameters:\n",
    "\n",
    "Definition: Formal parameters are variables or names listed in the function's \n",
    "parameter list within the parentheses of a function definition. They act as placeholders \n",
    "for the values that will be provided as input when the function is called.\n",
    "\n",
    "Purpose: Formal parameters define the input interface of a function. \n",
    "They specify what kind of data the function expects to receive and \n",
    "how it should be referred to within the function's body.\n",
    "\n",
    "Example:\n",
    "    def add(x, y):  # Here, 'x' and 'y' are formal parameters.\n",
    "    result = x + y\n",
    "    return result\n",
    "2.Actual Arguments (Arguments):\n",
    "\n",
    "Definition: Actual arguments, often simply referred to as \"arguments,\" are the values or expressions \n",
    "provided when calling a function. They correspond to the formal parameters of the function and supply \n",
    "the actual data that the function will work with.\n",
    "\n",
    "Purpose: Actual arguments are the concrete values or objects that are passed to the function \n",
    "to be used within the function's calculations. They fulfill the role of the formal parameters.\n",
    "\n",
    "Example:\n",
    "    result = add(5, 3)  # Here, '5' and '3' are actual arguments.\n",
    "\n",
    "    \n",
    "In the example provided, the add function expects two formal parameters, \n",
    "x and y, which represent the numbers to be added. When you call the function with add(5, 3), \n",
    "you're providing the actual arguments 5 and 3 as input. Inside the function, x takes the value 5, \n",
    "and y takes the value 3. The function performs the addition using these actual arguments, yielding a result of 8.\n",
    "\n",
    "In summary, formal parameters are the placeholders for values that a function expects, \n",
    "while actual arguments are the concrete values or expressions provided when calling the function, \n",
    "and they fill in the placeholders defined by the formal parameters. This separation allows functions to be reusable \n",
    "with different inputs.\n"
   ]
  },
  {
   "cell_type": "code",
   "execution_count": null,
   "id": "66d77aae-3507-44eb-af8a-a34d452f01d4",
   "metadata": {},
   "outputs": [],
   "source": [
    "#2  Write a Python program that defines a function with default argument values.\n",
    "def greet(name=\"Guest\"):\n",
    "    \"\"\"\n",
    "    This function greets a person by their name or 'Guest' if no name is provided.\n",
    "\n",
    "    Parameters:\n",
    "    name (str): The name of the person (default is 'Guest').\n",
    "    \"\"\"\n",
    "    print(f\"Hello, {name}!\")\n",
    "\n",
    "# Call the function without providing a name\n",
    "greet()  # This will print: Hello, Guest!\n",
    "\n",
    "# Call the function with a name\n",
    "greet(\"Alice\")  # This will print: Hello, Alice!\n",
    "\n",
    "'''In this program:\n",
    "\n",
    "The greet function takes one parameter, name, which represents the name of the person to be greeted. \n",
    "It has a default value of \"Guest\".\n",
    "\n",
    "When you call greet() without providing an argument, it uses the default value, and the function greets \"Guest.\"\n",
    "\n",
    "When you call greet(\"Alice\"), it overrides the default value with the provided argument, and the function greets \"Alice.\"\n",
    "\n",
    "Default argument values are useful when you want to provide a sensible default behavior for a function while allowing users \n",
    "to customize it by providing their own values when needed.'''\n"
   ]
  },
  {
   "cell_type": "markdown",
   "id": "520888a9-b8eb-426b-a951-4aa9ce84d3c4",
   "metadata": {},
   "source": [
    "# 3 How do you use keyword arguments in Python function calls? Provide an example.\n",
    "In Python, you can use keyword arguments in function calls to specify which argument corresponds \n",
    "to which parameter by using the parameter names as keywords. This can make function calls more explicit \n",
    "and easier to understand, especially when a function has multiple parameters.\n",
    "\n",
    "Here's how you use keyword arguments in Python function calls:\n",
    "\n",
    "Specify the function name.\n",
    "Use the parameter_name=value syntax to assign values to parameters using their names.\n",
    "Here's an example:\n",
    "def greet(name, age):\n",
    "    \"\"\"\n",
    "    This function greets a person by their name and age.\n",
    "\n",
    "    Parameters:\n",
    "    name (str): The name of the person.\n",
    "    age (int): The age of the person.\n",
    "    \"\"\"\n",
    "    print(f\"Hello, {name}! You are {age} years old.\")\n",
    "\n",
    "# Call the function using keyword arguments\n",
    "greet(name=\"Alice\", age=30)\n",
    "\n",
    "In this example:\n",
    "\n",
    "We call the greet function with two keyword arguments: name=\"Alice\" and age=30. \n",
    "This explicitly assigns values to the name and age parameters based on their names.\n",
    "\n",
    "Inside the function, we can access the values of name and age as specified in the function call.\n",
    "\n",
    "Using keyword arguments makes it clear which value corresponds to which parameter, \n",
    "and it can be particularly helpful when a function has many parameters or when you want to provide arguments \n",
    "out of order.\n",
    "\n",
    "The output of the function call will be: \"Hello, Alice! You are 30 years old.\"\n"
   ]
  },
  {
   "cell_type": "code",
   "execution_count": null,
   "id": "867fc8a6-325d-49fb-9f78-fc1e006f5f5f",
   "metadata": {},
   "outputs": [],
   "source": [
    "#4  Create a Python function that accepts a variable number of arguments and calculates their sum.\n",
    "def calculate_sum(*args):\n",
    "    \"\"\"\n",
    "    This function calculates the sum of a variable number of arguments.\n",
    "\n",
    "    Parameters:\n",
    "    *args (float/int): A variable number of arguments.\n",
    "\n",
    "    Returns:\n",
    "    float/int: The sum of the arguments.\n",
    "    \"\"\"\n",
    "    result = sum(args)\n",
    "    return result\n",
    "\n",
    "# Test the function\n",
    "total = calculate_sum(2, 3, 5, 7)\n",
    "print(\"The sum is:\", total)\n",
    "'''In this example:\n",
    "\n",
    "The calculate_sum function is defined with *args as its parameter, which allows it to accept a \n",
    "variable number of arguments.\n",
    "\n",
    "Inside the function, the sum() function is used to calculate the sum of all the arguments passed to the function.\n",
    "\n",
    "The result is returned as the output of the function.\n",
    "\n",
    "When you call calculate_sum(2, 3, 5, 7), it will calculate the sum of the provided arguments (2, 3, 5, and 7) \n",
    "and print \"The sum is: 17\" in this case.\n",
    "\n",
    "You can call this function with any number of arguments, and it will calculate their sum.'''"
   ]
  },
  {
   "cell_type": "markdown",
   "id": "a64bcfd4-7c7f-4b2b-95d1-ffbf91b8ae9c",
   "metadata": {},
   "source": [
    "# 5 What is the purpose of the `*args` and `**kwargs` syntax in function parameter lists?\n",
    "The *args and **kwargs syntax in function parameter lists in Python serve the purpose of allowing \n",
    "functions to accept a variable number of arguments, both positional and keyword arguments, respectively. \n",
    "They provide flexibility when defining functions that need to handle different numbers of inputs.\n",
    "\n",
    "Here's what each of them does:\n",
    "\n",
    "*args (Arbitrary Positional Arguments):\n",
    "\n",
    "The *args syntax allows a function to accept a variable number of positional arguments.\n",
    "When you use *args in a function definition, it collects all the positional arguments passed to the function into a tuple.\n",
    "\n",
    "The name \"args\" is a convention; you can use any name preceded by a single asterisk.\n",
    "It is often used when you don't know in advance how many positional arguments will be passed to the function.\n",
    "Example:\n",
    "    def sum_numbers(*args):\n",
    "    return sum(args)\n",
    "\n",
    "result = sum_numbers(1, 2, 3, 4)\n",
    "\n",
    "2. **kwargs (Arbitrary Keyword Arguments):\n",
    "\n",
    "The **kwargs syntax allows a function to accept a variable number of keyword arguments.\n",
    "When you use **kwargs in a function definition, it collects all the keyword arguments \n",
    "(arguments with names) passed to the function into a dictionary.\n",
    "The name \"kwargs\" is a convention; you can use any name preceded by a double asterisk.\n",
    "It is often used when you want to pass a variable number of named parameters to a function.\n",
    "Example:\n",
    "    def print_info(**kwargs):\n",
    "    for key, value in kwargs.items():\n",
    "        print(f\"{key}: {value}\")\n",
    "\n",
    "print_info(name=\"Alice\", age=30, city=\"New York\")\n",
    "In both cases, *args and **kwargs provide flexibility and allow you to create more generic and \n",
    "versatile functions that can handle various combinations of arguments. However, \n",
    "it's important to note that their names (args and kwargs) are conventional, \n",
    "and you can use different names as long as you keep the single or double asterisk syntax."
   ]
  },
  {
   "cell_type": "code",
   "execution_count": null,
   "id": "483e9ef0-647c-47c3-9c3c-99012059109a",
   "metadata": {},
   "outputs": [],
   "source": [
    "#********************************  Return Values and Scoping   ******************"
   ]
  },
  {
   "cell_type": "markdown",
   "id": "42505ec0-60f9-4207-9ede-dded418f23c8",
   "metadata": {},
   "source": [
    "# 1.Describe the role of the `return` statement in Python functions and provide examples.\n",
    "The return statement in Python functions is used to specify the value that a function should return when it is called. \n",
    "It serves the role of providing an output or result from a function to the caller. \n",
    "When a return statement is encountered in a function, the function's execution is immediately terminated, \n",
    "and the specified value is sent back to the caller.\n",
    "\n",
    "Key points about the return statement:\n",
    "\n",
    "Function Output: The return statement is how you communicate the result or output of a function to the code that \n",
    "called the function. It allows you to pass data from the function back to the caller.\n",
    "\n",
    "Optional: Not all functions need to have a return statement. Some functions are designed to perform actions \n",
    "(e.g., printing, modifying variables) without returning a value, while others are meant to produce and return \n",
    "specific results.\n",
    "\n",
    "Terminates Function: When a return statement is executed, it immediately exits the function, and any code following \n",
    "the return statement is not executed.\n",
    "\n",
    "Here are some examples illustrating the use of the return statement:\n",
    "\n",
    "Example 1: A Function with a Return Value\n",
    "def add(a, b):\n",
    "    result = a + b\n",
    "    return result\n",
    "\n",
    "sum_result = add(3, 5)\n",
    "print(\"The sum is:\", sum_result)\n",
    "In this example, the add function returns the sum of a and b using return result. When you call add(3, 5), \n",
    "it returns the value 8, which is assigned to sum_result, and then it's printed.\n",
    "\n",
    "Example 2: A Function with No Return Value\n",
    "def greet(name):\n",
    "    print(f\"Hello, {name}!\")\n",
    "\n",
    "greet(\"Alice\")\n",
    "In this example, the greet function does not have a return statement. Instead, it prints a greeting message to \n",
    "the console. It's a function designed for actions rather than returning a value.\n",
    "\n",
    "Example 3: A Function with Conditional Return\n",
    "\n",
    "def is_even(num):\n",
    "    if num % 2 == 0:\n",
    "        return True\n",
    "    else:\n",
    "        return False\n",
    "\n",
    "result = is_even(7)\n",
    "print(\"Is it even?\", result)\n",
    "In this example, the is_even function checks if a number is even and returns True if it is and False otherwise. \n",
    "It demonstrates how a return statement can be used conditionally.\n",
    "\n",
    "In summary, the return statement is essential for functions that produce results or data that need to be used \n",
    "elsewhere in your program. It allows functions to encapsulate logic and calculations, making your code more modular \n",
    "and reusable.\n",
    "\n"
   ]
  },
  {
   "cell_type": "markdown",
   "id": "eea10150-d262-401a-9724-624aa2d73c9f",
   "metadata": {},
   "source": [
    "#2 Explain the concept of variable scope in Python, including local and global variables.\n",
    "Variable scope in Python refers to the region or context in which a variable is defined and can be accessed. \n",
    "Python has two primary variable scopes: local and global.\n",
    "\n",
    "Local Variables:\n",
    "\n",
    "Local variables are defined inside a specific block of code, typically within a function or a block of code enclosed \n",
    "by curly braces {} (e.g., within a loop or conditional statement).\n",
    "They are accessible only within the block where they are defined and are not visible to code outside that block.\n",
    "Once the block of code in which a local variable is defined exits (e.g., when a function returns or the loop ends), \n",
    "the local variable goes out of scope and is destroyed.\n",
    "Local variables are useful for temporary storage of data and for encapsulating data within specific functions or\n",
    "code blocks.\n",
    "Example:\n",
    "    def my_function():\n",
    "    local_var = 42  # This is a local variable\n",
    "    print(local_var)\n",
    "\n",
    "my_function()\n",
    "# The following line will result in an error because local_var is not accessible here:\n",
    "# print(local_var)\n",
    "Global Variables:\n",
    "\n",
    "Global variables are defined at the outermost level of a Python script or module and are accessible \n",
    "throughout the entire module.\n",
    "They can also be accessed from within functions or code blocks, but you need to use the global \n",
    "keyword to indicate that you're modifying a global variable within a local scope.\n",
    "Global variables are typically used for data that needs to be shared and accessed by various parts of a program.\n",
    "They persist throughout the program's execution and maintain their values as long as the program is running.\n",
    "Example:\n",
    "    global_var = 100  # This is a global variable\n",
    "\n",
    "def my_function():\n",
    "    print(global_var)  # Accessing the global variable\n",
    "\n",
    "my_function()\n",
    "print(global_var)\n",
    "\n",
    "def modify_global():\n",
    "    global global_var\n",
    "    global_var = 200  # Modifying the global variable\n",
    "\n",
    "modify_global()\n",
    "print(global_var)  # The global variable's value has been changed to 200\n",
    "In Python, it's important to understand the concept of variable scope because it determines where a variable can be \n",
    "used and whether it retains its value across different parts of your code. Properly managing variable scope is \n",
    "crucial for writing clear and maintainable code, as it helps prevent unintended side effects and naming conflicts."
   ]
  },
  {
   "cell_type": "code",
   "execution_count": 61,
   "id": "d9d67cce-e46f-4f67-af47-0c952b612afa",
   "metadata": {},
   "outputs": [
    {
     "name": "stdout",
     "output_type": "stream",
     "text": [
      "Inside access_global(): 100\n",
      "Inside modify_global(): 200\n",
      "Inside access_global(): 200\n",
      "Inside create_local(): 300\n",
      "Inside access_global(): 200\n",
      "Outside all functions: 200\n"
     ]
    },
    {
     "data": {
      "text/plain": [
       "\"In this program:\\n\\nglobal_var is a global variable defined at the outermost level of the script.\\n\\naccess_global() accesses the global variable and prints its value.\\n\\nmodify_global() uses the global keyword to modify the global variable and also prints its value.\\n\\ncreate_local() creates a local variable with the same name as the global variable, but it doesn't affect the global\\nvariable. This demonstrates the concept of local scope taking precedence over global scope.\\n\\nThe program calls these functions and prints the global variable both inside and outside of the functions \\nto show how variable scope works.\\n\\nWhen you run this program, you'll see how global and local variables interact within functions and how \\nchanges made to global variables persist across different function calls.\""
      ]
     },
     "execution_count": 61,
     "metadata": {},
     "output_type": "execute_result"
    }
   ],
   "source": [
    "#3 Write a Python program that demonstrates the use of global variables within functions.\n",
    "# Define a global variable\n",
    "global_var = 100\n",
    "\n",
    "# Function that accesses the global variable\n",
    "def access_global():\n",
    "    print(\"Inside access_global():\", global_var)\n",
    "\n",
    "# Function that modifies the global variable\n",
    "def modify_global():\n",
    "    global global_var\n",
    "    global_var = 200\n",
    "    print(\"Inside modify_global():\", global_var)\n",
    "\n",
    "# Function that creates a local variable with the same name\n",
    "def create_local():\n",
    "    global_var = 300\n",
    "    print(\"Inside create_local():\", global_var)\n",
    "\n",
    "# Call the functions\n",
    "access_global()  # Access the global variable\n",
    "modify_global()  # Modify the global variable\n",
    "access_global()  # Access the modified global variable\n",
    "create_local()   # Create a local variable with the same name\n",
    "access_global()  # Access the global variable again\n",
    "\n",
    "# Print the global variable outside of any function\n",
    "print(\"Outside all functions:\", global_var)\n",
    "'''In this program:\n",
    "\n",
    "global_var is a global variable defined at the outermost level of the script.\n",
    "\n",
    "access_global() accesses the global variable and prints its value.\n",
    "\n",
    "modify_global() uses the global keyword to modify the global variable and also prints its value.\n",
    "\n",
    "create_local() creates a local variable with the same name as the global variable, but it doesn't affect the global\n",
    "variable. This demonstrates the concept of local scope taking precedence over global scope.\n",
    "\n",
    "The program calls these functions and prints the global variable both inside and outside of the functions \n",
    "to show how variable scope works.\n",
    "\n",
    "When you run this program, you'll see how global and local variables interact within functions and how \n",
    "changes made to global variables persist across different function calls.'''"
   ]
  },
  {
   "cell_type": "code",
   "execution_count": null,
   "id": "51fc278d-1959-4116-96b5-ff810c78f15d",
   "metadata": {},
   "outputs": [],
   "source": [
    "#4 def factorial(n):\n",
    "    \"\"\"\n",
    "    Calculate the factorial of a non-negative integer n.\n",
    "\n",
    "    Parameters:\n",
    "    n (int): The number for which to calculate the factorial.\n",
    "\n",
    "    Returns:\n",
    "    int: The factorial of n.\n",
    "    \"\"\"\n",
    "    if n < 0:\n",
    "        return \"Factorial is undefined for negative numbers\"\n",
    "    elif n == 0:\n",
    "        return 1\n",
    "    else:\n",
    "        result = 1\n",
    "        for i in range(1, n + 1):\n",
    "            result *= i\n",
    "        return result\n",
    "\n",
    "# Test the function\n",
    "number = 5\n",
    "fact_result = factorial(number)\n",
    "print(f\"The factorial of {number} is:\", fact_result)\n",
    "'''In this example:\n",
    "\n",
    "The factorial function takes a single argument n, which is the non-negative integer for which we want to calculate the factorial.\n",
    "\n",
    "It checks if n is negative, and if so, it returns a message indicating that factorial is undefined for negative numbers.\n",
    "\n",
    "If n is zero, it returns 1 because the factorial of 0 is defined as 1.\n",
    "\n",
    "For positive integers, it calculates the factorial using a for loop, multiplying the result by each integer from 1 to n.\n",
    "\n",
    "The result of the calculation is returned as the output of the function.\n",
    "\n",
    "When you call factorial(5), it will calculate the factorial of 5, which is 5 * 4 * 3 * 2 * 1 = 120, \n",
    "and print \"The factorial of 5 is: 120\".'''"
   ]
  },
  {
   "cell_type": "code",
   "execution_count": null,
   "id": "99abbfa5-e16f-4ce0-8891-a3b3cb94f105",
   "metadata": {},
   "outputs": [],
   "source": [
    "#5 How can you access variables defined outside a function from within the function?\n",
    "In Python, you can access variables defined outside a function from within the function by treating them as global \n",
    "variables. To do this, you need to use the global keyword before the variable name inside the function. \n",
    "Here's how it works:\n",
    "\n",
    "Define the variable at the outermost scope, typically outside all functions.\n",
    "\n",
    "Inside the function where you want to access the global variable, use the global keyword followed by \n",
    "the variable name to indicate that you are referring to the global variable.\n",
    "\n",
    "Here's an example:\n",
    "# Define a global variable\n",
    "global_var = 100\n",
    "\n",
    "# Function that accesses the global variable\n",
    "def access_global():\n",
    "    global global_var  # Declare the global variable\n",
    "    print(\"Inside access_global():\", global_var)\n",
    "\n",
    "# Call the function\n",
    "access_global()  # Access the global variable\n",
    "\n",
    "# Print the global variable outside of any function\n",
    "print(\"Outside the function:\", global_var)\n",
    "'''In this example:\n",
    "\n",
    "global_var is defined as a global variable outside all functions.\n",
    "\n",
    "Inside the access_global() function, we use global global_var to declare that we want to access the global variable\n",
    "named global_var. This allows us to read its value and print it.\n",
    "\n",
    "When we call access_global(), it accesses and prints the global variable.\n",
    "\n",
    "Outside the function, we print the global variable again to demonstrate that it maintains its value and is \n",
    "accessible throughout the entire script.\n",
    "\n",
    "This way, you can access and manipulate global variables from within functions when needed. However, it's generally \n",
    "a good practice to avoid excessive use of global variables and to pass data into functions as arguments when possible, \n",
    "as it makes your code more modular and easier to understand.'''"
   ]
  },
  {
   "cell_type": "code",
   "execution_count": null,
   "id": "5497a0b4-37d6-4d31-b401-00c69968b044",
   "metadata": {},
   "outputs": [],
   "source": [
    "#3 *******************************Lambda Functions and Higher-Order Functions*******"
   ]
  },
  {
   "cell_type": "markdown",
   "id": "334eb693-a2ca-4b26-b5b9-8b5f04e0e669",
   "metadata": {},
   "source": [
    "# 1 What are lambda functions in Python, and when are they typically used?\n",
    "Lambda functions in Python, also known as \"anonymous functions\" or \"lambda expressions,\" are small, \n",
    "unnamed functions defined using the lambda keyword. They are typically used for short, simple operations \n",
    "where a full function definition is not necessary. Lambda functions are a way to create small, one-time-use \n",
    "functions without explicitly defining them using def.\n",
    "\n",
    "Here's the basic syntax of a lambda function:\n",
    "    lambda arguments: expression\n",
    "Key characteristics of lambda functions:\n",
    "\n",
    "Anonymous: Lambda functions are anonymous because they don't have a name like regular functions defined with def. \n",
    "Instead, they are defined and used in a single line of code.\n",
    "\n",
    "Single Expression: Lambda functions can contain only a single expression, and the result of that expression is \n",
    "automatically returned. There is no need for a return statement.\n",
    "\n",
    "Limited Use Cases: Lambda functions are suitable for simple operations, such as calculations, filtering, or \n",
    "transforming data within functions like map(), filter(), and reduce().\n",
    "\n",
    "Common use cases for lambda functions include:\n",
    "\n",
    "Sorting: Lambda functions are often used as the key argument in sorting functions like sorted() to customize sorting \n",
    "based on specific criteria.\n",
    "\n",
    "Example:\n",
    "    students = [(\"Alice\", 25), (\"Bob\", 22), (\"Eve\", 28)]\n",
    "    students.sort(key=lambda student: student[1])  # Sort by age\n",
    "\n",
    "Filtering: Lambda functions can be used with the filter() function to filter elements from an iterable based on a \n",
    "condition.\n",
    "\n",
    "Example:\n",
    "    numbers = [1, 2, 3, 4, 5, 6]\n",
    "    even_numbers = list(filter(lambda x: x % 2 == 0, numbers))\n",
    "Mapping: Lambda functions are used with the map() function to apply a function to each element of an iterable.\n",
    "\n",
    "Example:\n",
    "    numbers = [1, 2, 3, 4, 5]\n",
    "    squared_numbers = list(map(lambda x: x**2, numbers))\n",
    "While lambda functions are handy for simple tasks, they are not suitable for complex logic or functions with \n",
    "multiple statements. In such cases, it's better to define regular named functions using def\n",
    "\n",
    "Reducing: Lambda functions can be used with the reduce() function from the functools module to perform cumulative operations on elements of an iterable.\n",
    "\n",
    "Example:\n",
    "    from functools import reduce\n",
    "    numbers = [1, 2, 3, 4, 5]\n",
    "    product = reduce(lambda x, y: x * y, numbers)\n"
   ]
  },
  {
   "cell_type": "code",
   "execution_count": null,
   "id": "2e59f8fe-7a63-440c-ad3d-c629a59808c8",
   "metadata": {},
   "outputs": [],
   "source": [
    "#2 Write a Python program that uses lambda functions to sort a list of tuples based on the second element.\n",
    "# List of tuples\n",
    "students = [(\"Alice\", 25), (\"Bob\", 22), (\"Eve\", 28), (\"David\", 22)]\n",
    "\n",
    "# Sort the list based on the second element of each tuple\n",
    "sorted_students = sorted(students, key=lambda student: student[1])\n",
    "\n",
    "# Print the sorted list\n",
    "for student in sorted_students:\n",
    "    print(student)\n",
    "'''In this program:\n",
    "\n",
    "We have a list of tuples named students, where each tuple contains a student's name as the first element and their \n",
    "age as the second element.\n",
    "\n",
    "We use the sorted() function to sort the list of tuples based on the second element (age) of each tuple.\n",
    "\n",
    "The key argument of the sorted() function accepts a lambda function lambda student: student[1], \n",
    "which extracts the second element (age) from each tuple for comparison during the sorting process.\n",
    "\n",
    "Finally, we print the sorted list of students, which will be sorted based on their ages.'''"
   ]
  },
  {
   "cell_type": "code",
   "execution_count": null,
   "id": "b33d4d4f-3406-40c5-99c0-5c371b8648ac",
   "metadata": {},
   "outputs": [],
   "source": [
    "#3  Explain the concept of higher-order functions in Python, and provide an example.\n",
    "'''In Python, a higher-order function is a function that can take one or more functions as arguments and/or return a \n",
    "function as its result. Essentially, it treats functions as first-class citizens, allowing you to work with functions in \n",
    "the same way you work with other data types like numbers or strings.\n",
    "\n",
    "Key concepts related to higher-order functions:\n",
    "\n",
    "Functions as Arguments: Higher-order functions can accept other functions as arguments, which allows you to pass\n",
    "behavior or functionality as an input to a function. These functions that are passed as arguments are often referred \n",
    "to as \"callback\" or \"predicate\" functions.\n",
    "\n",
    "Functions as Return Values: Higher-order functions can also return functions as their output. This is particularly \n",
    "useful for creating functions on the fly or for creating closures that capture variables from their enclosing scope.\n",
    "\n",
    "Here's an example of a higher-order function:'''\n",
    "def apply(func, x):\n",
    "    \"\"\"\n",
    "    Apply the given function `func` to the input `x`.\n",
    "\n",
    "    Parameters:\n",
    "    func (function): The function to apply.\n",
    "    x: The input value.\n",
    "\n",
    "    Returns:\n",
    "    The result of applying `func` to `x`.\n",
    "    \"\"\"\n",
    "    return func(x)\n",
    "\n",
    "# Define two simple functions\n",
    "def square(x):\n",
    "    return x**2\n",
    "\n",
    "def double(x):\n",
    "    return x * 2\n",
    "\n",
    "# Using the higher-order function 'apply' with different functions\n",
    "result1 = apply(square, 5)  # Apply 'square' function to 5\n",
    "result2 = apply(double, 10)  # Apply 'double' function to 10\n",
    "\n",
    "print(\"Result of square(5):\", result1)\n",
    "print(\"Result of double(10):\", result2)\n",
    "'''In this example:\n",
    "\n",
    "The apply function is a higher-order function because it takes another function (func) as an argument along with an \n",
    "input value (x).\n",
    "\n",
    "We define two simple functions, square and double, which are used as callback functions.\n",
    "\n",
    "We use the apply function to apply these callback functions to different input values. For example, \n",
    "apply(square, 5) applies the square function to the input 5.\n",
    "\n",
    "Higher-order functions are commonly used in functional programming paradigms and provide a powerful way to abstract \n",
    "and modularize code by separating behavior from the code that applies that behavior. They are particularly useful when \n",
    "you want to create reusable and flexible code that can work with different functions or apply different transformations\n",
    "to data.'''"
   ]
  },
  {
   "cell_type": "code",
   "execution_count": 62,
   "id": "1d1354f4-bd1b-4d2f-91f4-af4e2b4fd3bf",
   "metadata": {},
   "outputs": [
    {
     "name": "stdout",
     "output_type": "stream",
     "text": [
      "Original Numbers: [1, 2, 3, 4, 5]\n",
      "Squared Numbers: [1, 4, 9, 16, 25]\n",
      "Doubled Numbers: [2, 4, 6, 8, 10]\n"
     ]
    }
   ],
   "source": [
    "#4 Create a Python function that takes a list of numbers and a function as arguments, applying the function to each element in the list.\n",
    "\n",
    "def apply_function_to_list(numbers, func):\n",
    "    \"\"\"\n",
    "    Apply the given function to each element in the list 'numbers'.\n",
    "\n",
    "    Parameters:\n",
    "    numbers (list): A list of numbers.\n",
    "    func (function): The function to apply to each element.\n",
    "\n",
    "    Returns:\n",
    "    list: A list containing the results of applying 'func' to each element.\n",
    "    \"\"\"\n",
    "    result = []\n",
    "    for number in numbers:\n",
    "        result.append(func(number))\n",
    "    return result\n",
    "\n",
    "# Define a function to square a number\n",
    "def square(x):\n",
    "    return x**2\n",
    "\n",
    "# Define a function to double a number\n",
    "def double(x):\n",
    "    return x * 2\n",
    "\n",
    "# List of numbers\n",
    "numbers = [1, 2, 3, 4, 5]\n",
    "\n",
    "# Apply the 'square' function to the list\n",
    "squared_numbers = apply_function_to_list(numbers, square)\n",
    "\n",
    "# Apply the 'double' function to the list\n",
    "doubled_numbers = apply_function_to_list(numbers, double)\n",
    "\n",
    "print(\"Original Numbers:\", numbers)\n",
    "print(\"Squared Numbers:\", squared_numbers)\n",
    "print(\"Doubled Numbers:\", doubled_numbers)\n"
   ]
  },
  {
   "cell_type": "code",
   "execution_count": null,
   "id": "92a8712c-df34-40ef-b38b-8fea00dcd6da",
   "metadata": {},
   "outputs": [],
   "source": [
    "# ********************  Built-in Functions:**********************************"
   ]
  },
  {
   "cell_type": "markdown",
   "id": "5e4e2e41-8e54-4fa3-ac4d-826457e9c7b9",
   "metadata": {},
   "source": [
    "# Describe the role of built-in functions like `len()`, `max()`, and `min()` in Python.\n",
    "\n",
    "Built-in functions like len(), max(), and min() in Python play essential roles in performing common operations on data \n",
    "structures and values. Here's an overview of each of these functions and their roles:\n",
    "\n",
    "1. len():\n",
    "\n",
    "Role: The len() function is used to determine the length or number of items in various Python data structures, \n",
    "including strings, lists, tuples, dictionaries, and sets.\n",
    "Usage: You pass the data structure as an argument to len(), and it returns an integer representing the length of \n",
    "the data structure.\n",
    "Example:\n",
    "    text = \"Hello, World!\"\n",
    "    length = len(text)  # Returns 13\n",
    "\n",
    "    \n",
    "2. max():\n",
    "\n",
    "Role: The max() function is used to find the maximum element among a sequence of values, such as numbers or strings.\n",
    "Usage: You can pass one or more arguments (iterable elements) to max(), and it returns the largest element.\n",
    "Example:\n",
    "    numbers = [5, 2, 8, 1, 9]\n",
    "    max_value = max(numbers)  # Returns 9\n",
    "\n",
    "\n",
    "3. min():\n",
    "\n",
    "Role: The min() function is used to find the minimum element among a sequence of values, similar to max().\n",
    "Usage: You pass one or more arguments (iterable elements) to min(), and it returns the smallest element.\n",
    "Example:\n",
    "    numbers = [5, 2, 8, 1, 9]\n",
    "    min_value = min(numbers)  # Returns 1\n",
    "These built-in functions are handy for various tasks in Python:\n",
    "\n",
    "len() is used for counting elements, which can be useful for checking the size of data structures or for iterating \n",
    "through them.\n",
    "\n",
    "max() and min() help identify the largest and smallest values, which is particularly valuable when you need to find\n",
    "extremes in a dataset.\n",
    "\n",
    "These functions are part of Python's standard library, making them readily available for use without needing to define \n",
    "custom functions for these common tasks. They contribute to Python's readability and ease of use."
   ]
  },
  {
   "cell_type": "code",
   "execution_count": 63,
   "id": "510fbd22-fc8a-437a-bcef-74a64ced7a13",
   "metadata": {},
   "outputs": [
    {
     "name": "stdout",
     "output_type": "stream",
     "text": [
      "Original Numbers: [1, 2, 3, 4, 5]\n",
      "Squared Numbers: [1, 4, 9, 16, 25]\n"
     ]
    },
    {
     "data": {
      "text/plain": [
       "'In this program:\\n\\nWe define a function square(x) that squares a given number x.\\n\\nWe have a list of numbers named numbers.\\n\\nWe use the map() function to apply the square function to each element in the numbers list. The map() function \\nreturns an iterable, so we convert it to a list using list(map(...)) to see the results.\\n\\nFinally, we print both the original list and the list of squared numbers.\\n\\nThe map() function is useful for applying a given function to all elements of an iterable (in this case, \\nthe list numbers) and collecting the results in a new iterable. This is a more concise and expressive way to\\nperform the same operation on all elements of a list compared to using a for loop.'"
      ]
     },
     "execution_count": 63,
     "metadata": {},
     "output_type": "execute_result"
    }
   ],
   "source": [
    "#2 Write a Python program that uses the `map()` function to apply a function to each element of a list.\n",
    "# Define a function to square a number\n",
    "def square(x):\n",
    "    return x**2\n",
    "\n",
    "# List of numbers\n",
    "numbers = [1, 2, 3, 4, 5]\n",
    "\n",
    "# Use the map() function to apply the 'square' function to each element\n",
    "squared_numbers = list(map(square, numbers))\n",
    "\n",
    "# Print the original list and the result\n",
    "print(\"Original Numbers:\", numbers)\n",
    "print(\"Squared Numbers:\", squared_numbers)\n",
    "'''In this program:\n",
    "\n",
    "We define a function square(x) that squares a given number x.\n",
    "\n",
    "We have a list of numbers named numbers.\n",
    "\n",
    "We use the map() function to apply the square function to each element in the numbers list. The map() function \n",
    "returns an iterable, so we convert it to a list using list(map(...)) to see the results.\n",
    "\n",
    "Finally, we print both the original list and the list of squared numbers.\n",
    "\n",
    "The map() function is useful for applying a given function to all elements of an iterable (in this case, \n",
    "the list numbers) and collecting the results in a new iterable. This is a more concise and expressive way to\n",
    "perform the same operation on all elements of a list compared to using a for loop.'''"
   ]
  },
  {
   "cell_type": "markdown",
   "id": "06a999a6-0b66-4c94-a637-8700e943e267",
   "metadata": {},
   "source": [
    "#3 How does the `filter()` function work in Python, and when would you use it?\n",
    "The filter() function in Python is used to filter elements from an iterable (such as a list, tuple, or other iterable types) based on a specified condition, defined by a given function. It returns an iterable containing only the elements for which the condition is True.\n",
    "\n",
    "Here's how the filter() function works:\n",
    "\n",
    "You provide two arguments to filter(): a function (called the \"predicate\" function) and an iterable.\n",
    "\n",
    "The predicate function is applied to each element of the iterable.\n",
    "\n",
    "If the predicate function returns True for an element, that element is included in the result.\n",
    "\n",
    "If the predicate function returns False for an element, that element is excluded from the result.\n",
    "\n",
    "Here's the basic syntax of the filter() function:\n",
    " \n",
    "    filter(predicate_function, iterable)\n",
    "Common use cases for the filter() function include:\n",
    "\n",
    "Filtering a list of numbers to keep only the even or odd numbers.\n",
    "Selecting elements from a list that meet certain criteria.\n",
    "Removing unwanted values or filtering out None or empty elements from a list.\n",
    "Filtering elements from a dataset based on specific conditions.\n",
    "Here's an example that filters even numbers from a list of integers:\n",
    "\n",
    "numbers = [1, 2, 3, 4, 5, 6]\n",
    "\n",
    "# Define a predicate function to check if a number is even\n",
    "def is_even(x):\n",
    "    return x % 2 == 0\n",
    "\n",
    "# Use the filter() function to get a list of even numbers\n",
    "even_numbers = list(filter(is_even, numbers))\n",
    "\n",
    "print(\"Original Numbers:\", numbers)\n",
    "print(\"Even Numbers:\", even_numbers)\n",
    "In this example, the is_even() function is used as the predicate function. The filter() function applies is_even() \n",
    "to each element of the numbers list and returns a new list containing only the even numbers.\n",
    "\n",
    "The filter() function provides a concise and readable way to filter elements from an iterable based on a condition,\n",
    "avoiding the need for explicit for loops and conditional statements"
   ]
  },
  {
   "cell_type": "code",
   "execution_count": null,
   "id": "3b026d27-8f54-4028-a52d-e099a13410df",
   "metadata": {},
   "outputs": [],
   "source": [
    "#4 Create a Python program that uses the `reduce()` function to find the product of all elements\n",
    "in a list.\n",
    "from functools import reduce\n",
    "\n",
    "# List of numbers\n",
    "numbers = [1, 2, 3, 4, 5]\n",
    "\n",
    "# Define a function to calculate the product of two numbers\n",
    "def multiply(x, y):\n",
    "    return x * y\n",
    "\n",
    "# Use the reduce() function to find the product of all elements in the list\n",
    "product = reduce(multiply, numbers)\n",
    "\n",
    "# Print the result\n",
    "print(\"Numbers:\", numbers)\n",
    "print(\"Product of all elements:\", product)\n"
   ]
  },
  {
   "cell_type": "code",
   "execution_count": null,
   "id": "63f0eadf-61a6-4ea9-9220-60308a3e62c1",
   "metadata": {},
   "outputs": [],
   "source": [
    "#  ***********************************Function Documentation and Best Practices:*****"
   ]
  },
  {
   "cell_type": "markdown",
   "id": "2dc92027-7b21-47d3-9f3b-099e0953e45b",
   "metadata": {},
   "source": [
    "#1  Explain the purpose of docstrings in Python functions and how to write them.\n",
    "\n",
    "Docstrings in Python are used to provide documentation and information about a function, class, module, or method. They serve as a form of inline documentation and are meant to help developers understand how to use the code or what the code does. The purpose of docstrings is to make your code more readable, maintainable, and user-friendly.\n",
    "\n",
    "Here's how to write docstrings in Python functions:\n",
    "\n",
    "Triple Quotes: Docstrings are typically enclosed in triple quotes (either single or double). You can use single quotes like ''' or double quotes like \"\"\".\n",
    "\n",
    "Position: Place the docstring immediately after the function or method definition (i.e., right below the def line).\n",
    "\n",
    "Content: In the docstring, provide a concise and informative description of what the function does, its arguments, its return value, and any other relevant information.\n",
    "\n",
    "Sections: You can structure your docstring with sections such as \"Parameters,\" \"Returns,\" and \"Examples\" to make it more organized.\n",
    "\n",
    "PEP 257: Following the guidelines outlined in PEP 257, the Python Enhancement Proposal for docstring conventions, can help maintain consistency in your code.\n",
    "\n",
    "Here's an example of a Python function with a docstring:\n",
    "def add(a, b):\n",
    "    \"\"\"\n",
    "    Add two numbers.\n",
    "\n",
    "    Parameters:\n",
    "    a (int): The first number.\n",
    "    b (int): The second number.\n",
    "\n",
    "    Returns:\n",
    "    int: The sum of 'a' and 'b'.\n",
    "    \"\"\"\n",
    "    return a + b\n",
    "In this example:\n",
    "\n",
    "The docstring is enclosed in triple double quotes \"\"\".\n",
    "\n",
    "The docstring provides a clear description of what the add function does, the parameters it accepts (a and b), and the type of values they should be.\n",
    "\n",
    "It specifies that the function returns an integer, which is the sum of a and b.\n",
    "\n",
    "To access the docstring of a function, you can use the help() function or the .__doc__ attribute of the function object:\n",
    "\n",
    "print(help(add))\n",
    "print(add.__doc__)\n",
    "\n",
    "Writing meaningful docstrings is considered good practice in Python development because it helps both developers \n",
    "and users of your code understand its purpose and usage without needing to dive into the source code. Proper \n",
    "documentation can save time and reduce confusion when working on larger projects or collaborating with others.\n"
   ]
  },
  {
   "cell_type": "markdown",
   "id": "8f6219a8-61e7-4e66-8ffd-bb899c079594",
   "metadata": {},
   "source": [
    "#2 Describe some best practices for naming functions and variables in Python, including naming conventions and guidelines.\n",
    "Naming functions and variables in Python follows a set of conventions and best practices to make your code more readable, maintainable, and consistent. Here are some best practices and guidelines for naming functions and variables in Python:\n",
    "\n",
    "1. Use Descriptive Names:\n",
    "\n",
    "Choose names that clearly convey the purpose or meaning of the variable or function.\n",
    "Avoid single-letter variable names (e.g., x, y, i) unless they represent common loop counters or mathematical variables.\n",
    "\n",
    "2. Follow PEP 8:\n",
    "\n",
    "PEP 8 is the Python Enhancement Proposal that provides style guidelines for Python code. It includes recommendations for naming conventions.\n",
    "Function names should be lowercase with words separated by underscores (snake_case). For example, calculate_average_score.\n",
    "Variable names should also use snake_case. For example, student_name or total_count.\n",
    "Constants, if used, should be in all uppercase with words separated by underscores (e.g., MAX_VALUE).\n",
    "3. Be Consistent:\n",
    "\n",
    "Maintain consistency in your naming conventions throughout your codebase. If you start with one convention, stick with it.\n",
    "If you're working on an existing project, follow the naming conventions used in that project.\n",
    "\n",
    "4. Use Verb-Noun Pairing for Functions:\n",
    "\n",
    "Function names should typically begin with a verb or action word that describes what the function does. For example, calculate_average, get_data, or print_report.\n",
    "\n",
    "5. Avoid Reserved Words:\n",
    "\n",
    "Avoid using Python's reserved words (e.g., class, if, else, while) as function or variable names.\n",
    "\n",
    "6. se Meaningful Parameters:\n",
    "\n",
    "When defining function parameters, use meaningful names that indicate the purpose of each parameter. For example, instead of def calculate_area(a, b), use def calculate_area(length, width).\n",
    "\n",
    "7. Use Abbreviations Sparingly:\n",
    "\n",
    "Avoid excessive use of abbreviations or acronyms in names, as they can make the code less readable. Use abbreviations only if they are widely understood or standard in the domain.\n",
    "\n",
    "8. Provide Documentation:\n",
    "\n",
    "Use docstrings to provide clear and concise documentation for functions, explaining their purpose, parameters, and return values.\n",
    "\n",
    "9. Use Plural for Collections:\n",
    "\n",
    "When naming variables that represent collections (e.g., lists, sets, dictionaries), use plural names. For example, students, books, or colors.\n",
    "\n",
    "10. Avoid Ambiguous Names:\n",
    "\n",
    "Avoid names that are ambiguous or easily confused. For example, don't use names like l (lowercase 'L') or O (capital 'O') that can be mistaken for numbers.\n",
    "\n",
    "11. Use CamelCase for Classes:\n",
    "\n",
    "When naming classes, use CamelCase (also known as CapWords or PascalCase), where each word starts with a capital letter. For example, StudentRecord or CarModel.\n",
    "\n",
    "12.  Use Meaningful Prefixes or Suffixes for Booleans:\n",
    "\n",
    "When naming boolean variables, it's helpful to use prefixes like is_, has_, or suffixes like _flag to indicate that the variable represents a boolean condition. For example, is_valid or has_data_flag.\n",
    "\n",
    "13. Consider Consistency in Project-Specific Guidelines:\n",
    "\n",
    "If you are working on a project with specific naming conventions or guidelines, follow those guidelines even if \n",
    "they deviate from PEP 8.\n",
    "\n",
    "Consistent and descriptive naming is crucial for writing clean and maintainable code. It helps you and others understand \n",
    "the code's purpose and behavior, making it easier to debug, modify, and extend."
   ]
  },
  {
   "cell_type": "code",
   "execution_count": null,
   "id": "a02730e4-2c4d-4527-883c-337807dd58e3",
   "metadata": {},
   "outputs": [],
   "source": []
  }
 ],
 "metadata": {
  "kernelspec": {
   "display_name": "Python 3 (ipykernel)",
   "language": "python",
   "name": "python3"
  },
  "language_info": {
   "codemirror_mode": {
    "name": "ipython",
    "version": 3
   },
   "file_extension": ".py",
   "mimetype": "text/x-python",
   "name": "python",
   "nbconvert_exporter": "python",
   "pygments_lexer": "ipython3",
   "version": "3.10.8"
  }
 },
 "nbformat": 4,
 "nbformat_minor": 5
}
