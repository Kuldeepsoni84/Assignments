{
 "cells": [
  {
   "cell_type": "code",
   "execution_count": 2,
   "id": "f4eaa0c8-b2f2-479d-ba50-6a22911a71ac",
   "metadata": {},
   "outputs": [],
   "source": [
    "#Problem 1.Given an array of n numbers, give an algorithm which gives the element appearing maximum\n",
    "#number of times?\n",
    "\n",
    "def find_max_occurrence(arr):\n",
    "    frequency = {}\n",
    "    \n",
    "    for num in arr:\n",
    "        if num in frequency:\n",
    "            frequency[num] += 1\n",
    "        else:\n",
    "            frequency[num] = 1\n",
    "    \n",
    "    max_occurrence_element = max(frequency, key=frequency.get)\n",
    "    return max_occurrence_element\n"
   ]
  },
  {
   "cell_type": "code",
   "execution_count": 3,
   "id": "57aeec9f-b653-46d9-989c-ce636b1ade01",
   "metadata": {},
   "outputs": [],
   "source": [
    "'''Problem 2 : We are given a list of n-1 integers and these integers are in the range of 1 to n . There are no\n",
    "duplicates in the list. One of the integers is missing in the list. Give an algorithm to find that element Ex:\n",
    "[1,2,4,6,3,7,8] 5 is the missing num.'''\n",
    "def find_missing_element(arr, n):\n",
    "    expected_sum = n * (n + 1) // 2\n",
    "    actual_sum = sum(arr)\n",
    "    missing_element = expected_sum - actual_sum\n",
    "    return missing_element\n"
   ]
  },
  {
   "cell_type": "code",
   "execution_count": 4,
   "id": "470a4105-faa3-4e9d-8478-a712c500f917",
   "metadata": {},
   "outputs": [],
   "source": [
    "'''Problem 3 : Given an array of n positive numbers. All numbers occurs even number of times except 1 which\n",
    "occurs odd number of times. Find that number in O(n) time and O(1) space. Ex: [1,2,3,2,3,1,3]. 3 is repeats odd\n",
    "times.'''\n",
    "def find_odd_occurrence(arr):\n",
    "    result = 0\n",
    "    for num in arr:\n",
    "        result ^= num  # XOR operation cancels out even occurrences\n",
    "    return result\n"
   ]
  },
  {
   "cell_type": "code",
   "execution_count": 5,
   "id": "938d26d7-1438-4a1e-832d-408b50df5c16",
   "metadata": {},
   "outputs": [],
   "source": [
    "'''Problem 4 : Given an array of n elements. Find two elements in the array such that their sum is equal to given\n",
    "element K.'''\n",
    "def find_elements_with_sum(arr, k):\n",
    "    seen = set()\n",
    "    for num in arr:\n",
    "        complement = k - num\n",
    "        if complement in seen:\n",
    "            return num, complement\n",
    "        seen.add(num)\n",
    "    return None\n"
   ]
  },
  {
   "cell_type": "code",
   "execution_count": 6,
   "id": "95c1daa0-3e03-4332-8e03-2e30ec1c6f5e",
   "metadata": {},
   "outputs": [],
   "source": [
    "'''Problem 5 : Given an array of both positive and negative numbers, find two numbers such that their sum is\n",
    "closest to 0. Ex: [ 1 ,60 ,-10, 70, -80,85]. Ans : -80,85.'''\n",
    "def closest_to_zero_sum(arr):\n",
    "    arr.sort()\n",
    "    left, right = 0, len(arr) - 1\n",
    "    closest_sum = float('inf')\n",
    "    result = None\n",
    "\n",
    "    while left < right:\n",
    "        current_sum = arr[left] + arr[right]\n",
    "        if abs(current_sum) < abs(closest_sum):\n",
    "            closest_sum = current_sum\n",
    "            result = (arr[left], arr[right])\n",
    "\n",
    "        if current_sum < 0:\n",
    "            left += 1\n",
    "        else:\n",
    "            right -= 1\n",
    "\n",
    "    return result\n"
   ]
  },
  {
   "cell_type": "code",
   "execution_count": null,
   "id": "8030cd70-c5db-4b79-bb12-3674de1af5af",
   "metadata": {},
   "outputs": [],
   "source": [
    "'''Problem 6 : Given an array of n elements . Find three elements such that their sum is equal to the given\n",
    "number.'''\n",
    "def find_three_elements_with_sum(arr, target_sum):\n",
    "    arr.sort()\n",
    "\n",
    "    for i in range(len(arr) - 2):\n",
    "        left, right = i + 1, len(arr) - 1\n",
    "        while left < right:\n",
    "            current_sum = arr[i] + arr[left] + arr[right]\n",
    "            if current_sum == target_sum:\n",
    "                return arr[i], arr[left], arr[right]\n",
    "            elif current_sum < target_sum:\n",
    "                left += 1\n",
    "            else:\n",
    "                right -= 1\n",
    "\n",
    "    return None\n"
   ]
  },
  {
   "cell_type": "code",
   "execution_count": 7,
   "id": "200ae0b9-91fd-4f4b-8bd8-7e59e82cdc38",
   "metadata": {},
   "outputs": [],
   "source": [
    "'''Problem 7 : Given an array of n elements . Find three elements i, j, k in the array such that\n",
    "i * i + j * j = k*k.'''\n",
    "def find_pythagorean_triplets(arr):\n",
    "    n = len(arr)\n",
    "    arr.sort()\n",
    "\n",
    "    for k in range(n - 1, 1, -1):\n",
    "        left, right = 0, k - 1\n",
    "\n",
    "        while left < right:\n",
    "            a = arr[left] * arr[left]\n",
    "            b = arr[right] * arr[right]\n",
    "            c = arr[k] * arr[k]\n",
    "\n",
    "            if a + b == c:\n",
    "                return arr[left], arr[right], arr[k]\n",
    "            elif a + b < c:\n",
    "                left += 1\n",
    "            else:\n",
    "                right -= 1\n",
    "\n",
    "    return None\n",
    "#OR\n",
    "\n",
    "def find_pythagorean_triplets_optimized(arr):\n",
    "    n = len(arr)\n",
    "    arr_squared = {num * num for num in arr}\n",
    "\n",
    "    for i in range(n):\n",
    "        for j in range(i + 1, n):\n",
    "            sum_of_squares = arr[i] * arr[i] + arr[j] * arr[j]\n",
    "            if sum_of_squares in arr_squared:\n",
    "                return arr[i], arr[j], int(sum_of_squares**0.5)\n",
    "\n",
    "    return None\n"
   ]
  },
  {
   "cell_type": "code",
   "execution_count": 8,
   "id": "f727d039-1baa-4140-824b-81fd7781d116",
   "metadata": {},
   "outputs": [],
   "source": [
    "'''Problem 8 : An element is a majority if it appears more than n/2 times. Give an algorithm takes an array of n\n",
    "element as argument and identifies a majority (if it exists).'''\n",
    "def find_majority_element(arr):\n",
    "    candidate, count = None, 0\n",
    "\n",
    "    for num in arr:\n",
    "        if count == 0:\n",
    "            candidate = num\n",
    "            count = 1\n",
    "        elif candidate == num:\n",
    "            count += 1\n",
    "        else:\n",
    "            count -= 1\n",
    "\n",
    "    # Check if the candidate is the majority element\n",
    "    if arr.count(candidate) > len(arr) // 2:\n",
    "        return candidate\n",
    "    else:\n",
    "        return None\n"
   ]
  },
  {
   "cell_type": "code",
   "execution_count": 9,
   "id": "ca33143f-9421-4e01-a9b6-0c9fdf86eaf0",
   "metadata": {},
   "outputs": [],
   "source": [
    "'''Problem 9 : Given n × n matrix, and in each row all 1’s are followed by 0’s. Find the row with the maximum\n",
    "number of 0’s.'''\n",
    "def find_max_zeros_row(matrix):\n",
    "    max_zeros = 0\n",
    "    row_index = -1\n",
    "\n",
    "    for i, row in enumerate(matrix):\n",
    "        zeros_count = row.count(0)\n",
    "        if zeros_count > max_zeros:\n",
    "            max_zeros = zeros_count\n",
    "            row_index = i\n",
    "\n",
    "    return row_index\n"
   ]
  },
  {
   "cell_type": "code",
   "execution_count": 1,
   "id": "f736b437-15b8-447b-bc74-c707456a3b03",
   "metadata": {},
   "outputs": [
    {
     "name": "stdout",
     "output_type": "stream",
     "text": [
      "[0, 0, 0, 0, 0, 1, 1, 1, 1, 1, 2, 2]\n"
     ]
    }
   ],
   "source": [
    "'''Problem 10 : Sort an array of 0’s, 1’s and 2’s [or R’s, G’s and B’s]: Given an array A[] consisting of 0’s, 1’s and\n",
    "2’s, give an algorithm for sorting A[].The algorithm should put all 0’s first, then all 1’s and finally all 2’s at the\n",
    "end. Example Input = {0,1,1,0,1,2,1,2,0,0,0,1}, Output = {0,0,0,0,0,1,1,1,1,1,2,2}'''\n",
    "def sort_zeros_ones_twos(arr):\n",
    "    low, mid, high = 0, 0, len(arr) - 1\n",
    "\n",
    "    while mid <= high:\n",
    "        if arr[mid] == 0:\n",
    "            arr[low], arr[mid] = arr[mid], arr[low]\n",
    "            low += 1\n",
    "            mid += 1\n",
    "        elif arr[mid] == 1:\n",
    "            mid += 1\n",
    "        else:\n",
    "            arr[mid], arr[high] = arr[high], arr[mid]\n",
    "            high -= 1\n",
    "\n",
    "    return arr\n",
    "arr=[0,1,1,0,1,2,1,2,0,0,0,1]\n",
    "print(sort_zeros_ones_twos(arr))"
   ]
  }
 ],
 "metadata": {
  "kernelspec": {
   "display_name": "Python 3 (ipykernel)",
   "language": "python",
   "name": "python3"
  },
  "language_info": {
   "codemirror_mode": {
    "name": "ipython",
    "version": 3
   },
   "file_extension": ".py",
   "mimetype": "text/x-python",
   "name": "python",
   "nbconvert_exporter": "python",
   "pygments_lexer": "ipython3",
   "version": "3.10.8"
  }
 },
 "nbformat": 4,
 "nbformat_minor": 5
}
