{
 "cells": [
  {
   "cell_type": "code",
   "execution_count": null,
   "id": "1f94e7e2-503d-46bf-9f3f-7330aa0cecb0",
   "metadata": {},
   "outputs": [],
   "source": [
    "#Basic Level:"
   ]
  },
  {
   "cell_type": "code",
   "execution_count": null,
   "id": "e93ac6cf-6c4b-4fde-af42-6e76ff9c2e58",
   "metadata": {},
   "outputs": [],
   "source": [
    "#1. Write a Python program to print the numbers from 1 to 10 using a `for` loop.\n",
    "for i in range(1,11):\n",
    "    print(i)"
   ]
  },
  {
   "cell_type": "code",
   "execution_count": 3,
   "id": "7e3eba82-da45-411b-a375-aaa109048d30",
   "metadata": {},
   "outputs": [
    {
     "name": "stdout",
     "output_type": "stream",
     "text": [
      "Sum Of List Item 103\n"
     ]
    }
   ],
   "source": [
    "#2. Create a program that calculates the sum of all numbers in a list using a `for` loop.\n",
    "test_list=[4,5,7,9,78]\n",
    "s=0\n",
    "for item in test_list:\n",
    "   s+=item\n",
    "print(\"sum of list item\".title(),s)"
   ]
  },
  {
   "cell_type": "code",
   "execution_count": 6,
   "id": "775f87c7-b594-450c-b4c9-37784d75b0fd",
   "metadata": {},
   "outputs": [],
   "source": [
    "#3. Write a program to print the characters of a string in reverse order using a `for` loop.\n",
    "test_str='hello! students how are you?'\n",
    "for ch in range(-1,-(len(test_str)+1),-1):\n",
    "    print(test_str[ch])"
   ]
  },
  {
   "cell_type": "code",
   "execution_count": 11,
   "id": "864d72b7-6d7a-488a-9772-b3095c6922c8",
   "metadata": {},
   "outputs": [
    {
     "name": "stdin",
     "output_type": "stream",
     "text": [
      "Enter A Number 3\n"
     ]
    },
    {
     "name": "stdout",
     "output_type": "stream",
     "text": [
      "Factorial Of Given Number Is: 6\n"
     ]
    }
   ],
   "source": [
    "#4. Develop a program that finds the factorial of a given number using a `for` loop.\n",
    "n=int(input(\"enter a number\".title()))\n",
    "fact=1\n",
    "for i in range(n,1,-1):\n",
    "    fact*=i\n",
    "print('factorial of given number is:'.title(),fact)"
   ]
  },
  {
   "cell_type": "code",
   "execution_count": 12,
   "id": "94a0d7e7-7308-4894-813e-c0cfc8a85460",
   "metadata": {},
   "outputs": [
    {
     "name": "stdin",
     "output_type": "stream",
     "text": [
      "Enter A Number 7\n"
     ]
    },
    {
     "name": "stdout",
     "output_type": "stream",
     "text": [
      "7 * 1 = 7\n",
      "7 * 2 = 14\n",
      "7 * 3 = 21\n",
      "7 * 4 = 28\n",
      "7 * 5 = 35\n",
      "7 * 6 = 42\n",
      "7 * 7 = 49\n",
      "7 * 8 = 56\n",
      "7 * 9 = 63\n",
      "7 * 10 = 70\n"
     ]
    }
   ],
   "source": [
    "#5. Create a program to print the multiplication table of a given number using a `for` loop.\n",
    "n=int(input(\"enter a number\".title()))\n",
    "\n",
    "for i in range(1,11):\n",
    "    print(n,'*',i,'=',n*i)"
   ]
  },
  {
   "cell_type": "code",
   "execution_count": 14,
   "id": "c780fa1b-7e82-4fb9-a347-5d2dc55bbcb6",
   "metadata": {},
   "outputs": [
    {
     "name": "stdout",
     "output_type": "stream",
     "text": [
      "Odd Count in List: 6\n",
      "Even Count in List: 4\n"
     ]
    }
   ],
   "source": [
    "#6. Write a program that counts the number of even and odd numbers in a list using a `for` loop\n",
    "test_list=[5,7,67,9,8,78,9,90,45,86]\n",
    "even_count=0\n",
    "odd_count=0\n",
    "for no in test_list:\n",
    "    if no%2 == 0:\n",
    "        even_count+=1\n",
    "    else:\n",
    "        odd_count+=1\n",
    "print(\"Odd Count in List:\",odd_count)\n",
    "print(\"Even Count in List:\",even_count)"
   ]
  },
  {
   "cell_type": "code",
   "execution_count": 15,
   "id": "b7ef8984-bb26-4d4c-a462-72722ae37d60",
   "metadata": {},
   "outputs": [
    {
     "name": "stdout",
     "output_type": "stream",
     "text": [
      "Squre Of  1 Is: 1\n",
      "Squre Of  2 Is: 4\n",
      "Squre Of  3 Is: 9\n",
      "Squre Of  4 Is: 16\n",
      "Squre Of  5 Is: 25\n"
     ]
    }
   ],
   "source": [
    "#7. Develop a program that prints the squares of numbers from 1 to 5 using a `for` loop\n",
    "for i in range(1,6):\n",
    "    print('squre of '.title(),i,'Is:',i**2)\n"
   ]
  },
  {
   "cell_type": "code",
   "execution_count": 17,
   "id": "8bdedd4f-ff0b-4d54-9398-bde15871b22c",
   "metadata": {},
   "outputs": [
    {
     "name": "stdout",
     "output_type": "stream",
     "text": [
      "String Length: 14\n"
     ]
    }
   ],
   "source": [
    "#8. Create a program to find the length of a string without using the `len()` function\n",
    "test_str=\"hello students\"\n",
    "str_len=0\n",
    "for ch in test_str:\n",
    "    str_len+=1\n",
    "print('String Length:',str_len)"
   ]
  },
  {
   "cell_type": "code",
   "execution_count": 18,
   "id": "8fc0df57-f82f-402b-8b66-24f85c390888",
   "metadata": {},
   "outputs": [
    {
     "name": "stdout",
     "output_type": "stream",
     "text": [
      "Average Of List Number Is 20.6\n"
     ]
    }
   ],
   "source": [
    "#9. Write a program that calculates the average of a list of numbers using a `for` loop.\n",
    "test_list=[4,5,7,9,78]\n",
    "s=0\n",
    "avg=0\n",
    "for item in test_list:\n",
    "   s+=item\n",
    "avg=s/len(test_list)\n",
    "print(\"average of list number is\".title(),avg)"
   ]
  },
  {
   "cell_type": "code",
   "execution_count": 19,
   "id": "c2a0bd75-5243-42f1-a2df-33e82e196381",
   "metadata": {},
   "outputs": [
    {
     "name": "stdout",
     "output_type": "stream",
     "text": [
      "0 1 1 2 3 5 8 "
     ]
    }
   ],
   "source": [
    "#10. Develop a program that prints the first `n` Fibonacci numbers using a `for` loop\n",
    "# python code to print first n fibonacci numbers\n",
    "def fibonacci_numbers(num):\n",
    "    if num == 0:\n",
    "        return 0\n",
    "    elif num == 1:\n",
    "        return 1\n",
    "    else:\n",
    "        # printing fibonacci numbers\n",
    "        return fibonacci_numbers(num-2)+fibonacci_numbers(num-1)\n",
    "  \n",
    "  \n",
    "n = 7\n",
    "for i in range(0, n):\n",
    "    print(fibonacci_numbers(i), end=\" \")"
   ]
  },
  {
   "cell_type": "code",
   "execution_count": null,
   "id": "8c32a2eb-3ab3-4928-90c9-02ff321ade86",
   "metadata": {},
   "outputs": [],
   "source": [
    "#************************************Intermediate Level:*************************"
   ]
  },
  {
   "cell_type": "code",
   "execution_count": 20,
   "id": "975b648e-1d58-45ab-9c07-6f2b0284515d",
   "metadata": {},
   "outputs": [
    {
     "name": "stdout",
     "output_type": "stream",
     "text": [
      "Duplicate Item In List Are: [4, 5, 7, 5, 4, 8, 9, 8, 7, 5, 4, 9]\n"
     ]
    }
   ],
   "source": [
    "#11. Write a program to check if a given list contains any duplicates using a `for` loop.\n",
    "test_list=[4,5,7,5,4,6,8,9,99,8,7,5,4,9,78]\n",
    "duplicate_item_list=[x for x in test_list if test_list.count(x) >1]\n",
    "print(\"duplicate item in list are:\".title(),duplicate_item_list)"
   ]
  },
  {
   "cell_type": "code",
   "execution_count": 25,
   "id": "dbea6f8f-52a5-429d-9a07-f5d17c4070f8",
   "metadata": {},
   "outputs": [
    {
     "name": "stdout",
     "output_type": "stream",
     "text": [
      "2 3 5 7 11 13 17 19 23 29 31 37 41 43 47 53 59 61 67 71 73 79 83 89 97 "
     ]
    }
   ],
   "source": [
    "#12. Create a program that prints the prime numbers in a given range using a `for` loop.\n",
    "p=100\n",
    "for i in range(2,p+1):\n",
    "    for j in range(2,i//2+1):\n",
    "        if i%j==0:\n",
    "            break\n",
    "    else:\n",
    "        print(i,end=' ')"
   ]
  },
  {
   "cell_type": "code",
   "execution_count": 26,
   "id": "9a6ca8d2-b3c0-4595-8dfd-196587fc20c1",
   "metadata": {},
   "outputs": [
    {
     "name": "stdout",
     "output_type": "stream",
     "text": [
      "Total No of Vowel in given String  4\n"
     ]
    }
   ],
   "source": [
    "#13. Develop a program that counts the number of vowels in a string using a `for` loop.\n",
    "test_str=\"Hello students\"\n",
    "vowel_count=0\n",
    "for ch in test_str:\n",
    "    if ch in 'aeiouAEIOU':\n",
    "        vowel_count+=1\n",
    "print(\"Total No of Vowel in given String \",vowel_count)\n"
   ]
  },
  {
   "cell_type": "code",
   "execution_count": 28,
   "id": "1ba8f089-5724-4ddf-a8b4-909e7a9627c9",
   "metadata": {},
   "outputs": [
    {
     "name": "stdout",
     "output_type": "stream",
     "text": [
      "Maximum Element In A 2D List Is :  456\n"
     ]
    }
   ],
   "source": [
    "#14. Write a program to find the maximum element in a 2D list using a nested `for` loop.\n",
    "test_list=[[34,56,76],[89,98],[56,87,90,456]]\n",
    "max_no=test_list[0][0]\n",
    "for sub_list in test_list:\n",
    "    for no in sub_list:\n",
    "        if max_no<no:\n",
    "            max_no=no\n",
    "print('Maximum Element in a 2D list Is : '.title(),max_no)"
   ]
  },
  {
   "cell_type": "code",
   "execution_count": 30,
   "id": "f374852f-79a3-4bf5-81b0-b3f59a02407c",
   "metadata": {},
   "outputs": [
    {
     "name": "stdin",
     "output_type": "stream",
     "text": [
      "Enter list Item 7\n"
     ]
    },
    {
     "name": "stdout",
     "output_type": "stream",
     "text": [
      "list before delete [5, 6, 5, 7, 8, 9, 8, 7, 9, 8, 9, 6, 5, 4, 8, 9, 9]\n",
      "list after delete [5, 6, 5, 8, 9, 8, 9, 8, 9, 6, 5, 4, 8, 9, 9]\n"
     ]
    }
   ],
   "source": [
    "#15. Create a program that removes all occurrences of a specific element from a list using a `for` loop.\n",
    "test_list=[5,6,5,7,8,9,8,7,9,8,9,6,5,4,8,9,9]\n",
    "item=int(input(\"Enter list Item\"))\n",
    "print('list before delete',test_list)\n",
    "item_count=test_list.count(item)\n",
    "for i in range(item_count):\n",
    "    test_list.remove(item)\n",
    "print('list after delete',test_list)"
   ]
  },
  {
   "cell_type": "code",
   "execution_count": 37,
   "id": "c81206dd-d2b4-4451-99fa-5add61acb5bc",
   "metadata": {},
   "outputs": [
    {
     "name": "stdin",
     "output_type": "stream",
     "text": [
      "Enter A Number 9\n"
     ]
    },
    {
     "name": "stdout",
     "output_type": "stream",
     "text": [
      "2 * 1 = 2, 2 * 2 = 4, 2 * 3 = 6, 2 * 4 = 8, 2 * 5 = 10, 2 * 6 = 12, 2 * 7 = 14, 2 * 8 = 16, 2 * 9 = 18, 2 * 10 = 20, \n",
      "3 * 1 = 3, 3 * 2 = 6, 3 * 3 = 9, 3 * 4 = 12, 3 * 5 = 15, 3 * 6 = 18, 3 * 7 = 21, 3 * 8 = 24, 3 * 9 = 27, 3 * 10 = 30, \n",
      "4 * 1 = 4, 4 * 2 = 8, 4 * 3 = 12, 4 * 4 = 16, 4 * 5 = 20, 4 * 6 = 24, 4 * 7 = 28, 4 * 8 = 32, 4 * 9 = 36, 4 * 10 = 40, \n",
      "5 * 1 = 5, 5 * 2 = 10, 5 * 3 = 15, 5 * 4 = 20, 5 * 5 = 25, 5 * 6 = 30, 5 * 7 = 35, 5 * 8 = 40, 5 * 9 = 45, 5 * 10 = 50, \n",
      "6 * 1 = 6, 6 * 2 = 12, 6 * 3 = 18, 6 * 4 = 24, 6 * 5 = 30, 6 * 6 = 36, 6 * 7 = 42, 6 * 8 = 48, 6 * 9 = 54, 6 * 10 = 60, \n",
      "7 * 1 = 7, 7 * 2 = 14, 7 * 3 = 21, 7 * 4 = 28, 7 * 5 = 35, 7 * 6 = 42, 7 * 7 = 49, 7 * 8 = 56, 7 * 9 = 63, 7 * 10 = 70, \n",
      "8 * 1 = 8, 8 * 2 = 16, 8 * 3 = 24, 8 * 4 = 32, 8 * 5 = 40, 8 * 6 = 48, 8 * 7 = 56, 8 * 8 = 64, 8 * 9 = 72, 8 * 10 = 80, \n",
      "9 * 1 = 9, 9 * 2 = 18, 9 * 3 = 27, 9 * 4 = 36, 9 * 5 = 45, 9 * 6 = 54, 9 * 7 = 63, 9 * 8 = 72, 9 * 9 = 81, 9 * 10 = 90, \n"
     ]
    }
   ],
   "source": [
    "#16. Develop a program that generates a multiplication table for numbers from 1 to 5 using a nested `for` loop.\n",
    "n=int(input(\"enter a number\".title()))\n",
    "for j in range(2,n+1):\n",
    "    for i in range(1,11):\n",
    "        print(j,'*',i,'=',j*i,sep=\" \",end=', ')\n",
    "    print()"
   ]
  },
  {
   "cell_type": "code",
   "execution_count": 40,
   "id": "dd0f8d16-d025-493d-aa01-026a1c3b7512",
   "metadata": {},
   "outputs": [
    {
     "name": "stdout",
     "output_type": "stream",
     "text": [
      "45 Fahrenheit is Equal To: 7.222222222222222 in Celsius\n",
      "67 Fahrenheit is Equal To: 19.444444444444443 in Celsius\n",
      "87 Fahrenheit is Equal To: 30.555555555555557 in Celsius\n",
      "67 Fahrenheit is Equal To: 19.444444444444443 in Celsius\n",
      "98 Fahrenheit is Equal To: 36.666666666666664 in Celsius\n",
      "78 Fahrenheit is Equal To: 25.555555555555557 in Celsius\n",
      "88 Fahrenheit is Equal To: 31.11111111111111 in Celsius\n",
      "90 Fahrenheit is Equal To: 32.22222222222222 in Celsius\n",
      "123 Fahrenheit is Equal To: 50.55555555555556 in Celsius\n",
      "98 Fahrenheit is Equal To: 36.666666666666664 in Celsius\n"
     ]
    }
   ],
   "source": [
    "#17. Write a program that converts a list of Fahrenheit temperatures to Celsius using a `for` loop.\n",
    "fahrenheit_list=[45,67,87,67,98,78,88,90,123,98]\n",
    "for ftemp in fahrenheit_list:\n",
    "    ctemp=(ftemp - 32) * 5/9\n",
    "    print(ftemp,'Fahrenheit is Equal To:',ctemp, 'in Celsius')"
   ]
  },
  {
   "cell_type": "code",
   "execution_count": 47,
   "id": "3350225e-f7b1-45c6-baf4-bee7c0f21a10",
   "metadata": {},
   "outputs": [
    {
     "name": "stdout",
     "output_type": "stream",
     "text": [
      "Common Item In Both List Are [3, 4, 5, 8, 9, 87]\n"
     ]
    }
   ],
   "source": [
    "#18. Create a program to print the common elements from two lists using a `for` loop.\n",
    "test_list1=[1,2,3,4,7,5,8,7,9,3,87]\n",
    "test_list2=[87,8,9,3,98,78,5,4]\n",
    "comm_list=[]\n",
    "for i in test_list1:\n",
    "    if i in test_list2 and i not in comm_list:\n",
    "        comm_list.append(i)\n",
    "print(\"Common item in both list are\".title(),comm_list)"
   ]
  },
  {
   "cell_type": "code",
   "execution_count": 50,
   "id": "371cb726-90b4-4054-b906-b2301ffcc953",
   "metadata": {},
   "outputs": [
    {
     "name": "stdout",
     "output_type": "stream",
     "text": [
      "*\n",
      "**\n",
      "***\n",
      "****\n",
      "*****\n",
      "******\n",
      "*******\n",
      "********\n",
      "*********\n"
     ]
    }
   ],
   "source": [
    "#19. Develop a program that prints the pattern of right-angled triangles using a `for` loop. Use ‘*’ to draw the \n",
    "n=9\n",
    "for i in range(1,n+1):\n",
    "    print('*'*i)"
   ]
  },
  {
   "cell_type": "code",
   "execution_count": 54,
   "id": "c77eb317-0d6c-4a5b-99ae-cd464eb8eff6",
   "metadata": {},
   "outputs": [
    {
     "name": "stdin",
     "output_type": "stream",
     "text": [
      "Enter the first number:  71\n",
      "Enter the second number:  90\n"
     ]
    },
    {
     "name": "stdout",
     "output_type": "stream",
     "text": [
      "The GCD of 71 and 90 is 1\n"
     ]
    }
   ],
   "source": [
    "#20. Write a program to find the greatest common divisor (GCD) of two numbers using a `for` loop\n",
    "# Input two numbers from the user\n",
    "a = int(input(\"Enter the first number: \"))\n",
    "b = int(input(\"Enter the second number: \"))\n",
    "gcd=1\n",
    "for i in range(b, 0, -1):\n",
    "        if a % i == 0 and b % i == 0:\n",
    "            gcd=i\n",
    "            break\n",
    "print(f\"The GCD of {a} and {b} is {gcd}\")"
   ]
  },
  {
   "cell_type": "code",
   "execution_count": null,
   "id": "dca422c8-36a2-4705-bb09-1dff70166afe",
   "metadata": {},
   "outputs": [],
   "source": [
    "#***********************************Advanced Level:********************************\n"
   ]
  },
  {
   "cell_type": "code",
   "execution_count": 60,
   "id": "ec4071a6-68f8-44ef-8028-a0cfbf617038",
   "metadata": {},
   "outputs": [
    {
     "name": "stdout",
     "output_type": "stream",
     "text": [
      "Sum Of All Digits In Given List 265\n"
     ]
    }
   ],
   "source": [
    "#21. Create a program that calculates the sum of the digits of numbers in a list using a list comprehension.\n",
    "test_list=[6,7,98,87,67]\n",
    "t=[sum(x for x in test_list)]\n",
    "print(\"sum of all digits in given list\".title(),t[0])"
   ]
  },
  {
   "cell_type": "code",
   "execution_count": 15,
   "id": "6b78000b-39f0-47ff-bf30-ac34a2e0fe9f",
   "metadata": {},
   "outputs": [
    {
     "name": "stdout",
     "output_type": "stream",
     "text": [
      "[2, 3]\n"
     ]
    }
   ],
   "source": [
    "#22. Write a program to find the prime factors of a given number using a `for` loop and list comprehension.\n",
    "n=24\n",
    "factors = [x for x in range(2, n + 1) if n % x == 0 and all(x % i != 0 for i in range(2, int(x**0.5) + 1))]\n",
    "'''This line contains a list comprehension that does the following:\n",
    "\n",
    "It iterates through a range of numbers from 2 to n using the for loop (e.g., for x in range(2, n + 1)).\n",
    "For each number x in that range, it checks two conditions:\n",
    "n % x == 0: This checks if n is divisible by x, which means x is a factor of n.\n",
    "all(x % i != 0 for i in range(2, int(x**0.5) + 1)): This checks if x is a prime number. It uses a nested list comprehension to check if x is not\n",
    "divisible by any number i in the range from 2 to the square root of x (inclusive).\n",
    "If both conditions are met, x is considered a prime factor of n, and it is included in the factor list'''\n",
    "print(factors)"
   ]
  },
  {
   "cell_type": "code",
   "execution_count": 17,
   "id": "ffae05eb-dd8e-4401-90c7-0a77cb1413f4",
   "metadata": {},
   "outputs": [
    {
     "name": "stdout",
     "output_type": "stream",
     "text": [
      "[2, 3, 4, 5, 6, 7, 8]\n"
     ]
    }
   ],
   "source": [
    "#23. Develop a program that extracts unique elements from a list and stores them in a new list using a list comprehension.\n",
    "test_list=[2,3,3,4,5,4,6,7,7,6,7,8,7,4,5,]\n",
    "unique_list=[]\n",
    "[unique_list.append(x) for x in test_list if x not in unique_list]\n",
    "print(unique_list)"
   ]
  },
  {
   "cell_type": "code",
   "execution_count": 19,
   "id": "3c35535a-233c-4ea6-a797-acbb55daf476",
   "metadata": {},
   "outputs": [
    {
     "name": "stdin",
     "output_type": "stream",
     "text": [
      "Enter a number 5012\n"
     ]
    },
    {
     "name": "stdout",
     "output_type": "stream",
     "text": [
      "Palindrom No From The Given Range [0, 1, 2, 3, 4, 5, 6, 7, 8, 9, 11, 22, 33, 44, 55, 66, 77, 88, 99, 101, 111, 121, 131, 141, 151, 161, 171, 181, 191, 202, 212, 222, 232, 242, 252, 262, 272, 282, 292, 303, 313, 323, 333, 343, 353, 363, 373, 383, 393, 404, 414, 424, 434, 444, 454, 464, 474, 484, 494, 505, 515, 525, 535, 545, 555, 565, 575, 585, 595, 606, 616, 626, 636, 646, 656, 666, 676, 686, 696, 707, 717, 727, 737, 747, 757, 767, 777, 787, 797, 808, 818, 828, 838, 848, 858, 868, 878, 888, 898, 909, 919, 929, 939, 949, 959, 969, 979, 989, 999, 1001, 1111, 1221, 1331, 1441, 1551, 1661, 1771, 1881, 1991, 2002, 2112, 2222, 2332, 2442, 2552, 2662, 2772, 2882, 2992, 3003, 3113, 3223, 3333, 3443, 3553, 3663, 3773, 3883, 3993, 4004, 4114, 4224, 4334, 4444, 4554, 4664, 4774, 4884, 4994, 5005]\n"
     ]
    }
   ],
   "source": [
    "#24. Create a program that generates a list of all palindromic numbers up to a specified limit using a list comprehension.\n",
    "n=int(input(\"Enter a number\"))\n",
    "palindrome_list=[x for x in range(n+1) if str(x)==str(x)[::-1]]\n",
    "print('Palindrom no from the given range'.title(),palindrome_list)"
   ]
  },
  {
   "cell_type": "code",
   "execution_count": 21,
   "id": "29b33d11-6db8-46f9-9898-034e8b7f720b",
   "metadata": {},
   "outputs": [
    {
     "name": "stdout",
     "output_type": "stream",
     "text": [
      "FLATTEN LIST [1, 2, 3, 43, 90, 45, 6, 54, 32, 54, 5, 43, 76]\n"
     ]
    }
   ],
   "source": [
    "#25. Write a program to flatten a nested list using list comprehension.\n",
    "test_list=[[1,2,3,43,90],[45,6,54],[32,54,5,43,76]]\n",
    "flatten_list=[x for sublist in test_list for x in sublist]\n",
    "print('flatten list'.upper(),flatten_list)"
   ]
  },
  {
   "cell_type": "code",
   "execution_count": 22,
   "id": "dd14fe19-630d-45bd-9c7d-d9d4b560fe58",
   "metadata": {},
   "outputs": [
    {
     "name": "stdout",
     "output_type": "stream",
     "text": [
      "Sum of even numbers: 148\n",
      "Sum of odd numbers: 231\n"
     ]
    }
   ],
   "source": [
    "#26. Develop a program that computes the sum of even and odd numbers in a list separately using list comprehension.\n",
    "test_list=[2,23,43,45,32,3,45,65,4,56,7,54]\n",
    "sum_even=sum([x for x in test_list if x%2==0])\n",
    "sum_odd=sum([x for x in test_list if x%2!=0])\n",
    "print(\"Sum of even numbers:\", sum_even)\n",
    "print(\"Sum of odd numbers:\", sum_odd)"
   ]
  },
  {
   "cell_type": "code",
   "execution_count": 24,
   "id": "32c89b98-05f3-4bc1-b79b-dbd15eb6ce99",
   "metadata": {},
   "outputs": [
    {
     "name": "stdout",
     "output_type": "stream",
     "text": [
      "squares of odd numbers between 1 and 10 [1, 9, 25, 49, 81]\n"
     ]
    }
   ],
   "source": [
    "#27. Create a program that generates a list of squares of odd numbers between 1 and 10 using list\n",
    "#comprehension.\n",
    "squre_odd=[x**2 for x in range(1,11) if x%2!=0]\n",
    "print('squares of odd numbers between 1 and 10',squre_odd)"
   ]
  },
  {
   "cell_type": "code",
   "execution_count": 43,
   "id": "a0300839-e08e-4f38-9afa-a8594851177f",
   "metadata": {},
   "outputs": [
    {
     "name": "stdout",
     "output_type": "stream",
     "text": [
      "{1: 100, 2: 100, 3: 100, 4: 100, 5: 100, 6: 100, 7: 100, 8: 100, 9: 100, 10: 100}\n"
     ]
    }
   ],
   "source": [
    "#28. Write a program that combines two lists into a dictionary using list comprehension.\n",
    "test_list1=list(range(1,11))\n",
    "test_list2=[x*x for x in range(1,11)]\n",
    "#res_dict={k:v for k,v in zip(test_list1,test_list2)}  # this line is also work\n",
    "res_dict={k:v  for k in test_list1 for v in test_list2}\n",
    "print(res_dict)"
   ]
  },
  {
   "cell_type": "code",
   "execution_count": 30,
   "id": "d8ef31e7-780b-4c38-8e15-7ed7569318e9",
   "metadata": {},
   "outputs": [
    {
     "name": "stdout",
     "output_type": "stream",
     "text": [
      " List Of Vowels From A Given String  ['e', 'o', 'u', 'e']\n"
     ]
    }
   ],
   "source": [
    "#29. Develop a program that extracts the vowels from a string and stores them in a list using list comprehension.\n",
    "test_str=\"Hello Students!\"\n",
    "vowel_list=[c for c in test_str if c in 'aeiouAEIOU' ]\n",
    "print(\" list of vowels from a given string \".title(),vowel_list)"
   ]
  },
  {
   "cell_type": "code",
   "execution_count": 35,
   "id": "8a3853e6-8de6-405a-9a96-b4261106234f",
   "metadata": {},
   "outputs": [
    {
     "name": "stdout",
     "output_type": "stream",
     "text": [
      "['123', '456', '789', '123']\n"
     ]
    }
   ],
   "source": [
    "#30. Create a program that removes all non-numeric characters from a list of strings using list comprehension.\n",
    "test_list=[\"abc123\", \"456def\", \"789xyz\", \"1a2b3c\"]\n",
    "numeric_list=[''.join(char for char in string if char.isnumeric()) for string in test_list]\n",
    "print(numeric_list)"
   ]
  },
  {
   "cell_type": "code",
   "execution_count": 38,
   "id": "b1ebe1ec-0cce-4359-8240-48c58218412c",
   "metadata": {},
   "outputs": [
    {
     "name": "stdout",
     "output_type": "stream",
     "text": [
      "[2, 3, 5, 7, 11, 13, 17, 19, 23, 29, 31, 37, 41, 43, 47, 53, 59, 61, 67, 71, 73, 79, 83, 89, 97]\n"
     ]
    }
   ],
   "source": [
    "#31. Write a program to generate a list of prime numbers using the Sieve of Eratosthenes algorithm and list comprehension.\n",
    "n=100\n",
    "is_prime = [True] * (n + 1)\n",
    "is_prime[0] = is_prime[1] = False\n",
    "[is_prime.__setitem__(i, False) for p in range(2, n + 1) if is_prime[p] for i in range(p * p, n + 1, p)]\n",
    "prime_list = [p for p in range(2, n + 1) if is_prime[p]]\n",
    "print(prime_list)"
   ]
  },
  {
   "cell_type": "code",
   "execution_count": 41,
   "id": "46af4cc7-6069-4ba1-9482-1923636eaf49",
   "metadata": {},
   "outputs": [
    {
     "name": "stdout",
     "output_type": "stream",
     "text": [
      "PYTHAGOREAN TRIPLETS UP TO A SPECIFIED LIMIT [(3, 4, 5), (5, 12, 13), (6, 8, 10), (8, 15, 17), (9, 12, 15), (12, 16, 20)]\n"
     ]
    }
   ],
   "source": [
    "#32. Create a program that generates a list of all Pythagorean triplets up to a specified limit using list\n",
    "#comprehension.\n",
    "n=20\n",
    "triplet_list=[(a, b, c) for a in range(1, n + 1) for b in range(a, n + 1) for c in range(b, n + 1) if a**2 + b**2 == c**2]\n",
    "print('Pythagorean triplets up to a specified limit'.upper(),triplet_list)\n"
   ]
  },
  {
   "cell_type": "code",
   "execution_count": 47,
   "id": "c3e60624-be9c-4e86-941b-ae77173e7794",
   "metadata": {},
   "outputs": [
    {
     "name": "stdout",
     "output_type": "stream",
     "text": [
      "[(1, 'a'), (1, 'b'), (1, 'c'), (1, 'h'), (2, 'a'), (2, 'b'), (2, 'c'), (2, 'h'), (3, 'a'), (3, 'b'), (3, 'c'), (3, 'h')]\n"
     ]
    }
   ],
   "source": [
    "#33. Develop a program that generates a list of all possible combinations of two lists using list comprehension.\n",
    "# Two example lists\n",
    "test_list1 = [1, 2, 3]\n",
    "test_list2 = ['a', 'b', 'c','h']\n",
    "# Generate all possible combinations using list comprehension\n",
    "combinations_list = [(x, y) for x in test_list1 for y in test_list2]\n",
    "# Print the result\n",
    "print(combinations_list)"
   ]
  },
  {
   "cell_type": "code",
   "execution_count": null,
   "id": "dab4213c-972f-4af4-b880-33e22a5b265e",
   "metadata": {},
   "outputs": [],
   "source": [
    "#34. Write a program that calculates the mean, median, and mode of a list of numbers using list \n",
    "#comprehension\n",
    "numbers = [1, 2, 2, 3, 4, 5, 5, 6, 7, 8]\n",
    "\n",
    "# Calculate the mean using list comprehension\n",
    "mean = sum(numbers) / len(numbers)\n",
    "\n",
    "# Calculate the median using list comprehension\n",
    "sorted_numbers = sorted(numbers)\n",
    "n = len(sorted_numbers)\n",
    "median = (sorted_numbers[(n - 1) // 2] + sorted_numbers[n // 2]) / 2 if n % 2 == 0 else sorted_numbers[n // 2]\n",
    "\n",
    "# Calculate the mode using list comprehension\n",
    "counts = {x: numbers.count(x) for x in set(numbers)}\n",
    "mode = [k for k, v in counts.items() if v == max(counts.values())]\n",
    "\n",
    "print(f\"Mean: {mean}\")\n",
    "print(f\"Median: {median}\")\n",
    "print(f\"Mode: {mode}\")\n"
   ]
  },
  {
   "cell_type": "code",
   "execution_count": 2,
   "id": "8a8dafeb-6c8d-47ed-bdf7-8111bf7fc4e6",
   "metadata": {},
   "outputs": [
    {
     "name": "stdout",
     "output_type": "stream",
     "text": [
      "    1    \n",
      "   1 1   \n",
      "  1 2 1  \n",
      " 1 3 3 1 \n",
      "1 4 6 4 1\n"
     ]
    }
   ],
   "source": [
    "#35. Create a program that generates Pascal's triangle up to a specified number of rows using list\n",
    "#comprehension.\n",
    "def generate_pascals_triangle(num_rows):\n",
    "    if num_rows <= 0:\n",
    "        return []\n",
    "\n",
    "    triangle = [[1]]\n",
    "    \n",
    "    # Use list comprehension to generate each row of the triangle\n",
    "    [triangle.append([1] + [triangle[-1][i] + triangle[-1][i + 1] for i in range(len(triangle[-1]) - 1)] + [1]) for _ in range(num_rows - 1)]\n",
    "    \n",
    "    return triangle\n",
    "\n",
    "def print_pascals_triangle(triangle):\n",
    "    max_width = len(' '.join(map(str, triangle[-1])))\n",
    "    for row in triangle:\n",
    "        formatted_row = ' '.join(map(str, row))\n",
    "        print(formatted_row.center(max_width))\n",
    "\n",
    "# Specify the number of rows you want in Pascal's triangle\n",
    "num_rows = 5\n",
    "\n",
    "# Generate Pascal's triangle up to the specified number of rows\n",
    "pascals_triangle = generate_pascals_triangle(num_rows)\n",
    "\n",
    "# Print the generated Pascal's triangle\n",
    "print_pascals_triangle(pascals_triangle)\n"
   ]
  },
  {
   "cell_type": "code",
   "execution_count": 1,
   "id": "2dd612c1-3add-497b-90d9-e858d7b2af65",
   "metadata": {},
   "outputs": [
    {
     "name": "stdout",
     "output_type": "stream",
     "text": [
      "Sum of digits of 1! is 1\n",
      "Sum of digits of 2! is 2\n",
      "Sum of digits of 3! is 6\n",
      "Sum of digits of 4! is 6\n",
      "Sum of digits of 5! is 3\n"
     ]
    }
   ],
   "source": [
    "#36. Develop a program that calculates the sum of the digits of a factorial of numbers from 1 to 5 using list\n",
    "#comprehension.\n",
    "def factorial(n):\n",
    "    return 1 if n == 0 else n * factorial(n - 1)\n",
    "\n",
    "# Calculate factorials from 1 to 5 and their digit sums using nested list comprehensions\n",
    "results = [(n, sum(int(digit) for digit in str(factorial(n)))) for n in range(1, 6)]\n",
    "\n",
    "# Print the results\n",
    "for n, digit_sum in results:\n",
    "    print(f\"Sum of digits of {n}! is {digit_sum}\")\n"
   ]
  },
  {
   "cell_type": "code",
   "execution_count": 52,
   "id": "9bb50c6b-143f-4737-ac96-64ab2804e421",
   "metadata": {},
   "outputs": [
    {
     "name": "stdout",
     "output_type": "stream",
     "text": [
      "The Longest Word In A Given Sentence:- students\n"
     ]
    }
   ],
   "source": [
    "#37. Write a program that finds the longest word in a sentence using list comprehension.\n",
    "test_str=\"hello students how are you\"\n",
    "longest_word=['']\n",
    "[longest_word.__setitem__(0,x) for x in test_str.split() if len(x)>len(longest_word[0])]\n",
    "#    OR\n",
    "#longest_words = [word for word in words if len(word) == max(len(word) for word in words)]  # this line of code is also work\n",
    "print('the longest word in a given sentence:-'.title(),longest_word[0])"
   ]
  },
  {
   "cell_type": "code",
   "execution_count": 54,
   "id": "13d6d211-41b1-48db-ae11-2c271022a494",
   "metadata": {},
   "outputs": [
    {
     "name": "stdout",
     "output_type": "stream",
     "text": [
      "['banana', 'programming', 'aardvark']\n"
     ]
    }
   ],
   "source": [
    "#38. Create a program that filters a list of strings to include only those with more than three vowels using list\n",
    "#comprehension.\n",
    "# List of strings\n",
    "string_list = [\"hello\", \"world\", \"apple\", \"banana\", \"python\", \"programming\", \"aardvark\"]\n",
    "# List comprehension to filter strings with more than three vowels\n",
    "filtered_list = [string for string in string_list if sum(1 for c in string if c in 'aeiouAEIOU') > 3]\n",
    "print(filtered_list)"
   ]
  },
  {
   "cell_type": "code",
   "execution_count": 57,
   "id": "da188acd-53d7-4103-a013-fcd760232921",
   "metadata": {},
   "outputs": [
    {
     "name": "stdout",
     "output_type": "stream",
     "text": [
      "Sum Of The Digits Of Numbers From 1 To 1000:-    13501\n"
     ]
    }
   ],
   "source": [
    "#39. Develop a program that calculates the sum of the digits of numbers from 1 to 1000 using list\n",
    "#comprehension.\n",
    "sum_digit=sum(int(d )for no in range(1,1001) for d in str(no))\n",
    "print('sum of the digits of numbers from 1 to 1000:-   '.title(),sum_digit)"
   ]
  },
  {
   "cell_type": "code",
   "execution_count": 3,
   "id": "fcd0e288-f66c-46ad-bd42-ee995c52885e",
   "metadata": {},
   "outputs": [
    {
     "name": "stdout",
     "output_type": "stream",
     "text": [
      "[11, 101, 131, 151, 181, 191, 313, 353, 373, 383, 727, 757, 787, 797, 919, 929]\n"
     ]
    }
   ],
   "source": [
    "#40. Write a program that generates a list of prime palindromic numbers using list comprehension\n",
    "# Define a function to check if a number is prime\n",
    "def is_prime(n):\n",
    "    if n <= 1:\n",
    "        return False\n",
    "    if n <= 3:\n",
    "        return True\n",
    "    if n % 2 == 0 or n % 3 == 0:\n",
    "        return False\n",
    "    i = 5\n",
    "    while i * i <= n:\n",
    "        if n % i == 0 or n % (i + 2) == 0:\n",
    "            return False\n",
    "        i += 6\n",
    "    return True\n",
    "\n",
    "# Use list comprehension to generate a list of prime palindromic numbers\n",
    "prime_palindromic_numbers = [n for n in range(10, 1000) if is_prime(n) and str(n) == str(n)[::-1]]\n",
    "\n",
    "# Print the list of prime palindromic numbers\n",
    "print(prime_palindromic_numbers)\n"
   ]
  },
  {
   "cell_type": "code",
   "execution_count": null,
   "id": "915be026-e11c-4235-8555-fa73c5a7778d",
   "metadata": {},
   "outputs": [],
   "source": []
  }
 ],
 "metadata": {
  "kernelspec": {
   "display_name": "Python 3 (ipykernel)",
   "language": "python",
   "name": "python3"
  },
  "language_info": {
   "codemirror_mode": {
    "name": "ipython",
    "version": 3
   },
   "file_extension": ".py",
   "mimetype": "text/x-python",
   "name": "python",
   "nbconvert_exporter": "python",
   "pygments_lexer": "ipython3",
   "version": "3.10.8"
  }
 },
 "nbformat": 4,
 "nbformat_minor": 5
}
