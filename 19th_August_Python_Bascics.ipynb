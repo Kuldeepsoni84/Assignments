{
 "cells": [
  {
   "cell_type": "code",
   "execution_count": 1,
   "id": "409f8206-54ff-4427-ba49-a60e784df1c5",
   "metadata": {},
   "outputs": [],
   "source": [
    "#TOPIC: Python Basics Variable"
   ]
  },
  {
   "cell_type": "code",
   "execution_count": 6,
   "id": "97b7c816-3548-4f97-a800-e589ce089bf3",
   "metadata": {},
   "outputs": [
    {
     "name": "stdout",
     "output_type": "stream",
     "text": [
      "***********    First Method     **********\n",
      "Before Swaping\n",
      "Value Of x is 10 Value Of Y is 23\n",
      "Afetr Swaping\n",
      "Value Of x is 23 Value Of Y is 10\n",
      "***********    Second Method     ***********\n",
      "Before Swaping\n",
      "Value Of x is 13 Value Of Y is 23\n",
      "Afetr Swaping\n",
      "Value Of x is 36 Value Of Y is 13\n"
     ]
    }
   ],
   "source": [
    "'''Question 1. Declare two variables, `x` and `y`, and assign them integer values.\n",
    "Swap the values of these variables without using any temporary\n",
    "variable.'''\n",
    "#Solution\n",
    "x=10\n",
    "y=23\n",
    "print('***********    First Method     **********')\n",
    "print('Before Swaping')\n",
    "print('Value Of x is',x,'Value Of Y is',y)\n",
    "x,y=y,x  # Perform Swaping\n",
    "print('Afetr Swaping')\n",
    "print('Value Of x is',x,'Value Of Y is',y)\n",
    "# second Method\n",
    "print('***********    Second Method     ***********')\n",
    "x=13\n",
    "y=23\n",
    "print('Before Swaping')\n",
    "print('Value Of x is',x,'Value Of Y is',y)\n",
    "x=x+y\n",
    "y=x-y\n",
    "print('Afetr Swaping')\n",
    "print('Value Of x is',x,'Value Of Y is',y)\n"
   ]
  },
  {
   "cell_type": "code",
   "execution_count": null,
   "id": "9a346c7e-a4e9-4f82-a98e-afdcf977d1b0",
   "metadata": {},
   "outputs": [
    {
     "name": "stdin",
     "output_type": "stream",
     "text": [
      "Enter The Length Of Rectangle 10\n",
      "Enter The width Of Rectangle 10\n"
     ]
    },
    {
     "name": "stdout",
     "output_type": "stream",
     "text": [
      "Area Of Rectangle: 100.0\n"
     ]
    }
   ],
   "source": [
    "''' Question 2.   Create a program that calculates the area of a rectangle. Take the\n",
    "length and width as inputs from the user and store them in variables.\n",
    "Calculate and display the area.'''\n",
    "# Solution\n",
    "length=float(input(\"Enter The Length Of Rectangle\"))\n",
    "width=float(input(\"Enter The width Of Rectangle\"))\n",
    "rect_area=length * width\n",
    "print(\"Area Of Rectangle:\",rect_area)"
   ]
  },
  {
   "cell_type": "code",
   "execution_count": 3,
   "id": "e07360c0-abf4-4632-a29c-a86310514c78",
   "metadata": {},
   "outputs": [
    {
     "name": "stdin",
     "output_type": "stream",
     "text": [
      "Input Temprature In Calcius 37\n"
     ]
    },
    {
     "name": "stdout",
     "output_type": "stream",
     "text": [
      "Temprature In Fahrenheit Is: 98.60000000000001\n"
     ]
    }
   ],
   "source": [
    "'''Question 3. Write a Python program that converts temperature from Celsius to\n",
    "Fahrenheit. Take the temperature in Celsius as input, store it in a\n",
    "variable, convert it to Fahrenheit, and display the result.'''\n",
    "#Solution\n",
    "c=float(input(\"Input Temprature In Calcius\"))\n",
    "f=c*(9/5)+32\n",
    "print(\"Temprature In Fahrenheit Is:\",f)"
   ]
  },
  {
   "cell_type": "code",
   "execution_count": 4,
   "id": "aab7e40a-f984-45aa-8293-7d75f9dd0059",
   "metadata": {},
   "outputs": [],
   "source": [
    "#TOPIC: String Based Questions"
   ]
  },
  {
   "cell_type": "code",
   "execution_count": 5,
   "id": "9a4e2316-4a96-4b39-8a59-140465ae49b1",
   "metadata": {},
   "outputs": [
    {
     "name": "stdin",
     "output_type": "stream",
     "text": [
      "Enter A string Value alok\n"
     ]
    },
    {
     "name": "stdout",
     "output_type": "stream",
     "text": [
      "Length Of the Input String Is: 4\n"
     ]
    }
   ],
   "source": [
    "'''Question 1. Write a Python program that takes a string as input and prints the\n",
    "length of the string.'''\n",
    "#Solution\n",
    "name=input(\"Enter A string Value\")\n",
    "#name_len=len(name)\n",
    "print(\"Length Of the Input String Is:\",len(name))"
   ]
  },
  {
   "cell_type": "code",
   "execution_count": 6,
   "id": "39814f3d-5e54-4b3b-98e2-0c44bb77ce81",
   "metadata": {},
   "outputs": [
    {
     "name": "stdin",
     "output_type": "stream",
     "text": [
      "Input A sentance hello how Are You\n"
     ]
    },
    {
     "name": "stdout",
     "output_type": "stream",
     "text": [
      "Count Of Vowel  a : 0\n",
      "Count Of Vowel  e : 2\n",
      "Count Of Vowel  i : 0\n",
      "Count Of Vowel  o : 3\n",
      "Count Of Vowel  u : 1\n",
      "Count Of Vowel  A : 1\n",
      "Count Of Vowel  E : 0\n",
      "Count Of Vowel  I : 0\n",
      "Count Of Vowel  O : 0\n",
      "Count Of Vowel  U : 0\n"
     ]
    }
   ],
   "source": [
    "'''Question  2. Create a program that takes a sentence from the user and counts the\n",
    "number of vowels (a, e, i, o, u) in the string.'''\n",
    "# Solution\n",
    "sentance=input(\"Input A sentance\")\n",
    "for v in \"aeiouAEIOU\":\n",
    "    print(\"Count Of Vowel \",v,\":\",sentance.count(v))"
   ]
  },
  {
   "cell_type": "code",
   "execution_count": 7,
   "id": "5b5c944a-de46-4b68-b1d6-76312947fa0c",
   "metadata": {},
   "outputs": [
    {
     "name": "stdin",
     "output_type": "stream",
     "text": [
      "Input A String hello\n"
     ]
    },
    {
     "name": "stdout",
     "output_type": "stream",
     "text": [
      "reverse Order Of String characters Is: olleh\n"
     ]
    }
   ],
   "source": [
    "'''Question  3. Given a string, reverse the order of characters using string slicing and\n",
    "print the reversed string.'''\n",
    "#Solution\n",
    "inp_str=input('Input A String')\n",
    "print(\"reverse Order Of String characters Is:\",inp_str[::-1])"
   ]
  },
  {
   "cell_type": "code",
   "execution_count": 11,
   "id": "aa724417-bcef-40bf-bd93-dedbb8c432e8",
   "metadata": {},
   "outputs": [
    {
     "name": "stdin",
     "output_type": "stream",
     "text": [
      "Input A String saas\n"
     ]
    },
    {
     "name": "stdout",
     "output_type": "stream",
     "text": [
      "Input String IS Palindrome\n"
     ]
    }
   ],
   "source": [
    "'''question 4. Write a program that takes a string as input and checks if it is a\n",
    "palindrome (reads the same forwards and backwards).'''\n",
    "#Solution\n",
    "inp_str=input('Input A String')\n",
    "if inp_str == inp_str[::-1]:\n",
    "    print(\"Input String IS Palindrome\")\n",
    "else:\n",
    "    print(\"Input String IS  Not a Palindrome\")"
   ]
  },
  {
   "cell_type": "code",
   "execution_count": 13,
   "id": "750a145d-6215-487d-83fb-a1c024356788",
   "metadata": {},
   "outputs": [
    {
     "name": "stdin",
     "output_type": "stream",
     "text": [
      "Input A String nlhno nlkinn    holj   \n"
     ]
    },
    {
     "name": "stdout",
     "output_type": "stream",
     "text": [
      " After Removing all White Spaces From String : nlhno nlkinn    holj\n"
     ]
    }
   ],
   "source": [
    "'''Question 5. Create a program that takes a string as input and removes all the\n",
    "spaces from it. Print the modified string without spaces.'''\n",
    "# Solution\n",
    "inp_str=input('Input A String')\n",
    "print(\" After Removing all White Spaces From String :\",inp_str.strip())"
   ]
  },
  {
   "cell_type": "code",
   "execution_count": null,
   "id": "8691f338-8547-46a9-9ead-62661a58d81e",
   "metadata": {},
   "outputs": [],
   "source": []
  }
 ],
 "metadata": {
  "kernelspec": {
   "display_name": "Python 3 (ipykernel)",
   "language": "python",
   "name": "python3"
  },
  "language_info": {
   "codemirror_mode": {
    "name": "ipython",
    "version": 3
   },
   "file_extension": ".py",
   "mimetype": "text/x-python",
   "name": "python",
   "nbconvert_exporter": "python",
   "pygments_lexer": "ipython3",
   "version": "3.10.8"
  }
 },
 "nbformat": 4,
 "nbformat_minor": 5
}
