{
 "cells": [
  {
   "cell_type": "markdown",
   "id": "f050e20a-7495-4678-a166-747dc61c4203",
   "metadata": {},
   "source": [
    "#Q.1 Can you explain the logic and working of the Tower of Hanoi algorithm by writing a Java program?\n",
    "How does the recursion work, and how are the movements of disks between rods accomplished?\n",
    "The Tower of Hanoi is a classic problem in computer science and mathematics. The problem involves three rods and a number of disks of different sizes, which can slide onto any rod. The puzzle starts with the disks in a neat stack in ascending order of size on one rod, with the smallest at the top. The goal is to move the entire stack to another rod, obeying the following simple rules:\n",
    "\n",
    "Only one disk can be moved at a time.\n",
    "Each move consists of taking the upper disk from one of the stacks and placing it on top of another stack or on an empty rod.\n",
    "No disk may be placed on top of a smaller disk.\n",
    "Here's a Python implementation of the Tower of Hanoi using recursion:\n",
    "def tower_of_hanoi(n, source_rod, auxiliary_rod, destination_rod):\n",
    "    if n == 1:\n",
    "        # If there's only one disk, move it from source to destination\n",
    "        print(f\"Move disk 1 from {source_rod} to {destination_rod}\")\n",
    "        return\n",
    "    else:\n",
    "        # Move (n-1) disks from source to auxiliary rod using destination rod\n",
    "        tower_of_hanoi(n-1, source_rod, destination_rod, auxiliary_rod)\n",
    "\n",
    "        # Move the nth disk from source to destination rod\n",
    "        print(f\"Move disk {n} from {source_rod} to {destination_rod}\")\n",
    "\n",
    "        # Move (n-1) disks from auxiliary rod to destination rod using source rod\n",
    "        tower_of_hanoi(n-1, auxiliary_rod, source_rod, destination_rod)\n",
    "\n",
    "# Example usage\n",
    "number_of_disks = 3\n",
    "tower_of_hanoi(number_of_disks, 'A', 'B', 'C')\n",
    "In this implementation:\n",
    "\n",
    "The tower_of_hanoi function is a recursive function that solves the Tower of Hanoi problem.\n",
    "The base case is when there is only one disk (n == 1). In this case, the function simply prints the move from the source rod to the destination rod.\n",
    "In the recursive case, the function breaks down the problem into three steps:\n",
    "Move (n-1) disks from the source rod to the auxiliary rod using the destination rod.\n",
    "Move the nth disk from the source rod to the destination rod.\n",
    "Move (n-1) disks from the auxiliary rod to the destination rod using the source rod.\n",
    "The recursive calls continue until the base case is reached, at which point the individual moves are executed. The movements of the disks between rods are accomplished by following the rules of the Tower of Hanoi, ensuring that no larger disk is placed on top of a smaller one."
   ]
  },
  {
   "cell_type": "code",
   "execution_count": 1,
   "id": "b01d711a-6ca4-4c5e-a835-d761c792796e",
   "metadata": {},
   "outputs": [
    {
     "name": "stdout",
     "output_type": "stream",
     "text": [
      "3\n"
     ]
    }
   ],
   "source": [
    "#Given two strings word1 and word2, return the minimum number of operations required to convert word1\n",
    "#to word2.\n",
    "def minDistance(word1, word2):\n",
    "    m, n = len(word1), len(word2)\n",
    "\n",
    "    # Create a 2D array to store the minimum edit distance\n",
    "    dp = [[0] * (n + 1) for _ in range(m + 1)]\n",
    "\n",
    "    # Initialize the first row and column\n",
    "    for i in range(m + 1):\n",
    "        dp[i][0] = i\n",
    "    for j in range(n + 1):\n",
    "        dp[0][j] = j\n",
    "\n",
    "    # Fill the dp array using dynamic programming\n",
    "    for i in range(1, m + 1):\n",
    "        for j in range(1, n + 1):\n",
    "            # If the characters match, no operation is needed\n",
    "            if word1[i - 1] == word2[j - 1]:\n",
    "                dp[i][j] = dp[i - 1][j - 1]\n",
    "            else:\n",
    "                # If characters don't match, consider all possible operations\n",
    "                dp[i][j] = 1 + min(dp[i - 1][j],      # Deletion\n",
    "                                  dp[i][j - 1],      # Insertion\n",
    "                                  dp[i - 1][j - 1])  # Substitution\n",
    "\n",
    "    # The bottom-right cell contains the minimum edit distance\n",
    "    return dp[m][n]\n",
    "\n",
    "# Example usage:\n",
    "word1 = \"horse\"\n",
    "word2 = \"ros\"\n",
    "output = minDistance(word1, word2)\n",
    "print(output)  # Output: 3\n"
   ]
  },
  {
   "cell_type": "code",
   "execution_count": 2,
   "id": "55057c0f-2f80-4690-ad69-94ec0d781ba0",
   "metadata": {},
   "outputs": [
    {
     "name": "stdout",
     "output_type": "stream",
     "text": [
      "The maximum value in the array is: 22\n"
     ]
    }
   ],
   "source": [
    "#Q. 3 Print the max value of the array [ 13, 1, -3, 22, 5].\n",
    "def find_max_recursive(arr, n):\n",
    "    # Base case: If there is only one element, it is the maximum\n",
    "    if n == 1:\n",
    "        return arr[0]\n",
    "\n",
    "    # Recursive case: Find the maximum of the rest of the array\n",
    "    max_of_rest = find_max_recursive(arr[1:], n - 1)\n",
    "\n",
    "    # Compare the maximum of the rest with the first element\n",
    "    return max(arr[0], max_of_rest)\n",
    "\n",
    "# Example usage\n",
    "array = [13, 1, -3, 22, 5]\n",
    "max_value = find_max_recursive(array, len(array))\n",
    "\n",
    "print(f\"The maximum value in the array is: {max_value}\")\n"
   ]
  },
  {
   "cell_type": "code",
   "execution_count": 3,
   "id": "0d0b069b-6204-46c0-b7d4-a20d57f98174",
   "metadata": {},
   "outputs": [
    {
     "name": "stdout",
     "output_type": "stream",
     "text": [
      "The sum of the values in the array is: 120\n"
     ]
    }
   ],
   "source": [
    "#Q.4 Find the sum of the values of the array [92, 23, 15, -20, 10].\n",
    "def find_sum_recursive(arr, n):\n",
    "    # Base case: If there is only one element, the sum is that element\n",
    "    if n == 1:\n",
    "        return arr[0]\n",
    "\n",
    "    # Recursive case: Sum the rest of the array and add the first element\n",
    "    return arr[0] + find_sum_recursive(arr[1:], n - 1)\n",
    "\n",
    "# Example usage\n",
    "array = [92, 23, 15, -20, 10]\n",
    "sum_of_values = find_sum_recursive(array, len(array))\n",
    "\n",
    "print(f\"The sum of the values in the array is: {sum_of_values}\")\n"
   ]
  },
  {
   "cell_type": "code",
   "execution_count": 4,
   "id": "063e0f7c-412d-4746-8212-3ebb0f1b7b6e",
   "metadata": {},
   "outputs": [
    {
     "name": "stdin",
     "output_type": "stream",
     "text": [
      "Enter a number:  153\n"
     ]
    },
    {
     "name": "stdout",
     "output_type": "stream",
     "text": [
      "153 is an Armstrong number.\n"
     ]
    }
   ],
   "source": [
    "#Q.5 Given a number n. Print if it is an armstrong number or not.An armstrong number is a number if the sum\n",
    "#of every digit in that number raised to the power of total digits in that number is equal to the number.\n",
    "def is_armstrong_number(n):\n",
    "    # Convert the number to a string to find the total digits\n",
    "    num_str = str(n)\n",
    "    total_digits = len(num_str)\n",
    "\n",
    "    # Calculate the sum of each digit raised to the power of total digits\n",
    "    armstrong_sum = sum(int(digit) ** total_digits for digit in num_str)\n",
    "\n",
    "    # Check if the sum is equal to the original number\n",
    "    return armstrong_sum == n\n",
    "\n",
    "# Example usage\n",
    "number = int(input(\"Enter a number: \"))\n",
    "if is_armstrong_number(number):\n",
    "    print(f\"{number} is an Armstrong number.\")\n",
    "else:\n",
    "    print(f\"{number} is not an Armstrong number.\")\n"
   ]
  }
 ],
 "metadata": {
  "kernelspec": {
   "display_name": "Python 3 (ipykernel)",
   "language": "python",
   "name": "python3"
  },
  "language_info": {
   "codemirror_mode": {
    "name": "ipython",
    "version": 3
   },
   "file_extension": ".py",
   "mimetype": "text/x-python",
   "name": "python",
   "nbconvert_exporter": "python",
   "pygments_lexer": "ipython3",
   "version": "3.10.8"
  }
 },
 "nbformat": 4,
 "nbformat_minor": 5
}
