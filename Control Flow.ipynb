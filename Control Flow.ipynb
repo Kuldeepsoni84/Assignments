{
 "cells": [
  {
   "cell_type": "code",
   "execution_count": null,
   "id": "c701fdcd-ad23-4f5b-9f13-fc4c332fc549",
   "metadata": {},
   "outputs": [],
   "source": [
    "#*************************Basic If-Else Statements:************************"
   ]
  },
  {
   "cell_type": "code",
   "execution_count": 1,
   "id": "087d08bd-2625-4cad-bc35-69eb978cf5aa",
   "metadata": {},
   "outputs": [
    {
     "name": "stdin",
     "output_type": "stream",
     "text": [
      "Enter a number:  34\n"
     ]
    },
    {
     "name": "stdout",
     "output_type": "stream",
     "text": [
      "34.0 is positive.\n"
     ]
    }
   ],
   "source": [
    "#1. Write a Python program to check if a given number is positive or negative.\n",
    "# Input a number from the user\n",
    "number = float(input(\"Enter a number: \"))\n",
    "\n",
    "# Check if the number is positive, negative, or zero\n",
    "if number > 0:\n",
    "    print(f\"{number} is positive.\")\n",
    "elif number < 0:\n",
    "    print(f\"{number} is negative.\")\n",
    "else:\n",
    "    print(\"The number is zero.\")\n"
   ]
  },
  {
   "cell_type": "code",
   "execution_count": 2,
   "id": "25bc7f58-5d29-4b38-b3ad-abfeeadbf55a",
   "metadata": {},
   "outputs": [
    {
     "name": "stdin",
     "output_type": "stream",
     "text": [
      "Enter your age:  23\n"
     ]
    },
    {
     "name": "stdout",
     "output_type": "stream",
     "text": [
      "You are eligible to vote.\n"
     ]
    }
   ],
   "source": [
    "#2. Create a program that determines if a person is eligible to vote based on their age.\n",
    "# Input the person's age\n",
    "age = int(input(\"Enter your age: \"))\n",
    "\n",
    "# Check if the person is eligible to vote\n",
    "if age >= 18:\n",
    "    print(\"You are eligible to vote.\")\n",
    "else:\n",
    "    print(\"You are not eligible to vote yet.\")\n"
   ]
  },
  {
   "cell_type": "code",
   "execution_count": 1,
   "id": "c437234c-bd1e-419a-9c14-6a0720f48e05",
   "metadata": {},
   "outputs": [
    {
     "name": "stdin",
     "output_type": "stream",
     "text": [
      "Enter the first number:  7\n",
      "Enter the second number:  8\n"
     ]
    },
    {
     "name": "stdout",
     "output_type": "stream",
     "text": [
      "8.0 is the maximum of the two numbers.\n"
     ]
    }
   ],
   "source": [
    "#3. Develop a program to find the maximum of two numbers using if-else statements.\n",
    "# Input two numbers from the user\n",
    "num1 = float(input(\"Enter the first number: \"))\n",
    "num2 = float(input(\"Enter the second number: \"))\n",
    "\n",
    "# Check which number is greater and print the result\n",
    "if num1 > num2:\n",
    "    print(f\"{num1} is the maximum of the two numbers.\")\n",
    "elif num2 > num1:\n",
    "    print(f\"{num2} is the maximum of the two numbers.\")\n",
    "else:\n",
    "    print(\"Both numbers are equal.\")\n"
   ]
  },
  {
   "cell_type": "code",
   "execution_count": 2,
   "id": "201d2324-02ab-4b45-bb7d-c98ed1dc8e05",
   "metadata": {},
   "outputs": [
    {
     "name": "stdin",
     "output_type": "stream",
     "text": [
      "Enter a year:  1659\n"
     ]
    },
    {
     "name": "stdout",
     "output_type": "stream",
     "text": [
      "1659 is not a leap year.\n"
     ]
    }
   ],
   "source": [
    "#4. Write a Python script to classify a given year as a leap year or not\n",
    "# Input a year from the user\n",
    "year = int(input(\"Enter a year: \"))\n",
    "\n",
    "# Check if the year is a leap year\n",
    "if (year % 4 == 0 and year % 100 != 0) or (year % 400 == 0):\n",
    "    print(f\"{year} is a leap year.\")\n",
    "else:\n",
    "    print(f\"{year} is not a leap year.\")\n"
   ]
  },
  {
   "cell_type": "code",
   "execution_count": 3,
   "id": "1128f657-7582-4e48-8d09-249e26e50d73",
   "metadata": {},
   "outputs": [
    {
     "name": "stdin",
     "output_type": "stream",
     "text": [
      "Enter a character:  i\n"
     ]
    },
    {
     "name": "stdout",
     "output_type": "stream",
     "text": [
      "i is a vowel.\n"
     ]
    }
   ],
   "source": [
    "#5. Create a program that checks whether a character is a vowel or a consonant.\n",
    "# Input a character from the user (assuming a single character)\n",
    "character = input(\"Enter a character: \")\n",
    "\n",
    "# Convert the character to lowercase for case-insensitive comparison\n",
    "character = character.lower()\n",
    "\n",
    "# Check if the character is a vowel or a consonant\n",
    "if character.isalpha() and len(character) == 1:\n",
    "    if character in 'aeiou':\n",
    "        print(f\"{character} is a vowel.\")\n",
    "    else:\n",
    "        print(f\"{character} is a consonant.\")\n",
    "else:\n",
    "    print(\"Please enter a single alphabet character.\")\n"
   ]
  },
  {
   "cell_type": "code",
   "execution_count": 4,
   "id": "6ba59102-30d1-4b92-94c8-b1e0956ccbcc",
   "metadata": {},
   "outputs": [
    {
     "name": "stdin",
     "output_type": "stream",
     "text": [
      "Enter a number:  145\n"
     ]
    },
    {
     "name": "stdout",
     "output_type": "stream",
     "text": [
      "145 is odd.\n"
     ]
    }
   ],
   "source": [
    "#6. Implement a program to determine whether a given number is even or odd.\n",
    "# Input a number from the user\n",
    "number = int(input(\"Enter a number: \"))\n",
    "\n",
    "# Check if the number is even or odd\n",
    "if number % 2 == 0:\n",
    "    print(f\"{number} is even.\")\n",
    "else:\n",
    "    print(f\"{number} is odd.\")\n"
   ]
  },
  {
   "cell_type": "code",
   "execution_count": 3,
   "id": "fd3b84a7-3698-4f41-8844-703f5792ba6a",
   "metadata": {},
   "outputs": [
    {
     "name": "stdout",
     "output_type": "stream",
     "text": [
      "The absolute value of -5 is 5\n",
      "The absolute value of 10 is 10\n"
     ]
    }
   ],
   "source": [
    "#7. Write a Python function to calculate the absolute value of a number without using the `abs()` function.\n",
    "def absolute_value(number):\n",
    "    if number < 0:\n",
    "        return -number\n",
    "    else:\n",
    "        return number\n",
    "\n",
    "# Test the function with some examples\n",
    "num1 = -5\n",
    "num2 = 10\n",
    "\n",
    "result1 = absolute_value(num1)\n",
    "result2 = absolute_value(num2)\n",
    "\n",
    "print(f\"The absolute value of {num1} is {result1}\")\n",
    "print(f\"The absolute value of {num2} is {result2}\")\n"
   ]
  },
  {
   "cell_type": "code",
   "execution_count": 5,
   "id": "ed72219c-7343-4a9d-b959-5994efaa5579",
   "metadata": {},
   "outputs": [
    {
     "name": "stdin",
     "output_type": "stream",
     "text": [
      "Enter the first number:  15\n",
      "Enter the second number:  45\n",
      "Enter the third number:  58\n"
     ]
    },
    {
     "name": "stdout",
     "output_type": "stream",
     "text": [
      "The largest number among 15.0, 45.0, and 58.0 is 58.0.\n"
     ]
    }
   ],
   "source": [
    "#8. Develop a program that determines the largest of three given numbers using if-else statements.\n",
    "# Input three numbers from the user\n",
    "num1 = float(input(\"Enter the first number: \"))\n",
    "num2 = float(input(\"Enter the second number: \"))\n",
    "num3 = float(input(\"Enter the third number: \"))\n",
    "\n",
    "# Determine the largest number using if-else statements\n",
    "if num1 >= num2 and num1 >= num3:\n",
    "    largest = num1\n",
    "elif num2 >= num1 and num2 >= num3:\n",
    "    largest = num2\n",
    "else:\n",
    "    largest = num3\n",
    "\n",
    "# Print the largest number\n",
    "print(f\"The largest number among {num1}, {num2}, and {num3} is {largest}.\")\n"
   ]
  },
  {
   "cell_type": "code",
   "execution_count": 6,
   "id": "20daf0b9-a74d-4b18-9a0f-2b910c2d83e7",
   "metadata": {},
   "outputs": [
    {
     "name": "stdin",
     "output_type": "stream",
     "text": [
      "Enter a string:  hello students\n"
     ]
    },
    {
     "name": "stdout",
     "output_type": "stream",
     "text": [
      "The string is not a palindrome.\n"
     ]
    }
   ],
   "source": [
    "#9. Create a program that checks if a given string is a palindrome.\n",
    "# Input a string from the user\n",
    "string = input(\"Enter a string: \")\n",
    "\n",
    "# Remove spaces and convert to lowercase for case-insensitive comparison\n",
    "string = string.replace(\" \", \"\").lower()\n",
    "\n",
    "# Check if the string is a palindrome\n",
    "if string == string[::-1]:\n",
    "    print(\"The string is a palindrome.\")\n",
    "else:\n",
    "    print(\"The string is not a palindrome.\")\n"
   ]
  },
  {
   "cell_type": "code",
   "execution_count": 7,
   "id": "5e5402bf-a7b5-4e46-b646-901678419161",
   "metadata": {},
   "outputs": [
    {
     "name": "stdin",
     "output_type": "stream",
     "text": [
      "Enter the student's score:  589\n"
     ]
    },
    {
     "name": "stdout",
     "output_type": "stream",
     "text": [
      "The student's grade is A.\n"
     ]
    }
   ],
   "source": [
    "#10. Write a Python program to calculate the grade based on a student's score.\n",
    "# Input the student's score from the user\n",
    "score = float(input(\"Enter the student's score: \"))\n",
    "\n",
    "# Define the grading scale\n",
    "A_min = 90\n",
    "B_min = 80\n",
    "C_min = 70\n",
    "D_min = 60\n",
    "\n",
    "# Calculate the grade based on the score using if-elif-else statements\n",
    "if score >= A_min:\n",
    "    grade = 'A'\n",
    "elif score >= B_min:\n",
    "    grade = 'B'\n",
    "elif score >= C_min:\n",
    "    grade = 'C'\n",
    "elif score >= D_min:\n",
    "    grade = 'D'\n",
    "else:\n",
    "    grade = 'F'\n",
    "\n",
    "# Print the grade\n",
    "print(f\"The student's grade is {grade}.\")\n"
   ]
  },
  {
   "cell_type": "code",
   "execution_count": null,
   "id": "754d3b76-2dfe-4c2c-8083-c14a69a668fa",
   "metadata": {},
   "outputs": [],
   "source": [
    "#***********************Nested If-Else Statements:***************************"
   ]
  },
  {
   "cell_type": "code",
   "execution_count": 8,
   "id": "c1821fd6-ec86-451a-91a6-eaeb2d2014d5",
   "metadata": {},
   "outputs": [
    {
     "name": "stdin",
     "output_type": "stream",
     "text": [
      "Enter the first number:  14\n",
      "Enter the second number:  56\n",
      "Enter the third number:  98\n"
     ]
    },
    {
     "name": "stdout",
     "output_type": "stream",
     "text": [
      "The largest number among 14.0, 56.0, and 98.0 is 98.0.\n"
     ]
    }
   ],
   "source": [
    "#11. Write a program to find the largest among three numbers using nested if-else statements.\n",
    "# Input three numbers from the user\n",
    "num1 = float(input(\"Enter the first number: \"))\n",
    "num2 = float(input(\"Enter the second number: \"))\n",
    "num3 = float(input(\"Enter the third number: \"))\n",
    "\n",
    "# Determine the largest number using nested if-else statements\n",
    "if num1 >= num2:\n",
    "    if num1 >= num3:\n",
    "        largest = num1\n",
    "    else:\n",
    "        largest = num3\n",
    "else:\n",
    "    if num2 >= num3:\n",
    "        largest = num2\n",
    "    else:\n",
    "        largest = num3\n",
    "\n",
    "# Print the largest number\n",
    "print(f\"The largest number among {num1}, {num2}, and {num3} is {largest}.\")\n"
   ]
  },
  {
   "cell_type": "code",
   "execution_count": 9,
   "id": "8846b524-c2f4-4e30-854e-6f0da7d80193",
   "metadata": {},
   "outputs": [
    {
     "name": "stdin",
     "output_type": "stream",
     "text": [
      "Enter the length of the first side:  5\n",
      "Enter the length of the second side:  6\n",
      "Enter the length of the third side:  7\n"
     ]
    },
    {
     "name": "stdout",
     "output_type": "stream",
     "text": [
      "The triangle is scalene.\n"
     ]
    }
   ],
   "source": [
    "#12. Implement a program to determine if a triangle is equilateral, isosceles, or scalene.\n",
    "# Input the lengths of the three sides of the triangle\n",
    "side1 = float(input(\"Enter the length of the first side: \"))\n",
    "side2 = float(input(\"Enter the length of the second side: \"))\n",
    "side3 = float(input(\"Enter the length of the third side: \"))\n",
    "\n",
    "# Check if it's a valid triangle (Triangle Inequality Theorem)\n",
    "if side1 + side2 > side3 and side1 + side3 > side2 and side2 + side3 > side1:\n",
    "    if side1 == side2 == side3:\n",
    "        triangle_type = \"equilateral\"\n",
    "    elif side1 == side2 or side1 == side3 or side2 == side3:\n",
    "        triangle_type = \"isosceles\"\n",
    "    else:\n",
    "        triangle_type = \"scalene\"\n",
    "    print(f\"The triangle is {triangle_type}.\")\n",
    "else:\n",
    "    print(\"It's not a valid triangle.\")\n"
   ]
  },
  {
   "cell_type": "code",
   "execution_count": 10,
   "id": "6a41b19b-6e4f-44c2-a963-b448b0b6437a",
   "metadata": {},
   "outputs": [
    {
     "name": "stdin",
     "output_type": "stream",
     "text": [
      "Enter a year:  1256\n"
     ]
    },
    {
     "name": "stdout",
     "output_type": "stream",
     "text": [
      "1256 is a leap year.\n",
      "1256 is not a century year.\n"
     ]
    }
   ],
   "source": [
    "#13. Develop a program that checks if a year is a leap year and also if it is a century year.\n",
    "# Input a year from the user\n",
    "year = int(input(\"Enter a year: \"))\n",
    "\n",
    "# Check if it's a leap year and a century year\n",
    "is_leap_year = (year % 4 == 0 and year % 100 != 0) or (year % 400 == 0)\n",
    "is_century_year = year % 100 == 0\n",
    "\n",
    "# Print the results\n",
    "if is_leap_year:\n",
    "    print(f\"{year} is a leap year.\")\n",
    "else:\n",
    "    print(f\"{year} is not a leap year.\")\n",
    "\n",
    "if is_century_year:\n",
    "    print(f\"{year} is a century year.\")\n",
    "else:\n",
    "    print(f\"{year} is not a century year.\")\n"
   ]
  },
  {
   "cell_type": "code",
   "execution_count": 11,
   "id": "46d40257-d203-4a8e-9e0d-a40100d56f00",
   "metadata": {},
   "outputs": [
    {
     "name": "stdin",
     "output_type": "stream",
     "text": [
      "Enter a number:  545\n"
     ]
    },
    {
     "name": "stdout",
     "output_type": "stream",
     "text": [
      "545.0 is positive.\n"
     ]
    }
   ],
   "source": [
    "#14. Write a Python script to determine if a number is positive, negative, or zero.\n",
    "# Input a number from the user\n",
    "number = float(input(\"Enter a number: \"))\n",
    "\n",
    "# Check if the number is positive, negative, or zero using if-elif-else statements\n",
    "if number > 0:\n",
    "    print(f\"{number} is positive.\")\n",
    "elif number < 0:\n",
    "    print(f\"{number} is negative.\")\n",
    "else:\n",
    "    print(\"The number is zero.\")\n"
   ]
  },
  {
   "cell_type": "code",
   "execution_count": 12,
   "id": "0a514c0b-e289-4764-88bd-13218d446614",
   "metadata": {},
   "outputs": [
    {
     "name": "stdin",
     "output_type": "stream",
     "text": [
      "Enter the person's age:  58\n"
     ]
    },
    {
     "name": "stdout",
     "output_type": "stream",
     "text": [
      "The person is not a teenager.\n"
     ]
    }
   ],
   "source": [
    "#15. Create a program to check if a person is a teenager (between 13 and 19 years old).\n",
    "# Input the person's age from the user\n",
    "age = int(input(\"Enter the person's age: \"))\n",
    "\n",
    "# Check if the person is a teenager\n",
    "if 13 <= age <= 19:\n",
    "    print(\"The person is a teenager.\")\n",
    "else:\n",
    "    print(\"The person is not a teenager.\")\n"
   ]
  },
  {
   "cell_type": "code",
   "execution_count": 13,
   "id": "65da5ca6-5540-412d-ae59-74d7c6dcba22",
   "metadata": {},
   "outputs": [
    {
     "name": "stdin",
     "output_type": "stream",
     "text": [
      "Enter the angle measure in degrees:  89\n"
     ]
    },
    {
     "name": "stdout",
     "output_type": "stream",
     "text": [
      "The angle is acute.\n"
     ]
    }
   ],
   "source": [
    "#16. Develop a program that determines the type of angle based on its measure (acute, obtuse, or right).\n",
    "# Input the angle measure from the user\n",
    "angle_measure = float(input(\"Enter the angle measure in degrees: \"))\n",
    "\n",
    "# Check the type of angle based on its measure\n",
    "if angle_measure > 0 and angle_measure < 90:\n",
    "    angle_type = \"acute\"\n",
    "elif angle_measure == 90:\n",
    "    angle_type = \"right\"\n",
    "elif angle_measure > 90 and angle_measure < 180:\n",
    "    angle_type = \"obtuse\"\n",
    "else:\n",
    "    angle_type = \"invalid\"\n",
    "\n",
    "# Print the type of angle\n",
    "if angle_type == \"invalid\":\n",
    "    print(\"Invalid angle measure. Please enter a valid angle measure between 0 and 180 degrees.\")\n",
    "else:\n",
    "    print(f\"The angle is {angle_type}.\")\n"
   ]
  },
  {
   "cell_type": "code",
   "execution_count": 14,
   "id": "11e21616-58c9-457f-996a-561ddde6829f",
   "metadata": {},
   "outputs": [
    {
     "name": "stdin",
     "output_type": "stream",
     "text": [
      "Enter coefficient a:  5\n",
      "Enter coefficient b:  4\n",
      "Enter coefficient c:  -9\n"
     ]
    },
    {
     "name": "stdout",
     "output_type": "stream",
     "text": [
      "The roots are real and distinct: 1.0 and -1.8\n"
     ]
    }
   ],
   "source": [
    "#17. Write a Python program to calculate the roots of a quadratic equation.\n",
    "import math\n",
    "\n",
    "# Input coefficients of the quadratic equation from the user\n",
    "a = float(input(\"Enter coefficient a: \"))\n",
    "b = float(input(\"Enter coefficient b: \"))\n",
    "c = float(input(\"Enter coefficient c: \"))\n",
    "\n",
    "# Calculate the discriminant (the value inside the square root)\n",
    "discriminant = b**2 - 4*a*c\n",
    "\n",
    "# Check if the discriminant is positive, zero, or negative\n",
    "if discriminant > 0:\n",
    "    # Two real and distinct roots\n",
    "    root1 = (-b + math.sqrt(discriminant)) / (2*a)\n",
    "    root2 = (-b - math.sqrt(discriminant)) / (2*a)\n",
    "    print(f\"The roots are real and distinct: {root1} and {root2}\")\n",
    "elif discriminant == 0:\n",
    "    # One real root (root1 and root2 are the same)\n",
    "    root1 = -b / (2*a)\n",
    "    print(f\"The root is real and equal: {root1}\")\n",
    "else:\n",
    "    # No real roots (complex roots)\n",
    "    real_part = -b / (2*a)\n",
    "    imaginary_part = math.sqrt(abs(discriminant)) / (2*a)\n",
    "    print(f\"The roots are complex: {real_part} + {imaginary_part}i and {real_part} - {imaginary_part}i\")\n"
   ]
  },
  {
   "cell_type": "code",
   "execution_count": 15,
   "id": "4b5540fe-bd51-490e-8f0a-f0911ba8f501",
   "metadata": {},
   "outputs": [
    {
     "name": "stdin",
     "output_type": "stream",
     "text": [
      "Enter a number (1 for Monday, 2 for Tuesday, etc.):  5\n"
     ]
    },
    {
     "name": "stdout",
     "output_type": "stream",
     "text": [
      "The day of the week corresponding to 5 is Friday.\n"
     ]
    }
   ],
   "source": [
    "#18. Implement a program to determine the day of the week based on a user-provided number (1 for Monday, 2\n",
    "#for Tuesday, etc.).\n",
    "# Input a number from the user (1 for Monday, 2 for Tuesday, etc.)\n",
    "day_number = int(input(\"Enter a number (1 for Monday, 2 for Tuesday, etc.): \"))\n",
    "\n",
    "# Define a list of days of the week\n",
    "days_of_week = [\"Monday\", \"Tuesday\", \"Wednesday\", \"Thursday\", \"Friday\", \"Saturday\", \"Sunday\"]\n",
    "\n",
    "# Check if the user-provided number is valid\n",
    "if 1 <= day_number <= 7:\n",
    "    day_of_week = days_of_week[day_number - 1]  # Subtract 1 to access the correct index\n",
    "    print(f\"The day of the week corresponding to {day_number} is {day_of_week}.\")\n",
    "else:\n",
    "    print(\"Invalid input. Please enter a number between 1 and 7.\")\n"
   ]
  },
  {
   "cell_type": "code",
   "execution_count": 16,
   "id": "946140aa-8ecb-4b83-891e-047d66fc0a6e",
   "metadata": {},
   "outputs": [
    {
     "name": "stdin",
     "output_type": "stream",
     "text": [
      "Enter a year:  1546\n"
     ]
    },
    {
     "name": "stdout",
     "output_type": "stream",
     "text": [
      "1546 is not a leap year.\n",
      "1546 is not evenly divisible by 400.\n"
     ]
    }
   ],
   "source": [
    "#19. Create a program that determines if a year is a leap year and also if it is evenly divisible by 400.\n",
    "# Input a year from the user\n",
    "year = int(input(\"Enter a year: \"))\n",
    "\n",
    "# Check if it's a leap year (divisible by 4 and not divisible by 100, except if divisible by 400)\n",
    "is_leap_year = (year % 4 == 0 and year % 100 != 0) or (year % 400 == 0)\n",
    "\n",
    "# Check if it's evenly divisible by 400\n",
    "is_divisible_by_400 = year % 400 == 0\n",
    "\n",
    "# Print the results\n",
    "if is_leap_year:\n",
    "    print(f\"{year} is a leap year.\")\n",
    "else:\n",
    "    print(f\"{year} is not a leap year.\")\n",
    "\n",
    "if is_divisible_by_400:\n",
    "    print(f\"{year} is evenly divisible by 400.\")\n",
    "else:\n",
    "    print(f\"{year} is not evenly divisible by 400.\")\n"
   ]
  },
  {
   "cell_type": "code",
   "execution_count": 17,
   "id": "8650cfbf-8f83-4492-a8f5-117b20cfd2e3",
   "metadata": {},
   "outputs": [
    {
     "name": "stdin",
     "output_type": "stream",
     "text": [
      "Enter a number:  54\n"
     ]
    },
    {
     "name": "stdout",
     "output_type": "stream",
     "text": [
      "54 is not a prime number.\n"
     ]
    }
   ],
   "source": [
    "#20. Develop a program that checks if a given number is prime or not using nested if-else statements.\n",
    "# Input a number from the user\n",
    "number = int(input(\"Enter a number: \"))\n",
    "\n",
    "# Check if the number is greater than 1 (prime numbers are greater than 1)\n",
    "if number > 1:\n",
    "    # Check for factors using a loop\n",
    "    is_prime = True\n",
    "    for i in range(2, int(number**0.5) + 1):\n",
    "        if number % i == 0:\n",
    "            is_prime = False\n",
    "            break\n",
    "    \n",
    "    # Determine and print the result\n",
    "    if is_prime:\n",
    "        print(f\"{number} is a prime number.\")\n",
    "    else:\n",
    "        print(f\"{number} is not a prime number.\")\n",
    "else:\n",
    "    print(f\"{number} is not a prime number because it is less than or equal to 1.\")\n"
   ]
  },
  {
   "cell_type": "code",
   "execution_count": 18,
   "id": "fd9ca555-6360-4620-8709-63ed9eec470d",
   "metadata": {},
   "outputs": [
    {
     "name": "stdin",
     "output_type": "stream",
     "text": [
      "Enter the student's score:  56\n"
     ]
    },
    {
     "name": "stdout",
     "output_type": "stream",
     "text": [
      "The student's grade is F.\n"
     ]
    }
   ],
   "source": [
    "#21. Write a Python program to assign grades based on different ranges of scores using elif statements.\n",
    "# Input the student's score from the user\n",
    "score = float(input(\"Enter the student's score: \"))\n",
    "\n",
    "# Assign grades based on score ranges using elif statements\n",
    "if score >= 90:\n",
    "    grade = 'A'\n",
    "elif score >= 80:\n",
    "    grade = 'B'\n",
    "elif score >= 70:\n",
    "    grade = 'C'\n",
    "elif score >= 60:\n",
    "    grade = 'D'\n",
    "else:\n",
    "    grade = 'F'\n",
    "\n",
    "# Print the assigned grade\n",
    "print(f\"The student's grade is {grade}.\")\n"
   ]
  },
  {
   "cell_type": "code",
   "execution_count": 19,
   "id": "f3b92e37-12ba-4df1-a0a7-fb29c7d760ab",
   "metadata": {},
   "outputs": [
    {
     "name": "stdin",
     "output_type": "stream",
     "text": [
      "Enter the first angle in degrees:  45\n",
      "Enter the second angle in degrees:  25\n",
      "Enter the third angle in degrees:  69\n"
     ]
    },
    {
     "name": "stdout",
     "output_type": "stream",
     "text": [
      "Invalid input. The angles do not form a triangle.\n"
     ]
    }
   ],
   "source": [
    "#22. Implement a program to determine the type of a triangle based on its angles.\n",
    "# Input the three angles of the triangle\n",
    "angle1 = float(input(\"Enter the first angle in degrees: \"))\n",
    "angle2 = float(input(\"Enter the second angle in degrees: \"))\n",
    "angle3 = float(input(\"Enter the third angle in degrees: \"))\n",
    "\n",
    "# Check the type of triangle based on its angles\n",
    "if angle1 + angle2 + angle3 == 180:\n",
    "    if angle1 < 90 and angle2 < 90 and angle3 < 90:\n",
    "        triangle_type = \"acute\"\n",
    "    elif angle1 == 90 or angle2 == 90 or angle3 == 90:\n",
    "        triangle_type = \"right\"\n",
    "    else:\n",
    "        triangle_type = \"obtuse\"\n",
    "    print(f\"The triangle is a {triangle_type} triangle.\")\n",
    "else:\n",
    "    print(\"Invalid input. The angles do not form a triangle.\")\n"
   ]
  },
  {
   "cell_type": "code",
   "execution_count": 22,
   "id": "5efb9588-658c-40dd-9c99-8a198d3a5731",
   "metadata": {},
   "outputs": [
    {
     "name": "stdin",
     "output_type": "stream",
     "text": [
      "Enter your weight in kilograms:  64.5\n",
      "Enter your height in meters:  1.71\n"
     ]
    },
    {
     "name": "stdout",
     "output_type": "stream",
     "text": [
      "Your BMI is 22.06, which is categorized as Normal.\n"
     ]
    }
   ],
   "source": [
    "#23. Develop a program to categorize a given person's BMI into underweight, normal, overweight, or obese using\n",
    "#elif statements.\n",
    "# Function to calculate BMI\n",
    "def calculate_bmi(weight_kg, height_m):\n",
    "    return weight_kg / (height_m ** 2)\n",
    "\n",
    "# Function to categorize BMI\n",
    "def categorize_bmi(bmi):\n",
    "    if bmi < 18.5:\n",
    "        return \"Underweight\"\n",
    "    elif 18.5 <= bmi < 24.9:\n",
    "        return \"Normal\"\n",
    "    elif 25 <= bmi < 29.9:\n",
    "        return \"Overweight\"\n",
    "    else:\n",
    "        return \"Obese\"\n",
    "\n",
    "# Input height and weight from the user\n",
    "weight_kg = float(input(\"Enter your weight in kilograms: \"))\n",
    "height_m = float(input(\"Enter your height in meters: \"))\n",
    "\n",
    "# Calculate BMI\n",
    "bmi = calculate_bmi(weight_kg, height_m)\n",
    "\n",
    "# Categorize BMI\n",
    "category = categorize_bmi(bmi)\n",
    "\n",
    "# Display the result\n",
    "print(f\"Your BMI is {bmi:.2f}, which is categorized as {category}.\")\n"
   ]
  },
  {
   "cell_type": "code",
   "execution_count": 23,
   "id": "014a5385-bd69-4025-9245-8d93962676bc",
   "metadata": {},
   "outputs": [
    {
     "name": "stdin",
     "output_type": "stream",
     "text": [
      "Enter a number:  56\n"
     ]
    },
    {
     "name": "stdout",
     "output_type": "stream",
     "text": [
      "The number is positive.\n"
     ]
    }
   ],
   "source": [
    "#24. Create a program that determines whether a given number is positive, negative, or zero using elif statements.\n",
    "# Input a number from the user\n",
    "number = float(input(\"Enter a number: \"))\n",
    "\n",
    "# Check if the number is positive, negative, or zero\n",
    "if number > 0:\n",
    "    print(\"The number is positive.\")\n",
    "elif number < 0:\n",
    "    print(\"The number is negative.\")\n",
    "else:\n",
    "    print(\"The number is zero.\")\n"
   ]
  },
  {
   "cell_type": "code",
   "execution_count": 24,
   "id": "109c12fb-448e-426f-baf1-5a5d918cfa54",
   "metadata": {},
   "outputs": [
    {
     "name": "stdin",
     "output_type": "stream",
     "text": [
      "Enter a character:  i\n"
     ]
    },
    {
     "name": "stdout",
     "output_type": "stream",
     "text": [
      "The character 'i' is lowercase.\n"
     ]
    }
   ],
   "source": [
    "#25. Write a Python script to determine the type of a character (uppercase, lowercase, or special) using elif\n",
    "#statements.\n",
    "# Input a character from the user\n",
    "char = input(\"Enter a character: \")\n",
    "\n",
    "# Check the type of character\n",
    "if char.isalpha():\n",
    "    if char.islower():\n",
    "        print(f\"The character '{char}' is lowercase.\")\n",
    "    elif char.isupper():\n",
    "        print(f\"The character '{char}' is uppercase.\")\n",
    "else:\n",
    "    print(f\"The character '{char}' is a special character or digit.\")\n"
   ]
  },
  {
   "cell_type": "code",
   "execution_count": 28,
   "id": "e87f1ba4-4231-4e8f-b475-d65d2123e9a0",
   "metadata": {},
   "outputs": [
    {
     "name": "stdin",
     "output_type": "stream",
     "text": [
      "Enter the purchase amount:  1542\n"
     ]
    },
    {
     "name": "stdout",
     "output_type": "stream",
     "text": [
      "Discounted Price: Rs.1387.80\n"
     ]
    }
   ],
   "source": [
    "#26. Implement a program to calculate the discounted price based on different purchase amounts using elif statements.\n",
    "# Input the purchase amount from the user\n",
    "purchase_amount = float(input(\"Enter the purchase amount: \"))\n",
    "\n",
    "# Calculate the discounted price based on different purchase amounts\n",
    "if purchase_amount >= 100:\n",
    "    discount = 0.10  # 10% discount for purchases of $100 or more\n",
    "elif purchase_amount >= 50:\n",
    "    discount = 0.05  # 5% discount for purchases between $50 and $99.99\n",
    "else:\n",
    "    discount = 0.0   # No discount for purchases less than $50\n",
    "\n",
    "# Calculate the discounted price\n",
    "discounted_price = purchase_amount - (purchase_amount * discount)\n",
    "\n",
    "# Display the discounted price\n",
    "print(f\"Discounted Price: Rs.{discounted_price:.2f}\")\n"
   ]
  },
  {
   "cell_type": "code",
   "execution_count": 27,
   "id": "bfb86186-ed72-4b0b-9046-73d8060136cd",
   "metadata": {},
   "outputs": [
    {
     "name": "stdin",
     "output_type": "stream",
     "text": [
      "Enter the electricity consumption in kWh:  450\n"
     ]
    },
    {
     "name": "stdout",
     "output_type": "stream",
     "text": [
      "Electricity Bill Amount: Rs.115.00\n"
     ]
    }
   ],
   "source": [
    "#27. Develop a program to calculate the electricity bill based on different consumption slabs using elif statements.\n",
    "# Input the electricity consumption in kilowatt-hours (kWh) from the user\n",
    "consumption = float(input(\"Enter the electricity consumption in kWh: \"))\n",
    "\n",
    "# Define the electricity rate slabs\n",
    "slab1_rate = 0.20  # Rate for the first 100 kWh\n",
    "slab2_rate = 0.25  # Rate for the next 200 kWh\n",
    "slab3_rate = 0.30  # Rate for consumption above 300 kWh\n",
    "\n",
    "# Initialize the bill amount\n",
    "bill_amount = 0\n",
    "\n",
    "# Calculate the bill based on consumption slabs\n",
    "if consumption <= 100:\n",
    "    bill_amount = consumption * slab1_rate\n",
    "elif consumption <= 300:\n",
    "    bill_amount = (100 * slab1_rate) + ((consumption - 100) * slab2_rate)\n",
    "else:\n",
    "    bill_amount = (100 * slab1_rate) + (200 * slab2_rate) + ((consumption - 300) * slab3_rate)\n",
    "\n",
    "# Display the electricity bill amount\n",
    "print(f\"Electricity Bill Amount: Rs.{bill_amount:.2f}\")\n"
   ]
  },
  {
   "cell_type": "code",
   "execution_count": 29,
   "id": "f0a1c590-7cce-4f75-8fdc-8f666c17dc51",
   "metadata": {},
   "outputs": [
    {
     "name": "stdin",
     "output_type": "stream",
     "text": [
      "Enter the first angle in degrees:  45\n",
      "Enter the second angle in degrees:  45\n",
      "Enter the third angle in degrees:  180\n",
      "Enter the fourth angle in degrees:  90\n",
      "Enter the length of the first side:  4\n",
      "Enter the length of the second side:  5\n",
      "Enter the length of the third side:  6\n",
      "Enter the length of the fourth side:  9\n"
     ]
    },
    {
     "name": "stdout",
     "output_type": "stream",
     "text": [
      "It is an undefined quadrilateral.\n"
     ]
    }
   ],
   "source": [
    "#28. Create a program to determine the type of quadrilateral based on its angles and sides using elif statements.\n",
    "# Input the four angles of the quadrilateral\n",
    "angle1 = int(input(\"Enter the first angle in degrees: \"))\n",
    "angle2 = int(input(\"Enter the second angle in degrees: \"))\n",
    "angle3 = int(input(\"Enter the third angle in degrees: \"))\n",
    "angle4 = int(input(\"Enter the fourth angle in degrees: \"))\n",
    "\n",
    "# Input the four sides of the quadrilateral\n",
    "side1 = float(input(\"Enter the length of the first side: \"))\n",
    "side2 = float(input(\"Enter the length of the second side: \"))\n",
    "side3 = float(input(\"Enter the length of the third side: \"))\n",
    "side4 = float(input(\"Enter the length of the fourth side: \"))\n",
    "\n",
    "# Check the type of quadrilateral based on angles and sides\n",
    "if angle1 == angle2 == angle3 == angle4 == 90:\n",
    "    print(\"It is a rectangle.\")\n",
    "elif angle1 == angle2 == angle3 == angle4 == 360 and side1 == side2 == side3 == side4:\n",
    "    print(\"It is a square.\")\n",
    "elif angle1 == angle2 == angle3 == angle4:\n",
    "    print(\"It is a parallelogram.\")\n",
    "elif (angle1 + angle2 + angle3 + angle4) == 360 and side1 == side2 == side3 == side4:\n",
    "    print(\"It is a quadrilateral.\")\n",
    "else:\n",
    "    print(\"It is an undefined quadrilateral.\")\n"
   ]
  },
  {
   "cell_type": "code",
   "execution_count": 30,
   "id": "64948382-4b22-4366-a6d6-77503118f114",
   "metadata": {},
   "outputs": [
    {
     "name": "stdin",
     "output_type": "stream",
     "text": [
      "Enter the month (1-12):  5\n"
     ]
    },
    {
     "name": "stdout",
     "output_type": "stream",
     "text": [
      "The season for month 5 is Spring.\n"
     ]
    }
   ],
   "source": [
    "## Input the month from the user (as a number)\n",
    "month = int(input(\"Enter the month (1-12): \"))\n",
    "\n",
    "# Check the season based on the month\n",
    "if 3 <= month <= 5:\n",
    "    season = \"Spring\"\n",
    "elif 6 <= month <= 8:\n",
    "    season = \"Summer\"\n",
    "elif 9 <= month <= 11:\n",
    "    season = \"Autumn (Fall)\"\n",
    "elif month == 12 or month <= 2:\n",
    "    season = \"Winter\"\n",
    "else:\n",
    "    season = \"Invalid month\"\n",
    "\n",
    "# Display the season\n",
    "print(f\"The season for month {month} is {season}.\")\n"
   ]
  },
  {
   "cell_type": "code",
   "execution_count": 31,
   "id": "765f93d1-54be-4c73-99b7-f2b7b44a8e7e",
   "metadata": {},
   "outputs": [
    {
     "name": "stdin",
     "output_type": "stream",
     "text": [
      "Enter a year:  1526\n",
      "Enter a month (1-12):  9\n"
     ]
    },
    {
     "name": "stdout",
     "output_type": "stream",
     "text": [
      "1526 is a common year.\n",
      "The month 9 has 30 days.\n"
     ]
    }
   ],
   "source": [
    "## Input a year from the user\n",
    "year = int(input(\"Enter a year: \"))\n",
    "\n",
    "# Input a month from the user (as a number)\n",
    "month = int(input(\"Enter a month (1-12): \"))\n",
    "\n",
    "# Check if it's a leap year\n",
    "if (year % 4 == 0 and year % 100 != 0) or (year % 400 == 0):\n",
    "    is_leap_year = True\n",
    "else:\n",
    "    is_leap_year = False\n",
    "\n",
    "# Check the number of days in the month\n",
    "if month < 1 or month > 12:\n",
    "    print(\"Invalid month.\")\n",
    "elif month in [1, 3, 5, 7, 8, 10, 12]:\n",
    "    days_in_month = 31\n",
    "elif month == 2:\n",
    "    if is_leap_year:\n",
    "        days_in_month = 29\n",
    "    else:\n",
    "        days_in_month = 28\n",
    "else:\n",
    "    days_in_month = 30\n",
    "\n",
    "# Display the results\n",
    "if is_leap_year:\n",
    "    print(f\"{year} is a leap year.\")\n",
    "else:\n",
    "    print(f\"{year} is a common year.\")\n",
    "\n",
    "print(f\"The month {month} has {days_in_month} days.\")\n"
   ]
  },
  {
   "cell_type": "code",
   "execution_count": 2,
   "id": "ac5ee550-3c90-4574-ad6f-14d31518f06b",
   "metadata": {},
   "outputs": [],
   "source": [
    "#********************** Basic level ***********************"
   ]
  },
  {
   "cell_type": "code",
   "execution_count": 32,
   "id": "3e3e0a84-0a74-4e77-9b2e-1e6dc0a78e7a",
   "metadata": {},
   "outputs": [
    {
     "name": "stdin",
     "output_type": "stream",
     "text": [
      "Enter a number:  8\n"
     ]
    },
    {
     "name": "stdout",
     "output_type": "stream",
     "text": [
      "The number is positive.\n"
     ]
    }
   ],
   "source": [
    "#1. Write a Python program that checks if a given number is positive, negative, or zero.\n",
    "# Input a number from the user\n",
    "number = float(input(\"Enter a number: \"))\n",
    "\n",
    "# Check if the number is positive, negative, or zero\n",
    "if number > 0:\n",
    "    print(\"The number is positive.\")\n",
    "elif number < 0:\n",
    "    print(\"The number is negative.\")\n",
    "else:\n",
    "    print(\"The number is zero.\")\n"
   ]
  },
  {
   "cell_type": "code",
   "execution_count": 33,
   "id": "ffa5cb93-ce46-463d-bbe9-4ea113191a53",
   "metadata": {},
   "outputs": [
    {
     "name": "stdin",
     "output_type": "stream",
     "text": [
      "Enter your age:  56\n"
     ]
    },
    {
     "name": "stdout",
     "output_type": "stream",
     "text": [
      "You are eligible to vote.\n"
     ]
    }
   ],
   "source": [
    "#2. Create a program to determine if a person is eligible to vote based on their age.\n",
    "# Input the person's age\n",
    "age = int(input(\"Enter your age: \"))\n",
    "\n",
    "# Check if the person is eligible to vote\n",
    "if age >= 18:\n",
    "    print(\"You are eligible to vote.\")\n",
    "else:\n",
    "    print(\"You are not eligible to vote yet.\")\n"
   ]
  },
  {
   "cell_type": "code",
   "execution_count": 34,
   "id": "b10c606d-7178-43fa-a564-9b814300526e",
   "metadata": {},
   "outputs": [
    {
     "name": "stdin",
     "output_type": "stream",
     "text": [
      "Enter the first number:  45\n",
      "Enter the second number:  65\n"
     ]
    },
    {
     "name": "stdout",
     "output_type": "stream",
     "text": [
      "The maximum of 45.0 and 65.0 is 65.0.\n"
     ]
    }
   ],
   "source": [
    "#3. Write a program to find the maximum of two given numbers using conditional statements.\n",
    "# Input two numbers from the user\n",
    "num1 = float(input(\"Enter the first number: \"))\n",
    "num2 = float(input(\"Enter the second number: \"))\n",
    "\n",
    "# Find the maximum using a conditional statement\n",
    "if num1 > num2:\n",
    "    maximum = num1\n",
    "else:\n",
    "    maximum = num2\n",
    "\n",
    "# Display the maximum number\n",
    "print(f\"The maximum of {num1} and {num2} is {maximum}.\")\n"
   ]
  },
  {
   "cell_type": "code",
   "execution_count": 35,
   "id": "fe2613c9-6404-4c76-ab48-50d29c292d9e",
   "metadata": {},
   "outputs": [
    {
     "name": "stdin",
     "output_type": "stream",
     "text": [
      "Enter the exam score:  85\n"
     ]
    },
    {
     "name": "stdout",
     "output_type": "stream",
     "text": [
      "The grade for a score of 85.0 is B.\n"
     ]
    }
   ],
   "source": [
    "#4. Develop a program that calculates the grade of a student based on their exam score.\n",
    "# Input the exam score from the user\n",
    "score = float(input(\"Enter the exam score: \"))\n",
    "\n",
    "# Determine the grade based on the score\n",
    "if 90 <= score <= 100:\n",
    "    grade = \"A\"\n",
    "elif 80 <= score < 90:\n",
    "    grade = \"B\"\n",
    "elif 70 <= score < 80:\n",
    "    grade = \"C\"\n",
    "elif 60 <= score < 70:\n",
    "    grade = \"D\"\n",
    "elif 0 <= score < 60:\n",
    "    grade = \"F\"\n",
    "else:\n",
    "    grade = \"Invalid score (should be between 0 and 100)\"\n",
    "\n",
    "# Display the grade\n",
    "print(f\"The grade for a score of {score} is {grade}.\")\n"
   ]
  },
  {
   "cell_type": "code",
   "execution_count": 36,
   "id": "27552ee5-c0e0-4086-bf51-1d80a758617c",
   "metadata": {},
   "outputs": [
    {
     "name": "stdin",
     "output_type": "stream",
     "text": [
      "Enter a year:  1556\n"
     ]
    },
    {
     "name": "stdout",
     "output_type": "stream",
     "text": [
      "1556 is a leap year.\n"
     ]
    }
   ],
   "source": [
    "#5. Create a program that checks if a year is a leap year or not.\n",
    "# Input a year from the user\n",
    "year = int(input(\"Enter a year: \"))\n",
    "\n",
    "# Check if it's a leap year\n",
    "if (year % 4 == 0 and year % 100 != 0) or (year % 400 == 0):\n",
    "    print(f\"{year} is a leap year.\")\n",
    "else:\n",
    "    print(f\"{year} is not a leap year.\")\n"
   ]
  },
  {
   "cell_type": "code",
   "execution_count": 37,
   "id": "b735cde8-df11-4b8a-b332-4d8d5632043f",
   "metadata": {},
   "outputs": [
    {
     "name": "stdin",
     "output_type": "stream",
     "text": [
      "Enter the length of the first side:  4\n",
      "Enter the length of the second side:  5\n",
      "Enter the length of the third side:  6\n"
     ]
    },
    {
     "name": "stdout",
     "output_type": "stream",
     "text": [
      "The triangle with sides 4.0, 5.0, and 6.0 is a Scalene triangle.\n"
     ]
    }
   ],
   "source": [
    "#6. Write a program to classify a triangle based on its sides' lengths.\n",
    "# Input the lengths of the three sides of the triangle\n",
    "side1 = float(input(\"Enter the length of the first side: \"))\n",
    "side2 = float(input(\"Enter the length of the second side: \"))\n",
    "side3 = float(input(\"Enter the length of the third side: \"))\n",
    "\n",
    "# Check the type of triangle based on side lengths\n",
    "if side1 == side2 == side3:\n",
    "    triangle_type = \"Equilateral\"\n",
    "elif side1 == side2 or side2 == side3 or side1 == side3:\n",
    "    triangle_type = \"Isosceles\"\n",
    "else:\n",
    "    triangle_type = \"Scalene\"\n",
    "\n",
    "# Display the triangle type\n",
    "print(f\"The triangle with sides {side1}, {side2}, and {side3} is a {triangle_type} triangle.\")\n"
   ]
  },
  {
   "cell_type": "code",
   "execution_count": 38,
   "id": "53088146-81bb-45b3-85a9-d96c09e72113",
   "metadata": {},
   "outputs": [
    {
     "name": "stdin",
     "output_type": "stream",
     "text": [
      "Enter the first number:  5\n",
      "Enter the second number:  6\n",
      "Enter the third number:  9\n"
     ]
    },
    {
     "name": "stdout",
     "output_type": "stream",
     "text": [
      "The largest number among 5.0, 6.0, and 9.0 is 9.0.\n"
     ]
    }
   ],
   "source": [
    "#7. Build a program that determines the largest of three given numbers.\n",
    "# Input three numbers from the user\n",
    "num1 = float(input(\"Enter the first number: \"))\n",
    "num2 = float(input(\"Enter the second number: \"))\n",
    "num3 = float(input(\"Enter the third number: \"))\n",
    "\n",
    "# Find the largest number using conditional statements\n",
    "if num1 >= num2 and num1 >= num3:\n",
    "    largest = num1\n",
    "elif num2 >= num1 and num2 >= num3:\n",
    "    largest = num2\n",
    "else:\n",
    "    largest = num3\n",
    "\n",
    "# Display the largest number\n",
    "print(f\"The largest number among {num1}, {num2}, and {num3} is {largest}.\")\n"
   ]
  },
  {
   "cell_type": "code",
   "execution_count": 39,
   "id": "8ede6d5d-42f1-4ef1-8008-3854b6e7263e",
   "metadata": {},
   "outputs": [
    {
     "name": "stdin",
     "output_type": "stream",
     "text": [
      "Enter a character:  u\n"
     ]
    },
    {
     "name": "stdout",
     "output_type": "stream",
     "text": [
      "u is a vowel.\n"
     ]
    }
   ],
   "source": [
    "#8. Develop a program that checks whether a character is a vowel or a consonant.\n",
    "# Input a character from the user\n",
    "char = input(\"Enter a character: \")\n",
    "\n",
    "# Check if the character is a vowel or a consonant\n",
    "if char.isalpha():\n",
    "    char = char.lower()  # Convert to lowercase to handle both uppercase and lowercase input\n",
    "    if char in ['a', 'e', 'i', 'o', 'u']:\n",
    "        print(f\"{char} is a vowel.\")\n",
    "    else:\n",
    "        print(f\"{char} is a consonant.\")\n",
    "else:\n",
    "    print(\"Invalid input. Please enter an alphabetic character.\")\n"
   ]
  },
  {
   "cell_type": "code",
   "execution_count": 41,
   "id": "cb752bbe-f09c-4ed9-9ead-f206ab0c85d9",
   "metadata": {},
   "outputs": [
    {
     "name": "stdin",
     "output_type": "stream",
     "text": [
      "Enter the number of items in your shopping cart:  2\n",
      "Enter the price of item 1: $ 1\n",
      "Enter the quantity of item 1:  2\n",
      "Enter the price of item 2: $ 85\n",
      "Enter the quantity of item 2:  4\n"
     ]
    },
    {
     "name": "stdout",
     "output_type": "stream",
     "text": [
      "Total cost before discounts: Rs.342.00\n",
      "Total cost after discounts: Rs.307.80\n"
     ]
    }
   ],
   "source": [
    "#9. Create a program to calculate the total cost of a shopping cart based on discounts.\n",
    "# Initialize variables for the item prices and quantities\n",
    "item_prices = []\n",
    "item_quantities = []\n",
    "\n",
    "# Input the number of items in the cart\n",
    "num_items = int(input(\"Enter the number of items in your shopping cart: \"))\n",
    "\n",
    "# Input item prices and quantities\n",
    "for i in range(num_items):\n",
    "    price = float(input(f\"Enter the price of item {i+1}: Rs.\"))\n",
    "    quantity = int(input(f\"Enter the quantity of item {i+1}: \"))\n",
    "    item_prices.append(price)\n",
    "    item_quantities.append(quantity)\n",
    "\n",
    "# Calculate the total cost before applying discounts\n",
    "total_cost = sum(item_prices[i] * item_quantities[i] for i in range(num_items))\n",
    "\n",
    "# Apply discounts based on the total cost\n",
    "if total_cost >= 100:\n",
    "    discount = 0.1  # 10% discount for total cost >= $100\n",
    "elif total_cost >= 50:\n",
    "    discount = 0.05  # 5% discount for total cost >= $50\n",
    "else:\n",
    "    discount = 0.0   # No discount for total cost < $50\n",
    "\n",
    "# Calculate the discounted cost\n",
    "discounted_cost = total_cost - (total_cost * discount)\n",
    "\n",
    "# Display the total cost and discounted cost\n",
    "print(f\"Total cost before discounts: Rs.{total_cost:.2f}\")\n",
    "print(f\"Total cost after discounts: Rs.{discounted_cost:.2f}\")\n"
   ]
  },
  {
   "cell_type": "code",
   "execution_count": null,
   "id": "541f3842-3448-4c79-9279-cbb2a4a56bf6",
   "metadata": {
    "jupyter": {
     "source_hidden": true
    },
    "tags": []
   },
   "outputs": [],
   "source": [
    "#10. Write a program that checks if a given number is even or odd.\n",
    "# Input a number from the user\n",
    "number = int(input(\"Enter a number: \"))\n",
    "\n",
    "# Check if the number is even or odd\n",
    "if number % 2 == 0:\n",
    "    print(f\"{number} is even.\")\n",
    "else:\n",
    "    print(f\"{number} is odd.\")\n"
   ]
  },
  {
   "cell_type": "code",
   "execution_count": 5,
   "id": "dbb55370-ac0b-4319-b8fa-6f60c6bfae8f",
   "metadata": {},
   "outputs": [],
   "source": [
    "#******************************Intermediate Level:*************************************************"
   ]
  },
  {
   "cell_type": "code",
   "execution_count": 42,
   "id": "c10dd01f-ebc4-4f46-8b57-59ad333ad81b",
   "metadata": {},
   "outputs": [
    {
     "name": "stdin",
     "output_type": "stream",
     "text": [
      "Enter coefficient a:  5\n",
      "Enter coefficient b:  -5\n",
      "Enter coefficient c:  6\n"
     ]
    },
    {
     "name": "stdout",
     "output_type": "stream",
     "text": [
      "The roots are complex: 0.5 + 0.9746794344808963i and 0.5 - 0.9746794344808963i\n"
     ]
    }
   ],
   "source": [
    "#11. Write a program that calculates the roots of a quadratic equation .\n",
    "import math\n",
    "\n",
    "# Input coefficients a, b, and c from the user\n",
    "a = float(input(\"Enter coefficient a: \"))\n",
    "b = float(input(\"Enter coefficient b: \"))\n",
    "c = float(input(\"Enter coefficient c: \"))\n",
    "\n",
    "# Calculate the discriminant (D)\n",
    "D = b**2 - 4*a*c\n",
    "\n",
    "# Check if the discriminant is positive, negative, or zero\n",
    "if D > 0:\n",
    "    root1 = (-b + math.sqrt(D)) / (2*a)\n",
    "    root2 = (-b - math.sqrt(D)) / (2*a)\n",
    "    print(f\"The roots are real and distinct: {root1} and {root2}\")\n",
    "elif D == 0:\n",
    "    root1 = -b / (2*a)\n",
    "    print(f\"The root is real and equal: {root1}\")\n",
    "else:\n",
    "    real_part = -b / (2*a)\n",
    "    imaginary_part = math.sqrt(-D) / (2*a)\n",
    "    print(f\"The roots are complex: {real_part} + {imaginary_part}i and {real_part} - {imaginary_part}i\")\n"
   ]
  },
  {
   "cell_type": "code",
   "execution_count": 43,
   "id": "7c29e732-7993-4d74-9255-cd9703d4f870",
   "metadata": {},
   "outputs": [
    {
     "name": "stdin",
     "output_type": "stream",
     "text": [
      "Enter the day number (1-7):  5\n"
     ]
    },
    {
     "name": "stdout",
     "output_type": "stream",
     "text": [
      "Day 5 corresponds to Thursday.\n"
     ]
    }
   ],
   "source": [
    "#12. Create a program that determines the day of the week based on the day number (1-7).\n",
    "# Input the day number from the user\n",
    "day_number = int(input(\"Enter the day number (1-7): \"))\n",
    "\n",
    "# Determine the day of the week\n",
    "if day_number == 1:\n",
    "    day = \"Sunday\"\n",
    "elif day_number == 2:\n",
    "    day = \"Monday\"\n",
    "elif day_number == 3:\n",
    "    day = \"Tuesday\"\n",
    "elif day_number == 4:\n",
    "    day = \"Wednesday\"\n",
    "elif day_number == 5:\n",
    "    day = \"Thursday\"\n",
    "elif day_number == 6:\n",
    "    day = \"Friday\"\n",
    "elif day_number == 7:\n",
    "    day = \"Saturday\"\n",
    "else:\n",
    "    day = \"Invalid day number (should be between 1 and 7)\"\n",
    "\n",
    "# Display the day of the week\n",
    "print(f\"Day {day_number} corresponds to {day}.\")\n"
   ]
  },
  {
   "cell_type": "code",
   "execution_count": 44,
   "id": "7dbeb6c7-1198-4fd5-9a90-d33e1fa5125e",
   "metadata": {},
   "outputs": [
    {
     "name": "stdin",
     "output_type": "stream",
     "text": [
      "Enter a non-negative integer:  56\n"
     ]
    },
    {
     "name": "stdout",
     "output_type": "stream",
     "text": [
      "The factorial of 56 is 710998587804863451854045647463724949736497978881168458687447040000000000000\n"
     ]
    }
   ],
   "source": [
    "#13. Develop a program that calculates the factorial of a given number using recursion.\n",
    "\n",
    "# Function to calculate the factorial using recursion\n",
    "def factorial(n):\n",
    "    if n == 0:\n",
    "        return 1\n",
    "    else:\n",
    "        return n * factorial(n - 1)\n",
    "\n",
    "# Input a non-negative integer from the user\n",
    "try:\n",
    "    num = int(input(\"Enter a non-negative integer: \"))\n",
    "    if num < 0:\n",
    "        print(\"Please enter a non-negative integer.\")\n",
    "    else:\n",
    "        result = factorial(num)\n",
    "        print(f\"The factorial of {num} is {result}\")\n",
    "except ValueError:\n",
    "    print(\"Invalid input. Please enter a non-negative integer.\")\n"
   ]
  },
  {
   "cell_type": "code",
   "execution_count": 45,
   "id": "5acbb7b9-1e15-485a-986b-cb0fe6cae3b8",
   "metadata": {},
   "outputs": [
    {
     "name": "stdin",
     "output_type": "stream",
     "text": [
      "Enter the first number:  5\n",
      "Enter the second number:  6\n",
      "Enter the third number:  7\n"
     ]
    },
    {
     "name": "stdout",
     "output_type": "stream",
     "text": [
      "The largest number among 5.0, 6.0, and 7.0 is 7.0.\n"
     ]
    }
   ],
   "source": [
    "#14. Write a program to find the largest among three numbers without using the `max()` function.\n",
    "# Input three numbers from the user\n",
    "num1 = float(input(\"Enter the first number: \"))\n",
    "num2 = float(input(\"Enter the second number: \"))\n",
    "num3 = float(input(\"Enter the third number: \"))\n",
    "\n",
    "# Compare the numbers to find the largest\n",
    "if num1 >= num2 and num1 >= num3:\n",
    "    largest = num1\n",
    "elif num2 >= num1 and num2 >= num3:\n",
    "    largest = num2\n",
    "else:\n",
    "    largest = num3\n",
    "\n",
    "# Display the largest number\n",
    "print(f\"The largest number among {num1}, {num2}, and {num3} is {largest}.\")\n"
   ]
  },
  {
   "cell_type": "code",
   "execution_count": 46,
   "id": "bc8d310b-0a1a-4ef9-82ba-9fb83b52b752",
   "metadata": {},
   "outputs": [
    {
     "name": "stdout",
     "output_type": "stream",
     "text": [
      "\n",
      "ATM Menu:\n",
      "1. Display Balance\n",
      "2. Deposit Money\n",
      "3. Withdraw Money\n",
      "4. Exit\n"
     ]
    },
    {
     "name": "stdin",
     "output_type": "stream",
     "text": [
      "Select an option (1/2/3/4):  1\n"
     ]
    },
    {
     "name": "stdout",
     "output_type": "stream",
     "text": [
      "Your account balance is: $1000.00\n",
      "\n",
      "ATM Menu:\n",
      "1. Display Balance\n",
      "2. Deposit Money\n",
      "3. Withdraw Money\n",
      "4. Exit\n"
     ]
    },
    {
     "name": "stdin",
     "output_type": "stream",
     "text": [
      "Select an option (1/2/3/4):  4\n"
     ]
    },
    {
     "name": "stdout",
     "output_type": "stream",
     "text": [
      "Thank you for using the ATM. Have a nice day!\n"
     ]
    }
   ],
   "source": [
    "#15. Create a program that simulates a basic ATM transaction menu.\n",
    "# Initialize the account balance\n",
    "account_balance = 1000\n",
    "\n",
    "# Function to display the account balance\n",
    "def display_balance():\n",
    "    print(f\"Your account balance is: ${account_balance:.2f}\")\n",
    "\n",
    "# Function to deposit money\n",
    "def deposit():\n",
    "    global account_balance\n",
    "    amount = float(input(\"Enter the amount to deposit: $\"))\n",
    "    if amount > 0:\n",
    "        account_balance += amount\n",
    "        print(f\"Deposit of ${amount:.2f} successful.\")\n",
    "        display_balance()\n",
    "    else:\n",
    "        print(\"Invalid amount. Please enter a positive amount.\")\n",
    "\n",
    "# Function to withdraw money\n",
    "def withdraw():\n",
    "    global account_balance\n",
    "    amount = float(input(\"Enter the amount to withdraw: $\"))\n",
    "    if amount > 0 and amount <= account_balance:\n",
    "        account_balance -= amount\n",
    "        print(f\"Withdrawal of ${amount:.2f} successful.\")\n",
    "        display_balance()\n",
    "    elif amount <= 0:\n",
    "        print(\"Invalid amount. Please enter a positive amount.\")\n",
    "    else:\n",
    "        print(\"Insufficient funds.\")\n",
    "\n",
    "# Main ATM menu\n",
    "while True:\n",
    "    print(\"\\nATM Menu:\")\n",
    "    print(\"1. Display Balance\")\n",
    "    print(\"2. Deposit Money\")\n",
    "    print(\"3. Withdraw Money\")\n",
    "    print(\"4. Exit\")\n",
    "    \n",
    "    choice = input(\"Select an option (1/2/3/4): \")\n",
    "    \n",
    "    if choice == '1':\n",
    "        display_balance()\n",
    "    elif choice == '2':\n",
    "        deposit()\n",
    "    elif choice == '3':\n",
    "        withdraw()\n",
    "    elif choice == '4':\n",
    "        print(\"Thank you for using the ATM. Have a nice day!\")\n",
    "        break\n",
    "    else:\n",
    "        print(\"Invalid choice. Please select a valid option (1/2/3/4).\")\n"
   ]
  },
  {
   "cell_type": "code",
   "execution_count": 47,
   "id": "195e4183-bf4a-49f0-b451-067d512db97d",
   "metadata": {},
   "outputs": [
    {
     "name": "stdin",
     "output_type": "stream",
     "text": [
      "Enter a string:  hello buddy\n"
     ]
    },
    {
     "name": "stdout",
     "output_type": "stream",
     "text": [
      "'hello buddy' is not a palindrome.\n"
     ]
    }
   ],
   "source": [
    "#16. Build a program that checks if a given string is a palindrome or not.\n",
    "# Function to check if a string is a palindrome\n",
    "def is_palindrome(s):\n",
    "    # Remove spaces and convert to lowercase for case-insensitive comparison\n",
    "    s = s.replace(\" \", \"\").lower()\n",
    "    \n",
    "    # Compare the string with its reverse\n",
    "    return s == s[::-1]\n",
    "\n",
    "# Input a string from the user\n",
    "input_string = input(\"Enter a string: \")\n",
    "\n",
    "# Check if the string is a palindrome\n",
    "if is_palindrome(input_string):\n",
    "    print(f\"'{input_string}' is a palindrome.\")\n",
    "else:\n",
    "    print(f\"'{input_string}' is not a palindrome.\")\n"
   ]
  },
  {
   "cell_type": "code",
   "execution_count": 48,
   "id": "f1a65762-220d-4d07-b1c7-72d5673907b1",
   "metadata": {},
   "outputs": [
    {
     "name": "stdin",
     "output_type": "stream",
     "text": [
      "Enter a list of numbers separated by spaces:  45 47 58 69\n"
     ]
    },
    {
     "name": "stdout",
     "output_type": "stream",
     "text": [
      "The average (excluding the smallest and largest values) is: 52.50\n"
     ]
    }
   ],
   "source": [
    "#17. Write a program that calculates the average of a list of numbers, excluding the smallest and largest values.\n",
    "# Input a list of numbers from the user\n",
    "numbers = input(\"Enter a list of numbers separated by spaces: \").split()\n",
    "\n",
    "# Convert the input into a list of floats\n",
    "numbers = [float(x) for x in numbers]\n",
    "\n",
    "# Check if the list has at least 3 numbers\n",
    "if len(numbers) < 3:\n",
    "    print(\"You need to enter at least 3 numbers to calculate the average.\")\n",
    "else:\n",
    "    # Remove the smallest and largest values from the list\n",
    "    numbers.remove(min(numbers))\n",
    "    numbers.remove(max(numbers))\n",
    "    \n",
    "    # Calculate the average of the remaining values\n",
    "    average = sum(numbers) / len(numbers)\n",
    "    \n",
    "    print(f\"The average (excluding the smallest and largest values) is: {average:.2f}\")\n"
   ]
  },
  {
   "cell_type": "code",
   "execution_count": 49,
   "id": "816dce87-bdf7-4e17-ab32-0190a65031fd",
   "metadata": {},
   "outputs": [
    {
     "name": "stdin",
     "output_type": "stream",
     "text": [
      "Enter the temperature in Celsius:  37\n"
     ]
    },
    {
     "name": "stdout",
     "output_type": "stream",
     "text": [
      "37.0 degrees Celsius is equal to 98.60 degrees Fahrenheit.\n"
     ]
    }
   ],
   "source": [
    "#18. Develop a program that converts a given temperature from Celsius to Fahrenheit.\n",
    "# Input the temperature in Celsius from the user\n",
    "celsius = float(input(\"Enter the temperature in Celsius: \"))\n",
    "\n",
    "# Convert Celsius to Fahrenheit using the formula: F = (C * 9/5) + 32\n",
    "fahrenheit = (celsius * 9/5) + 32\n",
    "\n",
    "# Display the temperature in Fahrenheit\n",
    "print(f\"{celsius} degrees Celsius is equal to {fahrenheit:.2f} degrees Fahrenheit.\")\n"
   ]
  },
  {
   "cell_type": "code",
   "execution_count": 50,
   "id": "7070ba9b-7f04-4bce-9b8a-c1e80f4f4cdd",
   "metadata": {},
   "outputs": [
    {
     "name": "stdout",
     "output_type": "stream",
     "text": [
      "\n",
      "Calculator Menu:\n",
      "1. Add\n",
      "2. Subtract\n",
      "3. Multiply\n",
      "4. Divide\n",
      "5. Exit\n"
     ]
    },
    {
     "name": "stdin",
     "output_type": "stream",
     "text": [
      "Select an operation (1/2/3/4/5):  5\n"
     ]
    },
    {
     "name": "stdout",
     "output_type": "stream",
     "text": [
      "Thank you for using the calculator. Have a nice day!\n"
     ]
    }
   ],
   "source": [
    "#19. Create a program that simulates a basic calculator for addition, subtraction, multiplication, and division.\n",
    "# Function to perform addition\n",
    "def add(x, y):\n",
    "    return x + y\n",
    "\n",
    "# Function to perform subtraction\n",
    "def subtract(x, y):\n",
    "    return x - y\n",
    "\n",
    "# Function to perform multiplication\n",
    "def multiply(x, y):\n",
    "    return x * y\n",
    "\n",
    "# Function to perform division\n",
    "def divide(x, y):\n",
    "    if y == 0:\n",
    "        return \"Error: Division by zero\"\n",
    "    return x / y\n",
    "\n",
    "# Main calculator menu\n",
    "while True:\n",
    "    print(\"\\nCalculator Menu:\")\n",
    "    print(\"1. Add\")\n",
    "    print(\"2. Subtract\")\n",
    "    print(\"3. Multiply\")\n",
    "    print(\"4. Divide\")\n",
    "    print(\"5. Exit\")\n",
    "    \n",
    "    choice = input(\"Select an operation (1/2/3/4/5): \")\n",
    "    \n",
    "    if choice == '5':\n",
    "        print(\"Thank you for using the calculator. Have a nice day!\")\n",
    "        break\n",
    "    \n",
    "    if choice not in ['1', '2', '3', '4']:\n",
    "        print(\"Invalid choice. Please select a valid operation (1/2/3/4).\")\n",
    "        continue\n",
    "    \n",
    "    # Input two numbers from the user\n",
    "    num1 = float(input(\"Enter the first number: \"))\n",
    "    num2 = float(input(\"Enter the second number: \"))\n",
    "    \n",
    "    # Perform the selected operation\n",
    "    if choice == '1':\n",
    "        result = add(num1, num2)\n",
    "        operation = \"Addition\"\n",
    "    elif choice == '2':\n",
    "        result = subtract(num1, num2)\n",
    "        operation = \"Subtraction\"\n",
    "    elif choice == '3':\n",
    "        result = multiply(num1, num2)\n",
    "        operation = \"Multiplication\"\n",
    "    elif choice == '4':\n",
    "        result = divide(num1, num2)\n",
    "        operation = \"Division\"\n",
    "    \n",
    "    # Display the result\n",
    "    print(f\"{operation} result: {result}\")\n"
   ]
  },
  {
   "cell_type": "code",
   "execution_count": 51,
   "id": "302fd186-b6d5-4b63-b7e5-89b3cd79fa00",
   "metadata": {},
   "outputs": [
    {
     "name": "stdin",
     "output_type": "stream",
     "text": [
      "Enter coefficient a:  1\n",
      "Enter coefficient b:  2\n",
      "Enter coefficient c:  -3\n",
      "Enter coefficient d:  -9\n"
     ]
    },
    {
     "name": "stdout",
     "output_type": "stream",
     "text": [
      "The roots of the cubic equation are:\n",
      "Root 1: -3.272798\n"
     ]
    }
   ],
   "source": [
    "#20. Write a program that determines the roots of a cubic equation using the Cardano formula.\n",
    "import math\n",
    "\n",
    "# Function to calculate the roots of a cubic equation using Cardano's formula\n",
    "def cubic_roots(a, b, c, d):\n",
    "    p = (3 * a * c - b**2) / (3 * a**2)\n",
    "    q = (2 * b**3 - 9 * a * b * c + 27 * a**2 * d) / (27 * a**3)\n",
    "\n",
    "    delta = q**2 / 4 + p**3 / 27\n",
    "\n",
    "    if delta > 0:\n",
    "        u = (-q/2 + math.sqrt(delta))**(1/3)\n",
    "        v = (-q/2 - math.sqrt(delta))**(1/3)\n",
    "        real_root = -b / (3 * a) - u - v\n",
    "        return [real_root]\n",
    "    elif delta == 0:\n",
    "        u = (-q/2)**(1/3)\n",
    "        real_root = -b / (3 * a) - 2*u\n",
    "        complex_root = (u + u*(-1)**(1/3)) - b / (3 * a)\n",
    "        return [real_root, complex_root]\n",
    "    else:\n",
    "        rho = math.sqrt(-(p**3) / 27)\n",
    "        theta = math.acos(-q / (2 * rho))\n",
    "        root1 = 2 * math.sqrt(-p/3) * math.cos(theta/3) - b / (3 * a)\n",
    "        root2 = 2 * math.sqrt(-p/3) * math.cos((theta/3) + (2 * math.pi / 3)) - b / (3 * a)\n",
    "        root3 = 2 * math.sqrt(-p/3) * math.cos((theta/3) + (4 * math.pi / 3)) - b / (3 * a)\n",
    "        return [root1, root2, root3]\n",
    "\n",
    "# Input coefficients a, b, c, and d from the user\n",
    "a = float(input(\"Enter coefficient a: \"))\n",
    "b = float(input(\"Enter coefficient b: \"))\n",
    "c = float(input(\"Enter coefficient c: \"))\n",
    "d = float(input(\"Enter coefficient d: \"))\n",
    "\n",
    "# Calculate the roots of the cubic equation\n",
    "roots = cubic_roots(a, b, c, d)\n",
    "\n",
    "# Display the roots\n",
    "print(\"The roots of the cubic equation are:\")\n",
    "for i, root in enumerate(roots):\n",
    "    print(f\"Root {i + 1}: {root:.6f}\")\n"
   ]
  },
  {
   "cell_type": "code",
   "execution_count": null,
   "id": "4d23e810-7007-448e-a4c2-2cfd62172c09",
   "metadata": {},
   "outputs": [],
   "source": [
    "#**********************************Advanced Level:***********************"
   ]
  },
  {
   "cell_type": "code",
   "execution_count": 52,
   "id": "f8b0ce69-7c01-4020-a70b-26d1899f250f",
   "metadata": {},
   "outputs": [
    {
     "name": "stdin",
     "output_type": "stream",
     "text": [
      "Enter your annual income in INR:  152006\n"
     ]
    },
    {
     "name": "stdout",
     "output_type": "stream",
     "text": [
      "Your income tax for an income of ₹152006.00 is ₹0.00\n"
     ]
    }
   ],
   "source": [
    "#21. Create a program that calculates the income tax based on the user's income and tax brackets.\n",
    "# Define the Indian income tax slabs and rates for individuals under 60 years of age\n",
    "tax_slabs = [(2.5e5, 5e5, 0.05), (5e5, 10e5, 0.2), (10e5, float(\"inf\"), 0.3)]\n",
    "\n",
    "# Input the user's annual income\n",
    "income = float(input(\"Enter your annual income in INR: \"))\n",
    "\n",
    "# Initialize the total tax\n",
    "total_tax = 0\n",
    "\n",
    "# Calculate the income tax based on tax slabs\n",
    "for slab in tax_slabs:\n",
    "    min_income, max_income, rate = slab\n",
    "    if income > max_income:\n",
    "        taxable_income = max_income - min_income\n",
    "    else:\n",
    "        taxable_income = income - min_income\n",
    "\n",
    "    if taxable_income > 0:\n",
    "        tax_amount = taxable_income * rate\n",
    "        total_tax += tax_amount\n",
    "        income -= taxable_income\n",
    "\n",
    "# Display the calculated income tax\n",
    "print(f\"Your income tax for an income of ₹{income:.2f} is ₹{total_tax:.2f}\")\n"
   ]
  },
  {
   "cell_type": "code",
   "execution_count": 53,
   "id": "43fa1551-ab7d-4582-a781-72f7ddc2e2b1",
   "metadata": {},
   "outputs": [
    {
     "name": "stdout",
     "output_type": "stream",
     "text": [
      "\n",
      "Rock, Paper, Scissors Game\n",
      "1. Rock\n",
      "2. Paper\n",
      "3. Scissors\n",
      "4. Quit\n"
     ]
    },
    {
     "name": "stdin",
     "output_type": "stream",
     "text": [
      "Enter your choice (1/2/3/4):  4\n"
     ]
    },
    {
     "name": "stdout",
     "output_type": "stream",
     "text": [
      "Thanks for playing! Goodbye!\n"
     ]
    }
   ],
   "source": [
    "#22. Write a program that simulates a rock-paper-scissors game against the computer.\n",
    "import random\n",
    "\n",
    "# Function to get the computer's choice\n",
    "def get_computer_choice():\n",
    "    choices = [\"rock\", \"paper\", \"scissors\"]\n",
    "    return random.choice(choices)\n",
    "\n",
    "# Function to determine the game result\n",
    "def determine_result(player_choice, computer_choice):\n",
    "    if player_choice == computer_choice:\n",
    "        return \"It's a tie!\"\n",
    "    elif (\n",
    "        (player_choice == \"rock\" and computer_choice == \"scissors\") or\n",
    "        (player_choice == \"paper\" and computer_choice == \"rock\") or\n",
    "        (player_choice == \"scissors\" and computer_choice == \"paper\")\n",
    "    ):\n",
    "        return \"You win!\"\n",
    "    else:\n",
    "        return \"Computer wins!\"\n",
    "\n",
    "# Main game loop\n",
    "while True:\n",
    "    print(\"\\nRock, Paper, Scissors Game\")\n",
    "    print(\"1. Rock\")\n",
    "    print(\"2. Paper\")\n",
    "    print(\"3. Scissors\")\n",
    "    print(\"4. Quit\")\n",
    "    \n",
    "    player_choice = input(\"Enter your choice (1/2/3/4): \")\n",
    "    \n",
    "    if player_choice == '4':\n",
    "        print(\"Thanks for playing! Goodbye!\")\n",
    "        break\n",
    "    \n",
    "    if player_choice not in ['1', '2', '3']:\n",
    "        print(\"Invalid choice. Please select a valid option (1/2/3/4).\")\n",
    "        continue\n",
    "    \n",
    "    player_choice = int(player_choice)\n",
    "    choices = [\"rock\", \"paper\", \"scissors\"]\n",
    "    player_choice -= 1  # Adjust the choice to match the list index\n",
    "    \n",
    "    player_choice = choices[player_choice]\n",
    "    computer_choice = get_computer_choice()\n",
    "    \n",
    "    print(f\"You chose: {player_choice}\")\n",
    "    print(f\"Computer chose: {computer_choice}\")\n",
    "    \n",
    "    result = determine_result(player_choice, computer_choice)\n",
    "    print(result)\n"
   ]
  },
  {
   "cell_type": "code",
   "execution_count": 54,
   "id": "fc08fa8b-5328-4f7a-850a-b558913f31c4",
   "metadata": {},
   "outputs": [
    {
     "name": "stdin",
     "output_type": "stream",
     "text": [
      "Enter the desired password length:  9\n",
      "Use lowercase letters? (yes/no):  yes\n",
      "Use uppercase letters? (yes/no):  yes\n",
      "Use digits? (yes/no):  yes\n",
      "Use special characters? (yes/no):  yes\n"
     ]
    },
    {
     "name": "stdout",
     "output_type": "stream",
     "text": [
      "Generated Password: /Na`CiP3m\n"
     ]
    }
   ],
   "source": [
    "#23. Develop a program that generates a random password based on user preferences (length, complexity).\n",
    "import random\n",
    "import string\n",
    "\n",
    "# Function to generate a random password\n",
    "def generate_password(length, use_lowercase, use_uppercase, use_digits, use_special_chars):\n",
    "    characters = \"\"\n",
    "    if use_lowercase:\n",
    "        characters += string.ascii_lowercase\n",
    "    if use_uppercase:\n",
    "        characters += string.ascii_uppercase\n",
    "    if use_digits:\n",
    "        characters += string.digits\n",
    "    if use_special_chars:\n",
    "        characters += string.punctuation\n",
    "    \n",
    "    if not characters:\n",
    "        return \"Password cannot be generated. Please select at least one character type.\"\n",
    "    \n",
    "    password = ''.join(random.choice(characters) for _ in range(length))\n",
    "    return password\n",
    "\n",
    "# Input user preferences\n",
    "length = int(input(\"Enter the desired password length: \"))\n",
    "use_lowercase = input(\"Use lowercase letters? (yes/no): \").lower() == 'yes'\n",
    "use_uppercase = input(\"Use uppercase letters? (yes/no): \").lower() == 'yes'\n",
    "use_digits = input(\"Use digits? (yes/no): \").lower() == 'yes'\n",
    "use_special_chars = input(\"Use special characters? (yes/no): \").lower() == 'yes'\n",
    "\n",
    "# Generate the password based on preferences\n",
    "password = generate_password(length, use_lowercase, use_uppercase, use_digits, use_special_chars)\n",
    "\n",
    "# Display the generated password\n",
    "print(f\"Generated Password: {password}\")\n"
   ]
  },
  {
   "cell_type": "code",
   "execution_count": 55,
   "id": "663157f0-c331-4c58-a7dc-63c7543764dc",
   "metadata": {},
   "outputs": [
    {
     "name": "stdout",
     "output_type": "stream",
     "text": [
      "Welcome to the Text-Based Adventure Game!\n",
      "\n",
      "You find yourself in a dark forest. You have two paths in front of you.\n",
      "\n",
      "Options:\n",
      "1. Take the left path.\n",
      "2. Take the right path.\n"
     ]
    },
    {
     "name": "stdin",
     "output_type": "stream",
     "text": [
      "Enter your choice (1/2/...):  1\n"
     ]
    },
    {
     "name": "stdout",
     "output_type": "stream",
     "text": [
      "\n",
      "You come across a river. Do you swim across or find a bridge?\n",
      "\n",
      "Options:\n",
      "1. Swim across.\n",
      "2. Find a bridge.\n"
     ]
    },
    {
     "name": "stdin",
     "output_type": "stream",
     "text": [
      "Enter your choice (1/2/...):  2\n"
     ]
    },
    {
     "name": "stdout",
     "output_type": "stream",
     "text": [
      "\n",
      "You search for a bridge but can't find one. You decide to swim, but it's too risky.\n",
      "You get swept away by the current and find yourself back at the start.\n",
      "\n",
      "Thanks for playing the Text-Based Adventure Game!\n"
     ]
    }
   ],
   "source": [
    "#24. Create a program that implements a simple text-based adventure game with branching scenarios.\n",
    "# Function to get player's choice\n",
    "def get_choice(options):\n",
    "    while True:\n",
    "        print(\"\\nOptions:\")\n",
    "        for i, option in enumerate(options, start=1):\n",
    "            print(f\"{i}. {option}\")\n",
    "        \n",
    "        choice = input(\"Enter your choice (1/2/...): \")\n",
    "        \n",
    "        if choice.isdigit() and 1 <= int(choice) <= len(options):\n",
    "            return int(choice)\n",
    "        else:\n",
    "            print(\"Invalid choice. Please select a valid option.\")\n",
    "\n",
    "# Start of the adventure game\n",
    "print(\"Welcome to the Text-Based Adventure Game!\")\n",
    "\n",
    "print(\"\\nYou find yourself in a dark forest. You have two paths in front of you.\")\n",
    "choice1 = get_choice([\"Take the left path.\", \"Take the right path.\"])\n",
    "\n",
    "if choice1 == 1:\n",
    "    print(\"\\nYou come across a river. Do you swim across or find a bridge?\")\n",
    "    choice2 = get_choice([\"Swim across.\", \"Find a bridge.\"])\n",
    "    \n",
    "    if choice2 == 1:\n",
    "        print(\"\\nYou swim across the river and reach the other side safely.\")\n",
    "        print(\"You have successfully crossed the river!\")\n",
    "    else:\n",
    "        print(\"\\nYou search for a bridge but can't find one. You decide to swim, but it's too risky.\")\n",
    "        print(\"You get swept away by the current and find yourself back at the start.\")\n",
    "else:\n",
    "    print(\"\\nYou encounter a pack of wolves. What do you do?\")\n",
    "    choice3 = get_choice([\"Run away.\", \"Try to scare them off.\"])\n",
    "    \n",
    "    if choice3 == 1:\n",
    "        print(\"\\nYou run as fast as you can and manage to escape the wolves.\")\n",
    "        print(\"You have successfully escaped the wolves!\")\n",
    "    else:\n",
    "        print(\"\\nYou make loud noises and try to scare the wolves, but they surround you.\")\n",
    "        print(\"You are outnumbered and can't scare them off.\")\n",
    "        print(\"Unfortunately, the wolves attack, and you don't survive the encounter.\")\n",
    "\n",
    "print(\"\\nThanks for playing the Text-Based Adventure Game!\")\n"
   ]
  },
  {
   "cell_type": "code",
   "execution_count": 56,
   "id": "fe187bce-8732-44c5-8f47-96d11ce72226",
   "metadata": {},
   "outputs": [
    {
     "name": "stdin",
     "output_type": "stream",
     "text": [
      "Enter coefficient a:  4\n",
      "Enter coefficient b:  -2\n"
     ]
    },
    {
     "name": "stdout",
     "output_type": "stream",
     "text": [
      "The solution is x = 0.50\n"
     ]
    }
   ],
   "source": [
    "#25. Build a program that solves a linear equation  for x, considering different cases.\n",
    "# Input coefficients a and b from the user\n",
    "a = float(input(\"Enter coefficient a: \"))\n",
    "b = float(input(\"Enter coefficient b: \"))\n",
    "\n",
    "# Case 1: If a is 0, it's not a linear equation\n",
    "if a == 0:\n",
    "    if b == 0:\n",
    "        print(\"Infinite solutions: 0 = 0\")\n",
    "    else:\n",
    "        print(\"No solution: 0 != b\")\n",
    "else:\n",
    "    # Case 2: If b is 0, x is 0\n",
    "    if b == 0:\n",
    "        print(\"The solution is x = 0\")\n",
    "    else:\n",
    "        # Case 3: If both a and b are nonzero, solve for x\n",
    "        x = -b / a\n",
    "        print(f\"The solution is x = {x:.2f}\")\n"
   ]
  },
  {
   "cell_type": "code",
   "execution_count": 57,
   "id": "b704420e-ca8b-46c8-b331-3886f17fca41",
   "metadata": {},
   "outputs": [
    {
     "name": "stdout",
     "output_type": "stream",
     "text": [
      "Welcome to the Quiz Game!\n",
      "\n",
      "Question 1: What is the capital of France?\n",
      "A. London\n",
      "B. Berlin\n",
      "C. Paris\n",
      "D. Madrid\n"
     ]
    },
    {
     "name": "stdin",
     "output_type": "stream",
     "text": [
      "Enter your answer (A/B/C/D):  a\n"
     ]
    },
    {
     "name": "stdout",
     "output_type": "stream",
     "text": [
      "Wrong! The correct answer is C.\n",
      "\n",
      "Question 2: Which planet is known as the Red Planet?\n",
      "A. Earth\n",
      "B. Mars\n",
      "C. Jupiter\n",
      "D. Venus\n"
     ]
    },
    {
     "name": "stdin",
     "output_type": "stream",
     "text": [
      "Enter your answer (A/B/C/D):  b\n"
     ]
    },
    {
     "name": "stdout",
     "output_type": "stream",
     "text": [
      "Correct!\n",
      "\n",
      "Question 3: What is the largest mammal in the world?\n",
      "A. Elephant\n",
      "B. Blue Whale\n",
      "C. Giraffe\n",
      "D. Lion\n"
     ]
    },
    {
     "name": "stdin",
     "output_type": "stream",
     "text": [
      "Enter your answer (A/B/C/D):  c\n"
     ]
    },
    {
     "name": "stdout",
     "output_type": "stream",
     "text": [
      "Wrong! The correct answer is B.\n",
      "\n",
      "Your final score is: 1/3\n"
     ]
    }
   ],
   "source": [
    "# 26. Write a program that simulates a basic quiz game with multiple-choice questions and scoring.\n",
    "\n",
    "# Define quiz questions and answers\n",
    "questions = [\n",
    "    {\n",
    "        \"question\": \"What is the capital of France?\",\n",
    "        \"choices\": [\"A. London\", \"B. Berlin\", \"C. Paris\", \"D. Madrid\"],\n",
    "        \"correct_answer\": \"C\"\n",
    "    },\n",
    "    {\n",
    "        \"question\": \"Which planet is known as the Red Planet?\",\n",
    "        \"choices\": [\"A. Earth\", \"B. Mars\", \"C. Jupiter\", \"D. Venus\"],\n",
    "        \"correct_answer\": \"B\"\n",
    "    },\n",
    "    {\n",
    "        \"question\": \"What is the largest mammal in the world?\",\n",
    "        \"choices\": [\"A. Elephant\", \"B. Blue Whale\", \"C. Giraffe\", \"D. Lion\"],\n",
    "        \"correct_answer\": \"B\"\n",
    "    }\n",
    "]\n",
    "\n",
    "# Initialize the score\n",
    "score = 0\n",
    "\n",
    "# Function to display questions and get user's answers\n",
    "def take_quiz(questions):\n",
    "    for i, question in enumerate(questions, start=1):\n",
    "        print(f\"\\nQuestion {i}: {question['question']}\")\n",
    "        for choice in question['choices']:\n",
    "            print(choice)\n",
    "        \n",
    "        user_answer = input(\"Enter your answer (A/B/C/D): \").upper()\n",
    "        \n",
    "        if user_answer == question['correct_answer']:\n",
    "            print(\"Correct!\")\n",
    "            global score\n",
    "            score += 1\n",
    "        else:\n",
    "            print(f\"Wrong! The correct answer is {question['correct_answer']}.\")\n",
    "\n",
    "# Start the quiz\n",
    "print(\"Welcome to the Quiz Game!\")\n",
    "\n",
    "take_quiz(questions)\n",
    "\n",
    "# Display the final score\n",
    "print(f\"\\nYour final score is: {score}/{len(questions)}\")\n"
   ]
  },
  {
   "cell_type": "code",
   "execution_count": 58,
   "id": "24c0fef6-3041-4ee3-b129-2ce380912b37",
   "metadata": {},
   "outputs": [
    {
     "name": "stdin",
     "output_type": "stream",
     "text": [
      "Enter a year:  1556\n"
     ]
    },
    {
     "name": "stdout",
     "output_type": "stream",
     "text": [
      "1556 is not a prime year.\n"
     ]
    }
   ],
   "source": [
    "#27. Develop a program that determines whether a given year is a prime number or not.\n",
    "# Function to check if a number is prime\n",
    "def is_prime(year):\n",
    "    if year <= 1:\n",
    "        return False\n",
    "    elif year == 2:\n",
    "        return True\n",
    "    elif year % 2 == 0:\n",
    "        return False\n",
    "    else:\n",
    "        for i in range(3, int(year**0.5) + 1, 2):\n",
    "            if year % i == 0:\n",
    "                return False\n",
    "        return True\n",
    "\n",
    "# Input the year from the user\n",
    "year = int(input(\"Enter a year: \"))\n",
    "\n",
    "# Check if the year is prime\n",
    "if is_prime(year):\n",
    "    print(f\"{year} is a prime year.\")\n",
    "else:\n",
    "    print(f\"{year} is not a prime year.\")\n"
   ]
  },
  {
   "cell_type": "code",
   "execution_count": 59,
   "id": "163fcb38-7271-4fd2-8b3a-f268e78555ef",
   "metadata": {},
   "outputs": [
    {
     "name": "stdin",
     "output_type": "stream",
     "text": [
      "Enter the first number:  15\n",
      "Enter the second number:  26\n",
      "Enter the third number:  35\n"
     ]
    },
    {
     "name": "stdout",
     "output_type": "stream",
     "text": [
      "Numbers in ascending order: [15.0, 26.0, 35.0]\n"
     ]
    }
   ],
   "source": [
    "#28. Create a program that sorts three numbers in ascending order using conditional statements\n",
    "# Input three numbers from the user\n",
    "num1 = float(input(\"Enter the first number: \"))\n",
    "num2 = float(input(\"Enter the second number: \"))\n",
    "num3 = float(input(\"Enter the third number: \"))\n",
    "\n",
    "# Use conditional statements to sort the numbers\n",
    "if num1 <= num2 <= num3:\n",
    "    sorted_numbers = [num1, num2, num3]\n",
    "elif num1 <= num3 <= num2:\n",
    "    sorted_numbers = [num1, num3, num2]\n",
    "elif num2 <= num1 <= num3:\n",
    "    sorted_numbers = [num2, num1, num3]\n",
    "elif num2 <= num3 <= num1:\n",
    "    sorted_numbers = [num2, num3, num1]\n",
    "elif num3 <= num1 <= num2:\n",
    "    sorted_numbers = [num3, num1, num2]\n",
    "else:\n",
    "    sorted_numbers = [num3, num2, num1]\n",
    "\n",
    "# Display the sorted numbers\n",
    "print(\"Numbers in ascending order:\", sorted_numbers)\n"
   ]
  },
  {
   "cell_type": "code",
   "execution_count": 60,
   "id": "580be6e2-988d-487c-8e41-f4ecfc751e86",
   "metadata": {},
   "outputs": [
    {
     "name": "stdout",
     "output_type": "stream",
     "text": [
      "Root 1: -1.00000\n",
      "Root 2: 0.26795\n",
      "Root 3: -1.00000\n",
      "Root 4: -1.00000\n"
     ]
    }
   ],
   "source": [
    "#29. Build a program that determines the roots of a quartic equation using numerical methods.\n",
    "import numpy as np\n",
    "from scipy.optimize import root\n",
    "\n",
    "# Define the quartic equation as a function\n",
    "def quartic_eq(x):\n",
    "    return x**4 - 5*x**3 + 3*x**2 + 7*x - 2\n",
    "\n",
    "# Use the root function from scipy.optimize to find the roots\n",
    "initial_guesses = [-2.0, 0.0, 1.0, 3.0]  # Initial guesses for the roots\n",
    "roots = []\n",
    "\n",
    "for guess in initial_guesses:\n",
    "    result = root(quartic_eq, guess)\n",
    "    if result.success:\n",
    "        roots.append(result.x[0])\n",
    "\n",
    "# Display the approximate roots\n",
    "for i, root in enumerate(roots):\n",
    "    print(f\"Root {i+1}: {root:.5f}\")\n"
   ]
  },
  {
   "cell_type": "code",
   "execution_count": 20,
   "id": "9240fa3c-b5d0-4c7e-a91d-dbcc4f90ae41",
   "metadata": {},
   "outputs": [
    {
     "name": "stdin",
     "output_type": "stream",
     "text": [
      "Enter your weight in kilograms:  64\n",
      "Enter your height in meters:  1.67\n"
     ]
    },
    {
     "name": "stdout",
     "output_type": "stream",
     "text": [
      "Your BMI is: 22.95\n",
      "You have a healthy weight. Keep up the good work!\n"
     ]
    }
   ],
   "source": [
    "#30. Write a program that calculates the BMI (Body Mass Index) and provides health recommendations based\n",
    "#on the user's input.\n",
    "# Function to calculate BMI\n",
    "def calculate_bmi(weight_kg, height_m):\n",
    "    return weight_kg / (height_m ** 2)\n",
    "\n",
    "# Function to provide health recommendations\n",
    "def get_health_recommendations(bmi):\n",
    "    if bmi < 18.5:\n",
    "        return \"You are underweight. Consider gaining some weight through a balanced diet.\"\n",
    "    elif 18.5 <= bmi < 24.9:\n",
    "        return \"You have a healthy weight. Keep up the good work!\"\n",
    "    elif 24.9 <= bmi < 29.9:\n",
    "        return \"You are overweight. Consider losing some weight through diet and exercise.\"\n",
    "    else:\n",
    "        return \"You are obese. It's important to consult a healthcare professional for guidance.\"\n",
    "\n",
    "# Input weight (in kilograms) and height (in meters) from the user\n",
    "weight_kg = float(input(\"Enter your weight in kilograms: \"))\n",
    "height_m = float(input(\"Enter your height in meters: \"))\n",
    "\n",
    "# Calculate BMI\n",
    "bmi = calculate_bmi(weight_kg, height_m)\n",
    "\n",
    "# Display BMI and health recommendations\n",
    "print(f\"Your BMI is: {bmi:.2f}\")\n",
    "recommendations = get_health_recommendations(bmi)\n",
    "print(recommendations)\n"
   ]
  },
  {
   "cell_type": "code",
   "execution_count": 1,
   "id": "968711ce-3556-4021-be37-8bbda37d95e6",
   "metadata": {},
   "outputs": [
    {
     "name": "stdout",
     "output_type": "stream",
     "text": [
      "'StrongP@ssw0rd' is a valid password.\n",
      "'weaker123' is not a valid password.\n",
      "'Short!' is not a valid password.\n",
      "'AnotherStr0ngP@ssw0rd' is not a valid password.\n"
     ]
    }
   ],
   "source": [
    "#31. Create a program that validates a password based on complexity rules (length, characters, etc.).\n",
    "import re\n",
    "\n",
    "def is_valid_password(password):\n",
    "    # Check if the password length is between 8 and 20 characters.\n",
    "    if len(password) < 8 or len(password) > 20:\n",
    "        return False\n",
    "\n",
    "    # Check if the password contains at least one uppercase letter.\n",
    "    if not re.search(r'[A-Z]', password):\n",
    "        return False\n",
    "\n",
    "    # Check if the password contains at least one lowercase letter.\n",
    "    if not re.search(r'[a-z]', password):\n",
    "        return False\n",
    "\n",
    "    # Check if the password contains at least one digit (0-9).\n",
    "    if not re.search(r'\\d', password):\n",
    "        return False\n",
    "\n",
    "    # Check if the password contains at least one special character.\n",
    "    if not re.search(r'[!@#$%^&*()_+{}\\[\\]:;<>,.?~\\\\\\-]', password):\n",
    "        return False\n",
    "\n",
    "    # If all checks pass, the password is valid.\n",
    "    return True\n",
    "\n",
    "# Test the program with some passwords.\n",
    "passwords_to_check = [\n",
    "    \"StrongP@ssw0rd\",\n",
    "    \"weaker123\",\n",
    "    \"Short!\",\n",
    "    \"AnotherStr0ngP@ssw0rd\",\n",
    "]\n",
    "\n",
    "for password in passwords_to_check:\n",
    "    if is_valid_password(password):\n",
    "        print(f\"'{password}' is a valid password.\")\n",
    "    else:\n",
    "        print(f\"'{password}' is not a valid password.\")\n"
   ]
  },
  {
   "cell_type": "code",
   "execution_count": null,
   "id": "152f2fdc-d93f-4e07-89aa-d0fa7a8bffb5",
   "metadata": {},
   "outputs": [],
   "source": [
    "# 32. Develop a program that performs matrix addition and subtraction based on user input.\n",
    "def read_matrix(rows, cols):\n",
    "    matrix = []\n",
    "    for i in range(rows):\n",
    "        row = []\n",
    "        for j in range(cols):\n",
    "            element = float(input(f\"Enter element at position ({i + 1},{j + 1}): \"))\n",
    "            row.append(element)\n",
    "        matrix.append(row)\n",
    "    return matrix\n",
    "\n",
    "def print_matrix(matrix):\n",
    "    for row in matrix:\n",
    "        print(\" \".join(map(str, row)))\n",
    "\n",
    "def add_matrices(matrix1, matrix2):\n",
    "    result = []\n",
    "    for i in range(len(matrix1)):\n",
    "        row = []\n",
    "        for j in range(len(matrix1[0])):\n",
    "            row.append(matrix1[i][j] + matrix2[i][j])\n",
    "        result.append(row)\n",
    "    return result\n",
    "\n",
    "def subtract_matrices(matrix1, matrix2):\n",
    "    result = []\n",
    "    for i in range(len(matrix1)):\n",
    "        row = []\n",
    "        for j in range(len(matrix1[0])):\n",
    "            row.append(matrix1[i][j] - matrix2[i][j])\n",
    "        result.append(row)\n",
    "    return result\n",
    "\n",
    "rows = int(input(\"Enter the number of rows: \"))\n",
    "cols = int(input(\"Enter the number of columns: \"))\n",
    "\n",
    "print(\"Enter elements for the first matrix:\")\n",
    "matrix1 = read_matrix(rows, cols)\n",
    "\n",
    "print(\"Enter elements for the second matrix:\")\n",
    "matrix2 = read_matrix(rows, cols)\n",
    "\n",
    "print(\"Matrix 1:\")\n",
    "print_matrix(matrix1)\n",
    "\n",
    "print(\"Matrix 2:\")\n",
    "print_matrix(matrix2)\n",
    "\n",
    "add_result = add_matrices(matrix1, matrix2)\n",
    "print(\"Matrix Addition Result:\")\n",
    "print_matrix(add_result)\n",
    "\n",
    "subtract_result = subtract_matrices(matrix1, matrix2)\n",
    "print(\"Matrix Subtraction Result:\")\n",
    "print_matrix(subtract_result)\n"
   ]
  },
  {
   "cell_type": "code",
   "execution_count": 1,
   "id": "d7b3e63d-6502-4c26-8e8d-73d9391751ec",
   "metadata": {},
   "outputs": [
    {
     "name": "stdin",
     "output_type": "stream",
     "text": [
      "Enter the first number:  23\n",
      "Enter the second number:  43\n"
     ]
    },
    {
     "name": "stdout",
     "output_type": "stream",
     "text": [
      "The GCD of 23 and 43 is 1\n"
     ]
    }
   ],
   "source": [
    "\n",
    "#33. Write a program that calculates the greatest common divisor (GCD) of two numbers using the Euclidean algorithm.\n",
    "def gcd_euclidean(a, b):\n",
    "    while b:\n",
    "        a, b = b, a % b\n",
    "    return a\n",
    "\n",
    "# Input two numbers from the user\n",
    "num1 = int(input(\"Enter the first number: \"))\n",
    "num2 = int(input(\"Enter the second number: \"))\n",
    "\n",
    "# Calculate the GCD using the Euclidean algorithm\n",
    "gcd = gcd_euclidean(num1, num2)\n",
    "\n",
    "# Print the result\n",
    "print(f\"The GCD of {num1} and {num2} is {gcd}\")\n"
   ]
  },
  {
   "cell_type": "code",
   "execution_count": 2,
   "id": "c7996e7d-5a1d-44ef-b40c-21ceab7051f7",
   "metadata": {},
   "outputs": [
    {
     "name": "stdin",
     "output_type": "stream",
     "text": [
      "Enter the number of rows for Matrix1:  2\n",
      "Enter the number of columns for Matrix1:  2\n",
      "Enter the number of rows for Matrix2:  2\n",
      "Enter the number of columns for Matrix2:  3\n"
     ]
    },
    {
     "name": "stdout",
     "output_type": "stream",
     "text": [
      "Enter elements for Matrix1:\n"
     ]
    },
    {
     "name": "stdin",
     "output_type": "stream",
     "text": [
      "Enter element at position (1,1):  1\n",
      "Enter element at position (1,2):  2\n",
      "Enter element at position (2,1):  3\n",
      "Enter element at position (2,2):  4\n"
     ]
    },
    {
     "name": "stdout",
     "output_type": "stream",
     "text": [
      "Enter elements for Matrix2:\n"
     ]
    },
    {
     "name": "stdin",
     "output_type": "stream",
     "text": [
      "Enter element at position (1,1):  1\n",
      "Enter element at position (1,2):  2\n",
      "Enter element at position (1,3):  3\n",
      "Enter element at position (2,1):  4\n",
      "Enter element at position (2,2):  5\n",
      "Enter element at position (2,3):  6\n"
     ]
    },
    {
     "name": "stdout",
     "output_type": "stream",
     "text": [
      "Matrix1:\n",
      "[1.0, 2.0]\n",
      "[3.0, 4.0]\n",
      "Matrix2:\n",
      "[1.0, 2.0, 3.0]\n",
      "[4.0, 5.0, 6.0]\n",
      "Matrix Multiplication Result:\n",
      "[9.0, 12.0, 15.0]\n",
      "[19.0, 26.0, 33.0]\n"
     ]
    }
   ],
   "source": [
    "\n",
    "#34. Build a program that performs matrix multiplication using nested loops and conditional statements\n",
    "def matrix_multiply(matrix1, matrix2):\n",
    "    # Check if matrix multiplication is possible\n",
    "    if len(matrix1[0]) != len(matrix2):\n",
    "        raise ValueError(\"Matrix multiplication is not possible. Number of columns in Matrix1 must be equal to the number of rows in Matrix2.\")\n",
    "\n",
    "    # Initialize the result matrix with zeros\n",
    "    result = []\n",
    "    for i in range(len(matrix1)):\n",
    "        row = []\n",
    "        for j in range(len(matrix2[0])):\n",
    "            row.append(0)\n",
    "        result.append(row)\n",
    "\n",
    "    # Perform matrix multiplication\n",
    "    for i in range(len(matrix1)):\n",
    "        for j in range(len(matrix2[0])):\n",
    "            for k in range(len(matrix2)):\n",
    "                result[i][j] += matrix1[i][k] * matrix2[k][j]\n",
    "\n",
    "    return result\n",
    "\n",
    "# Input the dimensions of the matrices from the user\n",
    "rows1 = int(input(\"Enter the number of rows for Matrix1: \"))\n",
    "cols1 = int(input(\"Enter the number of columns for Matrix1: \"))\n",
    "\n",
    "rows2 = int(input(\"Enter the number of rows for Matrix2: \"))\n",
    "cols2 = int(input(\"Enter the number of columns for Matrix2: \"))\n",
    "\n",
    "# Check if matrix multiplication is possible\n",
    "if cols1 != rows2:\n",
    "    print(\"Matrix multiplication is not possible. Number of columns in Matrix1 must be equal to the number of rows in Matrix2.\")\n",
    "else:\n",
    "    print(\"Enter elements for Matrix1:\")\n",
    "    matrix1 = []\n",
    "    for i in range(rows1):\n",
    "        row = []\n",
    "        for j in range(cols1):\n",
    "            element = float(input(f\"Enter element at position ({i + 1},{j + 1}): \"))\n",
    "            row.append(element)\n",
    "        matrix1.append(row)\n",
    "\n",
    "    print(\"Enter elements for Matrix2:\")\n",
    "    matrix2 = []\n",
    "    for i in range(rows2):\n",
    "        row = []\n",
    "        for j in range(cols2):\n",
    "            element = float(input(f\"Enter element at position ({i + 1},{j + 1}): \"))\n",
    "            row.append(element)\n",
    "        matrix2.append(row)\n",
    "\n",
    "    # Perform matrix multiplication\n",
    "    result_matrix = matrix_multiply(matrix1, matrix2)\n",
    "\n",
    "    # Print the result\n",
    "    print(\"Matrix1:\")\n",
    "    for row in matrix1:\n",
    "        print(row)\n",
    "\n",
    "    print(\"Matrix2:\")\n",
    "    for row in matrix2:\n",
    "        print(row)\n",
    "\n",
    "    print(\"Matrix Multiplication Result:\")\n",
    "    for row in result_matrix:\n",
    "        print(row)\n"
   ]
  },
  {
   "cell_type": "code",
   "execution_count": 4,
   "id": "533d3d4c-fa17-4c7f-82c1-c0745198b3ac",
   "metadata": {},
   "outputs": [
    {
     "name": "stdout",
     "output_type": "stream",
     "text": [
      "-------------\n",
      "|   |   |   |\n",
      "-------------\n",
      "|   |   |   |\n",
      "-------------\n",
      "|   |   |   |\n",
      "-------------\n"
     ]
    },
    {
     "name": "stdin",
     "output_type": "stream",
     "text": [
      "Enter your move (1-9):  5\n"
     ]
    },
    {
     "name": "stdout",
     "output_type": "stream",
     "text": [
      "Computer's move: 8\n",
      "-------------\n",
      "|   |   |   |\n",
      "-------------\n",
      "|   | X |   |\n",
      "-------------\n",
      "|   | O |   |\n",
      "-------------\n"
     ]
    },
    {
     "name": "stdin",
     "output_type": "stream",
     "text": [
      "Enter your move (1-9):  6\n"
     ]
    },
    {
     "name": "stdout",
     "output_type": "stream",
     "text": [
      "Computer's move: 2\n",
      "-------------\n",
      "|   | O |   |\n",
      "-------------\n",
      "|   | X | X |\n",
      "-------------\n",
      "|   | O |   |\n",
      "-------------\n"
     ]
    },
    {
     "name": "stdin",
     "output_type": "stream",
     "text": [
      "Enter your move (1-9):  4\n"
     ]
    },
    {
     "name": "stdout",
     "output_type": "stream",
     "text": [
      "-------------\n",
      "|   | O |   |\n",
      "-------------\n",
      "| X | X | X |\n",
      "-------------\n",
      "|   | O |   |\n",
      "-------------\n",
      "Congratulations! You win!\n"
     ]
    }
   ],
   "source": [
    "#35. Create a program that simulates a basic text-based tic-tac-toe game against the computer.\n",
    "import random\n",
    "\n",
    "# Initialize the Tic-Tac-Toe board\n",
    "board = [\" \" for _ in range(9)]\n",
    "\n",
    "# Function to print the Tic-Tac-Toe board\n",
    "def print_board(board):\n",
    "    print(\"-------------\")\n",
    "    for i in range(0, 9, 3):\n",
    "        print(\"|\", board[i], \"|\", board[i + 1], \"|\", board[i + 2], \"|\")\n",
    "        print(\"-------------\")\n",
    "\n",
    "# Function to check for a win\n",
    "def check_win(board, player):\n",
    "    win_conditions = [(0, 1, 2), (3, 4, 5), (6, 7, 8), (0, 3, 6), (1, 4, 7), (2, 5, 8), (0, 4, 8), (2, 4, 6)]\n",
    "    for condition in win_conditions:\n",
    "        if all(board[i] == player for i in condition):\n",
    "            return True\n",
    "    return False\n",
    "\n",
    "# Function to check if the board is full\n",
    "def is_board_full(board):\n",
    "    return \" \" not in board\n",
    "\n",
    "# Function for the computer's move (random)\n",
    "def computer_move(board):\n",
    "    while True:\n",
    "        move = random.randint(0, 8)\n",
    "        if board[move] == \" \":\n",
    "            return move\n",
    "\n",
    "# Main game loop\n",
    "while True:\n",
    "    print_board(board)\n",
    "\n",
    "    # Player's move\n",
    "    while True:\n",
    "        try:\n",
    "            player_move = int(input(\"Enter your move (1-9): \")) - 1\n",
    "            if 0 <= player_move <= 8 and board[player_move] == \" \":\n",
    "                board[player_move] = \"X\"\n",
    "                break\n",
    "            else:\n",
    "                print(\"Invalid move. Try again.\")\n",
    "        except ValueError:\n",
    "            print(\"Invalid input. Enter a number between 1 and 9.\")\n",
    "\n",
    "    # Check for player win\n",
    "    if check_win(board, \"X\"):\n",
    "        print_board(board)\n",
    "        print(\"Congratulations! You win!\")\n",
    "        break\n",
    "\n",
    "    # Check for a tie\n",
    "    if is_board_full(board):\n",
    "        print_board(board)\n",
    "        print(\"It's a tie!\")\n",
    "        break\n",
    "\n",
    "    # Computer's move\n",
    "    computer_move_index = computer_move(board)\n",
    "    board[computer_move_index] = \"O\"\n",
    "    print(\"Computer's move:\", computer_move_index + 1)\n",
    "\n",
    "    # Check for computer win\n",
    "    if check_win(board, \"O\"):\n",
    "        print_board(board)\n",
    "        print(\"Computer wins. You lose!\")\n",
    "        break\n",
    "\n",
    "    # Check for a tie\n",
    "    if is_board_full(board):\n",
    "        print_board(board)\n",
    "        print(\"It's a tie!\")\n",
    "        break\n"
   ]
  },
  {
   "cell_type": "code",
   "execution_count": 61,
   "id": "8536f90c-9ee8-47e8-b25f-c429a892bebd",
   "metadata": {},
   "outputs": [
    {
     "name": "stdin",
     "output_type": "stream",
     "text": [
      "Enter the number of Fibonacci terms to generate:  8\n"
     ]
    },
    {
     "name": "stdout",
     "output_type": "stream",
     "text": [
      "The first 8 Fibonacci numbers are:\n",
      "[0, 1, 1, 2, 3, 5, 8, 13]\n"
     ]
    }
   ],
   "source": [
    "#36. Write a program that generates Fibonacci numbers up to a specified term using iterative methods.\n",
    "def generate_fibonacci(n):\n",
    "    fibonacci_sequence = []\n",
    "    a, b = 0, 1\n",
    "\n",
    "    for _ in range(n):\n",
    "        fibonacci_sequence.append(a)\n",
    "        a, b = b, a + b\n",
    "\n",
    "    return fibonacci_sequence\n",
    "\n",
    "# Input the number of terms you want to generate\n",
    "n = int(input(\"Enter the number of Fibonacci terms to generate: \"))\n",
    "\n",
    "if n <= 0:\n",
    "    print(\"Please enter a positive integer.\")\n",
    "else:\n",
    "    fibonacci_sequence = generate_fibonacci(n)\n",
    "    print(f\"The first {n} Fibonacci numbers are:\")\n",
    "    print(fibonacci_sequence)\n"
   ]
  },
  {
   "cell_type": "code",
   "execution_count": 7,
   "id": "8b0cc3ab-3be4-480c-9453-ba8d5e135226",
   "metadata": {},
   "outputs": [
    {
     "name": "stdin",
     "output_type": "stream",
     "text": [
      "Enter the term number to calculate in the Fibonacci sequence:  10\n"
     ]
    },
    {
     "name": "stdout",
     "output_type": "stream",
     "text": [
      "The 10th term of the Fibonacci sequence is: 55\n"
     ]
    }
   ],
   "source": [
    "#37. Develop a program that calculates the nth term of the Fibonacci sequence using memoization.\n",
    "# Dictionary to store Fibonacci numbers that have already been calculated\n",
    "fib_cache = {}\n",
    "\n",
    "def fibonacci_with_memoization(n):\n",
    "    # Base case: Return 0 for the 0th term and 1 for the 1st term\n",
    "    if n == 0:\n",
    "        return 0\n",
    "    elif n == 1:\n",
    "        return 1\n",
    "\n",
    "    # Check if the Fibonacci number has already been calculated\n",
    "    if n in fib_cache:\n",
    "        return fib_cache[n]\n",
    "\n",
    "    # If not, calculate it recursively and store it in the cache\n",
    "    fib_cache[n] = fibonacci_with_memoization(n - 1) + fibonacci_with_memoization(n - 2)\n",
    "    return fib_cache[n]\n",
    "\n",
    "# Input the term number you want to calculate\n",
    "n = int(input(\"Enter the term number to calculate in the Fibonacci sequence: \"))\n",
    "\n",
    "if n < 0:\n",
    "    print(\"Please enter a non-negative integer.\")\n",
    "else:\n",
    "    result = fibonacci_with_memoization(n)\n",
    "    print(f\"The {n}th term of the Fibonacci sequence is: {result}\")\n"
   ]
  },
  {
   "cell_type": "code",
   "execution_count": 8,
   "id": "d33546e6-661d-4b15-8411-173491dbdef4",
   "metadata": {},
   "outputs": [
    {
     "name": "stdin",
     "output_type": "stream",
     "text": [
      "Enter the year (e.g., 2023):  2023\n",
      "Enter the month (1-12):  9\n"
     ]
    },
    {
     "name": "stdout",
     "output_type": "stream",
     "text": [
      "\n",
      "Calendar:\n",
      "   September 2023\n",
      "Mo Tu We Th Fr Sa Su\n",
      "             1  2  3\n",
      " 4  5  6  7  8  9 10\n",
      "11 12 13 14 15 16 17\n",
      "18 19 20 21 22 23 24\n",
      "25 26 27 28 29 30\n",
      "\n"
     ]
    }
   ],
   "source": [
    "#38. Create a program that generates a calendar for a given month and year using conditional statements.\n",
    "import calendar\n",
    "\n",
    "def generate_calendar(year, month):\n",
    "    cal = calendar.month(year, month)\n",
    "    return cal\n",
    "\n",
    "try:\n",
    "    year = int(input(\"Enter the year (e.g., 2023): \"))\n",
    "    month = int(input(\"Enter the month (1-12): \"))\n",
    "\n",
    "    if 1 <= month <= 12:\n",
    "        calendar_text = generate_calendar(year, month)\n",
    "        print(\"\\nCalendar:\")\n",
    "        print(calendar_text)\n",
    "    else:\n",
    "        print(\"Invalid month. Please enter a number between 1 and 12.\")\n",
    "except ValueError:\n",
    "    print(\"Invalid input. Please enter valid year and month values.\")\n"
   ]
  },
  {
   "cell_type": "code",
   "execution_count": 11,
   "id": "e0cb74a4-46fb-47c3-a3e3-a1e3b7dbd6ec",
   "metadata": {},
   "outputs": [
    {
     "name": "stdout",
     "output_type": "stream",
     "text": [
      "\n",
      "Your hand: [11, 7]\n",
      "Computer's hand: [10, '?']\n",
      "\n"
     ]
    },
    {
     "name": "stdin",
     "output_type": "stream",
     "text": [
      "Do you want to 'hit' or 'stand'?  hit\n"
     ]
    },
    {
     "name": "stdout",
     "output_type": "stream",
     "text": [
      "\n",
      "Your hand: [11, 7, 8]\n",
      "Computer's hand: [10, '?']\n",
      "\n",
      "Bust! You lose.\n",
      "\n",
      "Your hand: [11, 7, 8]\n",
      "Computer's hand: [10, 11]\n",
      "\n",
      "You busted. Computer wins.\n"
     ]
    }
   ],
   "source": [
    "#39. Build a program that simulates a basic text-based blackjack game against the computer.\n",
    "import random\n",
    "\n",
    "# Function to deal a card\n",
    "def deal_card():\n",
    "    card = random.randint(1, 11)  # Random card between 1 and 11\n",
    "    return card\n",
    "\n",
    "# Function to calculate the total value of a hand\n",
    "def calculate_hand_value(hand):\n",
    "    total = sum(hand)\n",
    "    if total <= 11 and 1 in hand:\n",
    "        total += 10  # Consider the value 1 as 11 if it doesn't bust the hand\n",
    "    return total\n",
    "\n",
    "# Function to display the player's and computer's hands\n",
    "def display_hands(player_hand, computer_hand, hide_first_card=True):\n",
    "    print(\"\\nYour hand:\", player_hand)\n",
    "    print(\"Computer's hand:\", [computer_hand[0]] + [\"?\"] * (len(computer_hand) - 1) if hide_first_card else computer_hand)\n",
    "    print()\n",
    "\n",
    "# Initialize the deck and deal initial cards\n",
    "deck = [2, 3, 4, 5, 6, 7, 8, 9, 10, 10, 10, 10, 11] * 4  # 4 decks of cards\n",
    "random.shuffle(deck)\n",
    "\n",
    "player_hand = [deal_card(), deal_card()]\n",
    "computer_hand = [deal_card(), deal_card()]\n",
    "\n",
    "# Display initial hands\n",
    "display_hands(player_hand, computer_hand)\n",
    "\n",
    "# Player's turn\n",
    "while True:\n",
    "    player_total = calculate_hand_value(player_hand)\n",
    "    if player_total == 21:\n",
    "        print(\"Blackjack! You win!\")\n",
    "        break\n",
    "    elif player_total > 21:\n",
    "        print(\"Bust! You lose.\")\n",
    "        break\n",
    "\n",
    "    action = input(\"Do you want to 'hit' or 'stand'? \").strip().lower()\n",
    "    if action == 'hit':\n",
    "        player_hand.append(deal_card())\n",
    "        display_hands(player_hand, computer_hand)\n",
    "    elif action == 'stand':\n",
    "        break\n",
    "    else:\n",
    "        print(\"Invalid input. Please enter 'hit' or 'stand'.\")\n",
    "\n",
    "# Computer's turn\n",
    "while calculate_hand_value(computer_hand) < 17:\n",
    "    computer_hand.append(deal_card())\n",
    "\n",
    "# Display final hands\n",
    "display_hands(player_hand, computer_hand, hide_first_card=False)\n",
    "\n",
    "# Determine the winner\n",
    "player_total = calculate_hand_value(player_hand)\n",
    "computer_total = calculate_hand_value(computer_hand)\n",
    "\n",
    "if player_total > 21:\n",
    "    print(\"You busted. Computer wins.\")\n",
    "elif computer_total > 21:\n",
    "    print(\"Computer busted. You win!\")\n",
    "elif player_total > computer_total:\n",
    "    print(\"You win!\")\n",
    "elif computer_total > player_total:\n",
    "    print(\"Computer wins.\")\n",
    "else:\n",
    "    print(\"It's a tie!\")\n"
   ]
  },
  {
   "cell_type": "code",
   "execution_count": 3,
   "id": "295dcaf3-6709-46d3-93be-4eba4e0eb1c3",
   "metadata": {},
   "outputs": [
    {
     "name": "stdin",
     "output_type": "stream",
     "text": [
      "Enter a positive integer:  43\n"
     ]
    },
    {
     "name": "stdout",
     "output_type": "stream",
     "text": [
      "The prime factors of 43 are: 43\n"
     ]
    }
   ],
   "source": [
    "#40. Write a program that generates the prime factors of a given number using trial division.\n",
    "def prime_factors(n):\n",
    "    factors = []\n",
    "    divisor = 2\n",
    "\n",
    "    while n > 1:\n",
    "        while n % divisor == 0:\n",
    "            factors.append(divisor)\n",
    "            n //= divisor\n",
    "        divisor += 1\n",
    "\n",
    "    return factors\n",
    "\n",
    "try:\n",
    "    num = int(input(\"Enter a positive integer: \"))\n",
    "\n",
    "    if num <= 0:\n",
    "        print(\"Please enter a positive integer.\")\n",
    "    else:\n",
    "        factors = prime_factors(num)\n",
    "        if len(factors) == 0:\n",
    "            print(f\"{num} has no prime factors.\")\n",
    "        else:\n",
    "            print(f\"The prime factors of {num} are: {', '.join(map(str, factors))}\")\n",
    "except ValueError:\n",
    "    print(\"Invalid input. Please enter a valid positive integer.\")\n"
   ]
  }
 ],
 "metadata": {
  "kernelspec": {
   "display_name": "Python 3 (ipykernel)",
   "language": "python",
   "name": "python3"
  },
  "language_info": {
   "codemirror_mode": {
    "name": "ipython",
    "version": 3
   },
   "file_extension": ".py",
   "mimetype": "text/x-python",
   "name": "python",
   "nbconvert_exporter": "python",
   "pygments_lexer": "ipython3",
   "version": "3.10.8"
  }
 },
 "nbformat": 4,
 "nbformat_minor": 5
}
